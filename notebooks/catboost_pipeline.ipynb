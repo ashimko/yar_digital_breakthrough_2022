{
 "cells": [
  {
   "cell_type": "code",
   "execution_count": 1,
   "metadata": {},
   "outputs": [],
   "source": [
    "import sys\n",
    "sys.path.insert(0, \"..\")\n",
    "import config as cfg"
   ]
  },
  {
   "cell_type": "code",
   "execution_count": 2,
   "metadata": {},
   "outputs": [],
   "source": [
    "import pandas as pd\n",
    "import numpy as np\n",
    "import re\n",
    "from tqdm.notebook import tqdm\n",
    "from pycaret.classification import *\n",
    "from metrics import compute_single_col_score, get_tresholds\n",
    "from helper import make_prediction\n",
    "from sklearn.model_selection import StratifiedKFold, train_test_split\n",
    "from iterstrat.ml_stratifiers import MultilabelStratifiedKFold"
   ]
  },
  {
   "cell_type": "code",
   "execution_count": 3,
   "metadata": {},
   "outputs": [],
   "source": [
    "import catboost as cb\n",
    "import catboost.datasets as cbd\n",
    "import catboost.utils as cbu\n",
    "import hyperopt"
   ]
  },
  {
   "cell_type": "code",
   "execution_count": 4,
   "metadata": {},
   "outputs": [],
   "source": [
    "train = pd.read_pickle(cfg.PREPARED_TRAIN_DATA_PATH)\n",
    "test = pd.read_pickle(cfg.PREPARED_TEST_DATA_PATH)"
   ]
  },
  {
   "cell_type": "code",
   "execution_count": 5,
   "metadata": {},
   "outputs": [],
   "source": [
    "X_train, Y_train = train.drop(cfg.TARGETS, axis=1), train[cfg.TARGETS]"
   ]
  },
  {
   "cell_type": "code",
   "execution_count": 6,
   "metadata": {},
   "outputs": [],
   "source": [
    "pred_proba_oof = pd.DataFrame(data=np.zeros(shape=(len(train), len(cfg.TARGETS))), index=train.index, columns=cfg.TARGETS)\n",
    "pred_proba_test = pd.DataFrame(data=np.zeros(shape=(len(test), len(cfg.TARGETS))), index=test.index, columns=cfg.TARGETS)\n",
    "metrics = {}"
   ]
  },
  {
   "cell_type": "code",
   "execution_count": 7,
   "metadata": {},
   "outputs": [],
   "source": [
    "EXPERIMENT_FAMILY_NAME = 'catboost'\n",
    "EXPERIMENT_NAME = 'baseline'\n",
    "RANDOM_STATE = 77\n",
    "N_SPLITS = 5"
   ]
  },
  {
   "cell_type": "code",
   "execution_count": 8,
   "metadata": {},
   "outputs": [
    {
     "name": "stdout",
     "output_type": "stream",
     "text": [
      "Learning rate set to 0.040085\n",
      "0:\tlearn: 0.6607723\ttest: 0.6607476\tbest: 0.6607476 (0)\ttotal: 75ms\tremaining: 37.4s\n",
      "50:\tlearn: 0.3241376\ttest: 0.3418658\tbest: 0.3418658 (50)\ttotal: 1.48s\tremaining: 13s\n",
      "100:\tlearn: 0.2801015\ttest: 0.3348544\tbest: 0.3347007 (90)\ttotal: 3.83s\tremaining: 15.1s\n",
      "150:\tlearn: 0.2509167\ttest: 0.3358292\tbest: 0.3347007 (90)\ttotal: 6.23s\tremaining: 14.4s\n",
      "200:\tlearn: 0.2138397\ttest: 0.3371404\tbest: 0.3347007 (90)\ttotal: 8.87s\tremaining: 13.2s\n",
      "250:\tlearn: 0.1809710\ttest: 0.3384046\tbest: 0.3347007 (90)\ttotal: 11.5s\tremaining: 11.4s\n",
      "300:\tlearn: 0.1569166\ttest: 0.3399848\tbest: 0.3347007 (90)\ttotal: 14.1s\tremaining: 9.33s\n",
      "350:\tlearn: 0.1381803\ttest: 0.3447844\tbest: 0.3347007 (90)\ttotal: 16.7s\tremaining: 7.07s\n",
      "400:\tlearn: 0.1226959\ttest: 0.3490493\tbest: 0.3347007 (90)\ttotal: 19.2s\tremaining: 4.74s\n",
      "450:\tlearn: 0.1084380\ttest: 0.3528194\tbest: 0.3347007 (90)\ttotal: 21.8s\tremaining: 2.37s\n",
      "499:\tlearn: 0.0973348\ttest: 0.3573515\tbest: 0.3347007 (90)\ttotal: 24.3s\tremaining: 0us\n",
      "\n",
      "bestTest = 0.334700691\n",
      "bestIteration = 90\n",
      "\n",
      "Shrink model to first 91 iterations.\n",
      "Learning rate set to 0.040085\n",
      "0:\tlearn: 0.6611597\ttest: 0.6612674\tbest: 0.6612674 (0)\ttotal: 48.2ms\tremaining: 24.1s\n",
      "50:\tlearn: 0.3247999\ttest: 0.3390571\tbest: 0.3390571 (50)\ttotal: 1.43s\tremaining: 12.6s\n",
      "100:\tlearn: 0.2828815\ttest: 0.3331808\tbest: 0.3324109 (80)\ttotal: 3.75s\tremaining: 14.8s\n",
      "150:\tlearn: 0.2532312\ttest: 0.3328131\tbest: 0.3322141 (120)\ttotal: 6.17s\tremaining: 14.3s\n",
      "200:\tlearn: 0.2245239\ttest: 0.3354076\tbest: 0.3322141 (120)\ttotal: 8.77s\tremaining: 13s\n",
      "250:\tlearn: 0.1951896\ttest: 0.3398827\tbest: 0.3322141 (120)\ttotal: 11.6s\tremaining: 11.5s\n",
      "300:\tlearn: 0.1711330\ttest: 0.3434176\tbest: 0.3322141 (120)\ttotal: 14.4s\tremaining: 9.52s\n",
      "350:\tlearn: 0.1507854\ttest: 0.3470295\tbest: 0.3322141 (120)\ttotal: 17.4s\tremaining: 7.37s\n",
      "400:\tlearn: 0.1368516\ttest: 0.3520069\tbest: 0.3322141 (120)\ttotal: 20.3s\tremaining: 5.02s\n",
      "450:\tlearn: 0.1238591\ttest: 0.3541502\tbest: 0.3322141 (120)\ttotal: 23.3s\tremaining: 2.53s\n",
      "499:\tlearn: 0.1101690\ttest: 0.3584927\tbest: 0.3322141 (120)\ttotal: 26s\tremaining: 0us\n",
      "\n",
      "bestTest = 0.3322141254\n",
      "bestIteration = 120\n",
      "\n",
      "Shrink model to first 121 iterations.\n",
      "Learning rate set to 0.040085\n",
      "0:\tlearn: 0.6621332\ttest: 0.6621143\tbest: 0.6621143 (0)\ttotal: 4.83ms\tremaining: 2.41s\n",
      "50:\tlearn: 0.3249200\ttest: 0.3395300\tbest: 0.3395300 (50)\ttotal: 1.49s\tremaining: 13.1s\n",
      "100:\tlearn: 0.2782504\ttest: 0.3306323\tbest: 0.3306323 (100)\ttotal: 3.87s\tremaining: 15.3s\n",
      "150:\tlearn: 0.2462351\ttest: 0.3298237\tbest: 0.3293782 (140)\ttotal: 6.39s\tremaining: 14.8s\n",
      "200:\tlearn: 0.2162403\ttest: 0.3296479\tbest: 0.3288368 (160)\ttotal: 9.24s\tremaining: 13.7s\n",
      "250:\tlearn: 0.1885620\ttest: 0.3299154\tbest: 0.3288368 (160)\ttotal: 12.1s\tremaining: 12s\n",
      "300:\tlearn: 0.1659985\ttest: 0.3311650\tbest: 0.3288368 (160)\ttotal: 14.9s\tremaining: 9.86s\n",
      "350:\tlearn: 0.1483467\ttest: 0.3329321\tbest: 0.3288368 (160)\ttotal: 17.7s\tremaining: 7.53s\n",
      "400:\tlearn: 0.1328415\ttest: 0.3361330\tbest: 0.3288368 (160)\ttotal: 20.7s\tremaining: 5.12s\n",
      "450:\tlearn: 0.1191059\ttest: 0.3390705\tbest: 0.3288368 (160)\ttotal: 23.6s\tremaining: 2.57s\n",
      "499:\tlearn: 0.1070265\ttest: 0.3413705\tbest: 0.3288368 (160)\ttotal: 26.5s\tremaining: 0us\n",
      "\n",
      "bestTest = 0.328836824\n",
      "bestIteration = 160\n",
      "\n",
      "Shrink model to first 161 iterations.\n",
      "Learning rate set to 0.040085\n",
      "0:\tlearn: 0.6621247\ttest: 0.6618899\tbest: 0.6618899 (0)\ttotal: 19.9ms\tremaining: 9.94s\n",
      "50:\tlearn: 0.3189435\ttest: 0.3452193\tbest: 0.3452193 (50)\ttotal: 1.61s\tremaining: 14.2s\n",
      "100:\tlearn: 0.2770508\ttest: 0.3406322\tbest: 0.3406322 (100)\ttotal: 4.27s\tremaining: 16.9s\n",
      "150:\tlearn: 0.2397759\ttest: 0.3429431\tbest: 0.3400378 (110)\ttotal: 6.98s\tremaining: 16.1s\n",
      "200:\tlearn: 0.2060731\ttest: 0.3472101\tbest: 0.3400378 (110)\ttotal: 9.78s\tremaining: 14.5s\n",
      "250:\tlearn: 0.1786129\ttest: 0.3500751\tbest: 0.3400378 (110)\ttotal: 12.9s\tremaining: 12.8s\n",
      "300:\tlearn: 0.1567879\ttest: 0.3515762\tbest: 0.3400378 (110)\ttotal: 15.9s\tremaining: 10.5s\n",
      "350:\tlearn: 0.1400522\ttest: 0.3556234\tbest: 0.3400378 (110)\ttotal: 18.8s\tremaining: 7.98s\n",
      "400:\tlearn: 0.1231556\ttest: 0.3595801\tbest: 0.3400378 (110)\ttotal: 21.9s\tremaining: 5.41s\n",
      "450:\tlearn: 0.1080317\ttest: 0.3638588\tbest: 0.3400378 (110)\ttotal: 25s\tremaining: 2.71s\n",
      "499:\tlearn: 0.0966934\ttest: 0.3674249\tbest: 0.3400378 (110)\ttotal: 28.1s\tremaining: 0us\n",
      "\n",
      "bestTest = 0.3400377843\n",
      "bestIteration = 110\n",
      "\n",
      "Shrink model to first 111 iterations.\n",
      "Learning rate set to 0.040085\n",
      "0:\tlearn: 0.6619285\ttest: 0.6618861\tbest: 0.6618861 (0)\ttotal: 19.6ms\tremaining: 9.79s\n",
      "50:\tlearn: 0.3290811\ttest: 0.3417227\tbest: 0.3417227 (50)\ttotal: 1.43s\tremaining: 12.6s\n",
      "100:\tlearn: 0.2905913\ttest: 0.3325730\tbest: 0.3325730 (100)\ttotal: 4.01s\tremaining: 15.8s\n",
      "150:\tlearn: 0.2520661\ttest: 0.3333043\tbest: 0.3318526 (110)\ttotal: 6.72s\tremaining: 15.5s\n",
      "200:\tlearn: 0.2187976\ttest: 0.3362036\tbest: 0.3318526 (110)\ttotal: 9.65s\tremaining: 14.4s\n",
      "250:\tlearn: 0.1919136\ttest: 0.3376015\tbest: 0.3318526 (110)\ttotal: 12.6s\tremaining: 12.5s\n",
      "300:\tlearn: 0.1697072\ttest: 0.3400691\tbest: 0.3318526 (110)\ttotal: 16s\tremaining: 10.5s\n",
      "350:\tlearn: 0.1497467\ttest: 0.3425325\tbest: 0.3318526 (110)\ttotal: 19s\tremaining: 8.05s\n",
      "400:\tlearn: 0.1305986\ttest: 0.3440990\tbest: 0.3318526 (110)\ttotal: 22.1s\tremaining: 5.44s\n",
      "450:\tlearn: 0.1158899\ttest: 0.3471206\tbest: 0.3318526 (110)\ttotal: 25.3s\tremaining: 2.75s\n",
      "499:\tlearn: 0.1019873\ttest: 0.3518193\tbest: 0.3318526 (110)\ttotal: 28.4s\tremaining: 0us\n",
      "\n",
      "bestTest = 0.3318526096\n",
      "bestIteration = 110\n",
      "\n",
      "Shrink model to first 111 iterations.\n"
     ]
    }
   ],
   "source": [
    "cv = MultilabelStratifiedKFold(n_splits=N_SPLITS, random_state=RANDOM_STATE, shuffle=True)\n",
    "\n",
    "test_pool = cb.Pool(\n",
    "        data=test,\n",
    "        cat_features=cfg.CAT_UNORDERED_COLS)\n",
    "\n",
    "fold = 0\n",
    "for train_idx, val_idx in cv.split(X_train, Y_train):\n",
    "\n",
    "    train_pool = cb.Pool(\n",
    "        data=X_train.iloc[train_idx], \n",
    "        label=Y_train.iloc[train_idx],\n",
    "        cat_features=cfg.CAT_UNORDERED_COLS)\n",
    "\n",
    "    val_pool = cb.Pool(\n",
    "        data=X_train.iloc[val_idx], \n",
    "        label=Y_train.iloc[val_idx],\n",
    "        cat_features=cfg.CAT_UNORDERED_COLS)\n",
    "\n",
    "    clf = cb.CatBoostClassifier(\n",
    "        loss_function='MultiLogloss',\n",
    "        custom_metric=['Recall', 'F1'],\n",
    "        iterations=500,\n",
    "    )\n",
    "\n",
    "    clf.fit(train_pool, eval_set=val_pool, metric_period=10, plot=False, verbose=50)\n",
    "    \n",
    "    model_path = os.path.join(cfg.MODELS_PATH, EXPERIMENT_FAMILY_NAME, f'{EXPERIMENT_NAME}_fold_{fold}.cbm')\n",
    "    clf.save_model(model_path)\n",
    "    \n",
    "    pred_proba_oof.iloc[val_idx, :] = clf.predict_proba(val_pool)\n",
    "    pred_proba_test.iloc[:, :] += clf.predict_proba(test_pool)\n",
    "\n",
    "    fold += 1\n",
    "\n",
    "pred_proba_test /= N_SPLITS\n",
    "\n",
    "        "
   ]
  },
  {
   "cell_type": "code",
   "execution_count": 9,
   "metadata": {},
   "outputs": [
    {
     "name": "stdout",
     "output_type": "stream",
     "text": [
      "0.6834085155351219\n"
     ]
    }
   ],
   "source": [
    "tresholds = get_tresholds(train[cfg.TARGETS], pred_proba_oof)\n",
    "sample_submission = pd.read_csv(cfg.SAMPLE_SUBMISSION_PATH).set_index('ID')\n",
    "submission = make_prediction(pred_proba_test, tresholds, sample_submission)"
   ]
  },
  {
   "cell_type": "code",
   "execution_count": null,
   "metadata": {},
   "outputs": [],
   "source": [
    "# 0.6834085155351219"
   ]
  },
  {
   "cell_type": "code",
   "execution_count": 10,
   "metadata": {},
   "outputs": [],
   "source": [
    "name = f'{EXPERIMENT_NAME}.csv'\n",
    "submission.to_csv(os.path.join(cfg.SUBMISSION_PATH, EXPERIMENT_FAMILY_NAME, name))\n",
    "pred_proba_oof.to_pickle(os.path.join(cfg.OOF_PRED_PATH, EXPERIMENT_FAMILY_NAME, name))\n",
    "pred_proba_test.to_pickle(os.path.join(cfg.TEST_PRED_PATH, EXPERIMENT_FAMILY_NAME, name))"
   ]
  }
 ],
 "metadata": {
  "kernelspec": {
   "display_name": "Python 3 (ipykernel)",
   "language": "python",
   "name": "python3"
  },
  "language_info": {
   "codemirror_mode": {
    "name": "ipython",
    "version": 3
   },
   "file_extension": ".py",
   "mimetype": "text/x-python",
   "name": "python",
   "nbconvert_exporter": "python",
   "pygments_lexer": "ipython3",
   "version": "3.9.12"
  },
  "orig_nbformat": 4
 },
 "nbformat": 4,
 "nbformat_minor": 2
}
