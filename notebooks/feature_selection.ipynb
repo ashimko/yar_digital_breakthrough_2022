{
 "cells": [
  {
   "cell_type": "code",
   "execution_count": 9,
   "metadata": {},
   "outputs": [],
   "source": [
    "import sys\n",
    "sys.path.insert(0, '..')\n",
    "import config as cfg\n",
    "from metrics import *\n",
    "from helper import *\n",
    "\n",
    "import pandas as pd\n",
    "import numpy as np\n",
    "from tqdm.notebook import tqdm\n",
    "import pickle"
   ]
  },
  {
   "cell_type": "code",
   "execution_count": 10,
   "metadata": {},
   "outputs": [],
   "source": [
    "import catboost as cat\n",
    "from sklearn.feature_selection import RFECV, RFE\n",
    "from iterstrat.ml_stratifiers import MultilabelStratifiedKFold\n",
    "from sklearn.model_selection import cross_val_predict"
   ]
  },
  {
   "cell_type": "code",
   "execution_count": 11,
   "metadata": {},
   "outputs": [],
   "source": [
    "train = pd.read_pickle(cfg.PREPARED_TRAIN_DATA_PATH)\n",
    "test = pd.read_pickle(cfg.PREPARED_TEST_DATA_PATH)"
   ]
  },
  {
   "cell_type": "code",
   "execution_count": 12,
   "metadata": {},
   "outputs": [],
   "source": [
    "RANDOM_STATE = 77\n",
    "N_SPLITS = 6"
   ]
  },
  {
   "cell_type": "code",
   "execution_count": 13,
   "metadata": {},
   "outputs": [],
   "source": [
    "scorer = get_weird_pred_proba_score()\n",
    "cv = MultilabelStratifiedKFold(n_splits=N_SPLITS, random_state=RANDOM_STATE, shuffle=True)"
   ]
  },
  {
   "cell_type": "code",
   "execution_count": 14,
   "metadata": {},
   "outputs": [],
   "source": [
    "X, y = train.drop(cfg.TARGETS, axis=1), train[cfg.TARGETS]"
   ]
  },
  {
   "cell_type": "code",
   "execution_count": 15,
   "metadata": {},
   "outputs": [],
   "source": [
    "clf = cat.CatBoostClassifier(\n",
    "    n_estimators=100,\n",
    "    cat_features=cfg.CAT_UNORDERED_COLS, \n",
    "    objective='MultiLogloss',\n",
    "    silent=True)"
   ]
  },
  {
   "cell_type": "code",
   "execution_count": 16,
   "metadata": {},
   "outputs": [
    {
     "data": {
      "application/vnd.jupyter.widget-view+json": {
       "model_id": "0dd716b40efa443d8eba70f83deac3e9",
       "version_major": 2,
       "version_minor": 0
      },
      "text/plain": [
       "  0%|          | 0/37 [00:00<?, ?it/s]"
      ]
     },
     "metadata": {},
     "output_type": "display_data"
    },
    {
     "data": {
      "application/vnd.jupyter.widget-view+json": {
       "model_id": "3183121cd0374caabf2ad30ff1118d36",
       "version_major": 2,
       "version_minor": 0
      },
      "text/plain": [
       "  0%|          | 0/6 [00:00<?, ?it/s]"
      ]
     },
     "metadata": {},
     "output_type": "display_data"
    },
    {
     "name": "stdout",
     "output_type": "stream",
     "text": [
      "[0.6783808692277843, 0.6884268608612284, 0.612719779484572, 0.6803383679351017, 0.7289506374056225]\n",
      "0.6777633029828618 0.0373403989496109\n",
      "n_features 38 score 0.6404229040332509 best_score 0.6404229040332509\n"
     ]
    },
    {
     "data": {
      "application/vnd.jupyter.widget-view+json": {
       "model_id": "2334282759ed47a8b7d49cf89131d79c",
       "version_major": 2,
       "version_minor": 0
      },
      "text/plain": [
       "  0%|          | 0/6 [00:00<?, ?it/s]"
      ]
     },
     "metadata": {},
     "output_type": "display_data"
    },
    {
     "name": "stdout",
     "output_type": "stream",
     "text": [
      "[0.67534924330617, 0.6884268608612284, 0.6033933684802097, 0.6883839462027006, 0.733018668452166]\n",
      "0.6777144174604949 0.04199135109818368\n",
      "n_features 37 score 0.6357230663623112 best_score 0.6404229040332509\n"
     ]
    },
    {
     "data": {
      "application/vnd.jupyter.widget-view+json": {
       "model_id": "39c3b9a1b1e9400b9339c9936da7688e",
       "version_major": 2,
       "version_minor": 0
      },
      "text/plain": [
       "  0%|          | 0/6 [00:00<?, ?it/s]"
      ]
     },
     "metadata": {},
     "output_type": "display_data"
    },
    {
     "name": "stdout",
     "output_type": "stream",
     "text": [
      "[0.6771864086146682, 0.6977643147094221, 0.6030588487167822, 0.6889977050755189, 0.7317588342569181]\n",
      "0.679753222274662 0.0424336165284048\n",
      "n_features 35 score 0.6373196057462571 best_score 0.6404229040332509\n"
     ]
    },
    {
     "data": {
      "application/vnd.jupyter.widget-view+json": {
       "model_id": "eb3605abdff54881a5dd9e5c5d80d6a5",
       "version_major": 2,
       "version_minor": 0
      },
      "text/plain": [
       "  0%|          | 0/6 [00:00<?, ?it/s]"
      ]
     },
     "metadata": {},
     "output_type": "display_data"
    },
    {
     "name": "stdout",
     "output_type": "stream",
     "text": [
      "[0.6851232052774544, 0.6987638455418885, 0.6142050472341906, 0.6889309921545606, 0.7307765159857982]\n",
      "0.6835599212387785 0.038215067556342734\n",
      "n_features 32 score 0.6453448536824358 best_score 0.6453448536824358\n"
     ]
    },
    {
     "data": {
      "application/vnd.jupyter.widget-view+json": {
       "model_id": "14477e580bf54f17abd789ae1d174083",
       "version_major": 2,
       "version_minor": 0
      },
      "text/plain": [
       "  0%|          | 0/6 [00:00<?, ?it/s]"
      ]
     },
     "metadata": {},
     "output_type": "display_data"
    },
    {
     "name": "stdout",
     "output_type": "stream",
     "text": [
      "[0.6804666278618549, 0.6960865308120678, 0.6055744373377578, 0.6841676895981215, 0.7299329556767424]\n",
      "0.6792456482573089 0.04075777977064921\n",
      "n_features 28 score 0.6384878684866597 best_score 0.6453448536824358\n"
     ]
    },
    {
     "data": {
      "application/vnd.jupyter.widget-view+json": {
       "model_id": "e3af60a63ed34263b14e3de015d29799",
       "version_major": 2,
       "version_minor": 0
      },
      "text/plain": [
       "  0%|          | 0/6 [00:00<?, ?it/s]"
      ]
     },
     "metadata": {},
     "output_type": "display_data"
    },
    {
     "name": "stdout",
     "output_type": "stream",
     "text": [
      "[0.6863782984090028, 0.6920068131285315, 0.6154762223352156, 0.6889309921545606, 0.7280410018765362]\n",
      "0.6821666655807693 0.03663984830673844\n",
      "n_features 23 score 0.6455268172740309 best_score 0.6455268172740309\n"
     ]
    },
    {
     "data": {
      "application/vnd.jupyter.widget-view+json": {
       "model_id": "8b047c336e0d487b93eda69329221c1b",
       "version_major": 2,
       "version_minor": 0
      },
      "text/plain": [
       "  0%|          | 0/6 [00:00<?, ?it/s]"
      ]
     },
     "metadata": {},
     "output_type": "display_data"
    },
    {
     "name": "stdout",
     "output_type": "stream",
     "text": [
      "[0.6886762708575864, 0.6922158986598128, 0.6032729413653759, 0.695722367508139, 0.7292391658664223]\n",
      "0.6818253288514674 0.04187260811314267\n",
      "n_features 17 score 0.6399527207383248 best_score 0.6455268172740309\n"
     ]
    },
    {
     "data": {
      "application/vnd.jupyter.widget-view+json": {
       "model_id": "2bc4ddbafa534f6481a7be64a47f7aae",
       "version_major": 2,
       "version_minor": 0
      },
      "text/plain": [
       "  0%|          | 0/6 [00:00<?, ?it/s]"
      ]
     },
     "metadata": {},
     "output_type": "display_data"
    },
    {
     "name": "stdout",
     "output_type": "stream",
     "text": [
      "[0.6805272603802872, 0.7044397527691084, 0.6094481761982498, 0.6825265517425415, 0.7239729708299929]\n",
      "0.680182942384036 0.038768486296013\n",
      "n_features 10 score 0.6414144560880229 best_score 0.6455268172740309\n"
     ]
    },
    {
     "data": {
      "application/vnd.jupyter.widget-view+json": {
       "model_id": "3a66d59634784040a8da5214c81e238b",
       "version_major": 2,
       "version_minor": 0
      },
      "text/plain": [
       "  0%|          | 0/6 [00:00<?, ?it/s]"
      ]
     },
     "metadata": {},
     "output_type": "display_data"
    },
    {
     "name": "stdout",
     "output_type": "stream",
     "text": [
      "[0.6504171517268141, 0.6675795034983579, 0.5986364974442691, 0.6796312109729412, 0.7173191961729233]\n",
      "0.6627167119630611 0.03885545360676854\n",
      "n_features 2 score 0.6238612583562926 best_score 0.6455268172740309\n"
     ]
    },
    {
     "data": {
      "application/vnd.jupyter.widget-view+json": {
       "model_id": "643b0673651843f095d660b1f20a69f7",
       "version_major": 2,
       "version_minor": 0
      },
      "text/plain": [
       "  0%|          | 0/6 [00:00<?, ?it/s]"
      ]
     },
     "metadata": {},
     "output_type": "display_data"
    },
    {
     "ename": "CatBoostError",
     "evalue": "Input data must have at least one feature",
     "output_type": "error",
     "traceback": [
      "\u001b[0;31m---------------------------------------------------------------------------\u001b[0m",
      "\u001b[0;31mCatBoostError\u001b[0m                             Traceback (most recent call last)",
      "\u001b[1;32m/home/as/my_repositories/yar_digital_breakthrough_2022/notebooks/feature_selection.ipynb Cell 8'\u001b[0m in \u001b[0;36m<cell line: 9>\u001b[0;34m()\u001b[0m\n\u001b[1;32m     <a href='vscode-notebook-cell:/home/as/my_repositories/yar_digital_breakthrough_2022/notebooks/feature_selection.ipynb#ch0000030?line=12'>13</a>\u001b[0m \u001b[39mfor\u001b[39;00m train_idx, val_idx \u001b[39min\u001b[39;00m tqdm(cv\u001b[39m.\u001b[39msplit(X, y), total\u001b[39m=\u001b[39mN_SPLITS):\n\u001b[1;32m     <a href='vscode-notebook-cell:/home/as/my_repositories/yar_digital_breakthrough_2022/notebooks/feature_selection.ipynb#ch0000030?line=13'>14</a>\u001b[0m     clf \u001b[39m=\u001b[39m cat\u001b[39m.\u001b[39mCatBoostClassifier(\n\u001b[1;32m     <a href='vscode-notebook-cell:/home/as/my_repositories/yar_digital_breakthrough_2022/notebooks/feature_selection.ipynb#ch0000030?line=14'>15</a>\u001b[0m         loss_function\u001b[39m=\u001b[39m\u001b[39m'\u001b[39m\u001b[39mMultiLogloss\u001b[39m\u001b[39m'\u001b[39m,\n\u001b[1;32m     <a href='vscode-notebook-cell:/home/as/my_repositories/yar_digital_breakthrough_2022/notebooks/feature_selection.ipynb#ch0000030?line=15'>16</a>\u001b[0m         iterations\u001b[39m=\u001b[39m\u001b[39m2000\u001b[39m,\n\u001b[0;32m   (...)\u001b[0m\n\u001b[1;32m     <a href='vscode-notebook-cell:/home/as/my_repositories/yar_digital_breakthrough_2022/notebooks/feature_selection.ipynb#ch0000030?line=22'>23</a>\u001b[0m         cat_features\u001b[39m=\u001b[39mcat_cols\n\u001b[1;32m     <a href='vscode-notebook-cell:/home/as/my_repositories/yar_digital_breakthrough_2022/notebooks/feature_selection.ipynb#ch0000030?line=23'>24</a>\u001b[0m         )\n\u001b[0;32m---> <a href='vscode-notebook-cell:/home/as/my_repositories/yar_digital_breakthrough_2022/notebooks/feature_selection.ipynb#ch0000030?line=25'>26</a>\u001b[0m     clf\u001b[39m.\u001b[39;49mfit(\n\u001b[1;32m     <a href='vscode-notebook-cell:/home/as/my_repositories/yar_digital_breakthrough_2022/notebooks/feature_selection.ipynb#ch0000030?line=26'>27</a>\u001b[0m         X\u001b[39m=\u001b[39;49mX[usecols]\u001b[39m.\u001b[39;49miloc[train_idx], \n\u001b[1;32m     <a href='vscode-notebook-cell:/home/as/my_repositories/yar_digital_breakthrough_2022/notebooks/feature_selection.ipynb#ch0000030?line=27'>28</a>\u001b[0m         y\u001b[39m=\u001b[39;49my\u001b[39m.\u001b[39;49miloc[train_idx], \n\u001b[1;32m     <a href='vscode-notebook-cell:/home/as/my_repositories/yar_digital_breakthrough_2022/notebooks/feature_selection.ipynb#ch0000030?line=28'>29</a>\u001b[0m         eval_set\u001b[39m=\u001b[39;49m[(X[usecols]\u001b[39m.\u001b[39;49miloc[val_idx], y\u001b[39m.\u001b[39;49miloc[val_idx])])\n\u001b[1;32m     <a href='vscode-notebook-cell:/home/as/my_repositories/yar_digital_breakthrough_2022/notebooks/feature_selection.ipynb#ch0000030?line=29'>30</a>\u001b[0m     importances \u001b[39m+\u001b[39m\u001b[39m=\u001b[39m clf\u001b[39m.\u001b[39mfeature_importances_\n\u001b[1;32m     <a href='vscode-notebook-cell:/home/as/my_repositories/yar_digital_breakthrough_2022/notebooks/feature_selection.ipynb#ch0000030?line=30'>31</a>\u001b[0m     oof\u001b[39m.\u001b[39miloc[val_idx, :] \u001b[39m=\u001b[39m clf\u001b[39m.\u001b[39mpredict_proba(X[usecols]\u001b[39m.\u001b[39miloc[val_idx])\n",
      "File \u001b[0;32m~/miniconda3/lib/python3.9/site-packages/catboost/core.py:5007\u001b[0m, in \u001b[0;36mCatBoostClassifier.fit\u001b[0;34m(self, X, y, cat_features, text_features, embedding_features, sample_weight, baseline, use_best_model, eval_set, verbose, logging_level, plot, column_description, verbose_eval, metric_period, silent, early_stopping_rounds, save_snapshot, snapshot_file, snapshot_interval, init_model, callbacks, log_cout, log_cerr)\u001b[0m\n\u001b[1;32m   5004\u001b[0m \u001b[39mif\u001b[39;00m \u001b[39m'\u001b[39m\u001b[39mloss_function\u001b[39m\u001b[39m'\u001b[39m \u001b[39min\u001b[39;00m params:\n\u001b[1;32m   5005\u001b[0m     CatBoostClassifier\u001b[39m.\u001b[39m_check_is_compatible_loss(params[\u001b[39m'\u001b[39m\u001b[39mloss_function\u001b[39m\u001b[39m'\u001b[39m])\n\u001b[0;32m-> 5007\u001b[0m \u001b[39mself\u001b[39;49m\u001b[39m.\u001b[39;49m_fit(X, y, cat_features, text_features, embedding_features, \u001b[39mNone\u001b[39;49;00m, sample_weight, \u001b[39mNone\u001b[39;49;00m, \u001b[39mNone\u001b[39;49;00m, \u001b[39mNone\u001b[39;49;00m, \u001b[39mNone\u001b[39;49;00m, baseline, use_best_model,\n\u001b[1;32m   5008\u001b[0m           eval_set, verbose, logging_level, plot, column_description, verbose_eval, metric_period,\n\u001b[1;32m   5009\u001b[0m           silent, early_stopping_rounds, save_snapshot, snapshot_file, snapshot_interval, init_model, callbacks, log_cout, log_cerr)\n\u001b[1;32m   5010\u001b[0m \u001b[39mreturn\u001b[39;00m \u001b[39mself\u001b[39m\n",
      "File \u001b[0;32m~/miniconda3/lib/python3.9/site-packages/catboost/core.py:2262\u001b[0m, in \u001b[0;36mCatBoost._fit\u001b[0;34m(self, X, y, cat_features, text_features, embedding_features, pairs, sample_weight, group_id, group_weight, subgroup_id, pairs_weight, baseline, use_best_model, eval_set, verbose, logging_level, plot, column_description, verbose_eval, metric_period, silent, early_stopping_rounds, save_snapshot, snapshot_file, snapshot_interval, init_model, callbacks, log_cout, log_cerr)\u001b[0m\n\u001b[1;32m   2259\u001b[0m \u001b[39mif\u001b[39;00m y \u001b[39mis\u001b[39;00m \u001b[39mNone\u001b[39;00m \u001b[39mand\u001b[39;00m \u001b[39mnot\u001b[39;00m \u001b[39misinstance\u001b[39m(X, PATH_TYPES \u001b[39m+\u001b[39m (Pool,)):\n\u001b[1;32m   2260\u001b[0m     \u001b[39mraise\u001b[39;00m CatBoostError(\u001b[39m\"\u001b[39m\u001b[39my may be None only when X is an instance of catboost.Pool or string\u001b[39m\u001b[39m\"\u001b[39m)\n\u001b[0;32m-> 2262\u001b[0m train_params \u001b[39m=\u001b[39m \u001b[39mself\u001b[39;49m\u001b[39m.\u001b[39;49m_prepare_train_params(\n\u001b[1;32m   2263\u001b[0m     X\u001b[39m=\u001b[39;49mX, y\u001b[39m=\u001b[39;49my, cat_features\u001b[39m=\u001b[39;49mcat_features, text_features\u001b[39m=\u001b[39;49mtext_features, embedding_features\u001b[39m=\u001b[39;49membedding_features,\n\u001b[1;32m   2264\u001b[0m     pairs\u001b[39m=\u001b[39;49mpairs, sample_weight\u001b[39m=\u001b[39;49msample_weight, group_id\u001b[39m=\u001b[39;49mgroup_id, group_weight\u001b[39m=\u001b[39;49mgroup_weight,\n\u001b[1;32m   2265\u001b[0m     subgroup_id\u001b[39m=\u001b[39;49msubgroup_id, pairs_weight\u001b[39m=\u001b[39;49mpairs_weight, baseline\u001b[39m=\u001b[39;49mbaseline, use_best_model\u001b[39m=\u001b[39;49muse_best_model,\n\u001b[1;32m   2266\u001b[0m     eval_set\u001b[39m=\u001b[39;49meval_set, verbose\u001b[39m=\u001b[39;49mverbose, logging_level\u001b[39m=\u001b[39;49mlogging_level, plot\u001b[39m=\u001b[39;49mplot,\n\u001b[1;32m   2267\u001b[0m     column_description\u001b[39m=\u001b[39;49mcolumn_description, verbose_eval\u001b[39m=\u001b[39;49mverbose_eval, metric_period\u001b[39m=\u001b[39;49mmetric_period,\n\u001b[1;32m   2268\u001b[0m     silent\u001b[39m=\u001b[39;49msilent, early_stopping_rounds\u001b[39m=\u001b[39;49mearly_stopping_rounds, save_snapshot\u001b[39m=\u001b[39;49msave_snapshot,\n\u001b[1;32m   2269\u001b[0m     snapshot_file\u001b[39m=\u001b[39;49msnapshot_file, snapshot_interval\u001b[39m=\u001b[39;49msnapshot_interval, init_model\u001b[39m=\u001b[39;49minit_model,\n\u001b[1;32m   2270\u001b[0m     callbacks\u001b[39m=\u001b[39;49mcallbacks\n\u001b[1;32m   2271\u001b[0m )\n\u001b[1;32m   2272\u001b[0m params \u001b[39m=\u001b[39m train_params[\u001b[39m\"\u001b[39m\u001b[39mparams\u001b[39m\u001b[39m\"\u001b[39m]\n\u001b[1;32m   2273\u001b[0m train_pool \u001b[39m=\u001b[39m train_params[\u001b[39m\"\u001b[39m\u001b[39mtrain_pool\u001b[39m\u001b[39m\"\u001b[39m]\n",
      "File \u001b[0;32m~/miniconda3/lib/python3.9/site-packages/catboost/core.py:2148\u001b[0m, in \u001b[0;36mCatBoost._prepare_train_params\u001b[0;34m(self, X, y, cat_features, text_features, embedding_features, pairs, sample_weight, group_id, group_weight, subgroup_id, pairs_weight, baseline, use_best_model, eval_set, verbose, logging_level, plot, column_description, verbose_eval, metric_period, silent, early_stopping_rounds, save_snapshot, snapshot_file, snapshot_interval, init_model, callbacks)\u001b[0m\n\u001b[1;32m   2145\u001b[0m text_features \u001b[39m=\u001b[39m _process_feature_indices(text_features, X, params, \u001b[39m'\u001b[39m\u001b[39mtext_features\u001b[39m\u001b[39m'\u001b[39m)\n\u001b[1;32m   2146\u001b[0m embedding_features \u001b[39m=\u001b[39m _process_feature_indices(embedding_features, X, params, \u001b[39m'\u001b[39m\u001b[39membedding_features\u001b[39m\u001b[39m'\u001b[39m)\n\u001b[0;32m-> 2148\u001b[0m train_pool \u001b[39m=\u001b[39m _build_train_pool(X, y, cat_features, text_features, embedding_features, pairs,\n\u001b[1;32m   2149\u001b[0m                                sample_weight, group_id, group_weight, subgroup_id, pairs_weight,\n\u001b[1;32m   2150\u001b[0m                                baseline, column_description)\n\u001b[1;32m   2151\u001b[0m \u001b[39mif\u001b[39;00m train_pool\u001b[39m.\u001b[39mis_empty_:\n\u001b[1;32m   2152\u001b[0m     \u001b[39mraise\u001b[39;00m CatBoostError(\u001b[39m\"\u001b[39m\u001b[39mX is empty.\u001b[39m\u001b[39m\"\u001b[39m)\n",
      "File \u001b[0;32m~/miniconda3/lib/python3.9/site-packages/catboost/core.py:1430\u001b[0m, in \u001b[0;36m_build_train_pool\u001b[0;34m(X, y, cat_features, text_features, embedding_features, pairs, sample_weight, group_id, group_weight, subgroup_id, pairs_weight, baseline, column_description)\u001b[0m\n\u001b[1;32m   1428\u001b[0m     \u001b[39mif\u001b[39;00m y \u001b[39mis\u001b[39;00m \u001b[39mNone\u001b[39;00m:\n\u001b[1;32m   1429\u001b[0m         \u001b[39mraise\u001b[39;00m CatBoostError(\u001b[39m\"\u001b[39m\u001b[39my has not initialized in fit(): X is not catboost.Pool object, y must be not None in fit().\u001b[39m\u001b[39m\"\u001b[39m)\n\u001b[0;32m-> 1430\u001b[0m     train_pool \u001b[39m=\u001b[39m Pool(X, y, cat_features\u001b[39m=\u001b[39;49mcat_features, text_features\u001b[39m=\u001b[39;49mtext_features, embedding_features\u001b[39m=\u001b[39;49membedding_features, pairs\u001b[39m=\u001b[39;49mpairs, weight\u001b[39m=\u001b[39;49msample_weight, group_id\u001b[39m=\u001b[39;49mgroup_id,\n\u001b[1;32m   1431\u001b[0m                       group_weight\u001b[39m=\u001b[39;49mgroup_weight, subgroup_id\u001b[39m=\u001b[39;49msubgroup_id, pairs_weight\u001b[39m=\u001b[39;49mpairs_weight, baseline\u001b[39m=\u001b[39;49mbaseline)\n\u001b[1;32m   1432\u001b[0m \u001b[39mreturn\u001b[39;00m train_pool\n",
      "File \u001b[0;32m~/miniconda3/lib/python3.9/site-packages/catboost/core.py:705\u001b[0m, in \u001b[0;36mPool.__init__\u001b[0;34m(self, data, label, cat_features, text_features, embedding_features, embedding_features_data, column_description, pairs, delimiter, has_header, ignore_csv_quoting, weight, group_id, group_weight, subgroup_id, pairs_weight, baseline, timestamp, feature_names, feature_tags, thread_count, log_cout, log_cerr)\u001b[0m\n\u001b[1;32m    703\u001b[0m \u001b[39mif\u001b[39;00m data \u001b[39mis\u001b[39;00m \u001b[39mnot\u001b[39;00m \u001b[39mNone\u001b[39;00m:\n\u001b[1;32m    704\u001b[0m     \u001b[39mself\u001b[39m\u001b[39m.\u001b[39m_check_data_type(data)\n\u001b[0;32m--> 705\u001b[0m     \u001b[39mself\u001b[39;49m\u001b[39m.\u001b[39;49m_check_data_empty(data)\n\u001b[1;32m    706\u001b[0m     \u001b[39mif\u001b[39;00m pairs \u001b[39mis\u001b[39;00m \u001b[39mnot\u001b[39;00m \u001b[39mNone\u001b[39;00m \u001b[39mand\u001b[39;00m \u001b[39misinstance\u001b[39m(data, PATH_TYPES) \u001b[39m!=\u001b[39m \u001b[39misinstance\u001b[39m(pairs, PATH_TYPES):\n\u001b[1;32m    707\u001b[0m         \u001b[39mraise\u001b[39;00m CatBoostError(\u001b[39m\"\u001b[39m\u001b[39mdata and pairs parameters should be the same types.\u001b[39m\u001b[39m\"\u001b[39m)\n",
      "File \u001b[0;32m~/miniconda3/lib/python3.9/site-packages/catboost/core.py:885\u001b[0m, in \u001b[0;36mPool._check_data_empty\u001b[0;34m(self, data)\u001b[0m\n\u001b[1;32m    883\u001b[0m     \u001b[39mraise\u001b[39;00m CatBoostError(\u001b[39m\"\u001b[39m\u001b[39mInput data has invalid shape: \u001b[39m\u001b[39m{}\u001b[39;00m\u001b[39m. Must be 2 dimensional\u001b[39m\u001b[39m\"\u001b[39m\u001b[39m.\u001b[39mformat(data_shape))\n\u001b[1;32m    884\u001b[0m \u001b[39mif\u001b[39;00m data_shape[\u001b[39m1\u001b[39m] \u001b[39m==\u001b[39m \u001b[39m0\u001b[39m:\n\u001b[0;32m--> 885\u001b[0m     \u001b[39mraise\u001b[39;00m CatBoostError(\u001b[39m\"\u001b[39m\u001b[39mInput data must have at least one feature\u001b[39m\u001b[39m\"\u001b[39m)\n",
      "\u001b[0;31mCatBoostError\u001b[0m: Input data must have at least one feature"
     ]
    }
   ],
   "source": [
    "usecols = X.columns.tolist()\n",
    "cat_cols = [c for c in usecols if c in cfg.CAT_UNORDERED_COLS]\n",
    "\n",
    "n_cols = len(usecols)\n",
    "best_score = float('-inf')\n",
    "best_features = []\n",
    "\n",
    "\n",
    "for i in tqdm(range(1, n_cols), total=n_cols-2):\n",
    "    importances = np.zeros(shape=len(usecols))\n",
    "    oof = pd.DataFrame(data=np.zeros_like(y), index=y.index, columns=y.columns)\n",
    "\n",
    "    for train_idx, val_idx in tqdm(cv.split(X, y), total=N_SPLITS):\n",
    "        clf = cat.CatBoostClassifier(\n",
    "            loss_function='MultiLogloss',\n",
    "            iterations=2000,\n",
    "            silent=True,\n",
    "            depth=4,\n",
    "            l2_leaf_reg=2.0,\n",
    "            learning_rate=0.003,\n",
    "            early_stopping_rounds=300,\n",
    "            bagging_temperature=1,\n",
    "            cat_features=cat_cols\n",
    "            )\n",
    "        \n",
    "        clf.fit(\n",
    "            X=X[usecols].iloc[train_idx], \n",
    "            y=y.iloc[train_idx], \n",
    "            eval_set=[(X[usecols].iloc[val_idx], y.iloc[val_idx])])\n",
    "        importances += clf.feature_importances_\n",
    "        oof.iloc[val_idx, :] = clf.predict_proba(X[usecols].iloc[val_idx])\n",
    "\n",
    "    score = compute_weird_pred_proba_score(y.values, oof.values, sub_std=True)\n",
    "    if score > best_score:\n",
    "        best_features = clf.feature_names_\n",
    "        best_score = score\n",
    "    print('n_features', len(usecols), 'score', score, 'best_score', best_score)\n",
    "\n",
    "    importances /= N_SPLITS\n",
    "    importances = pd.Series(data=importances, index=clf.feature_names_).sort_values()\n",
    "\n",
    "    usecols = importances.iloc[i:].index.tolist()\n",
    "    cat_cols = [c for c in usecols if c in cfg.CAT_UNORDERED_COLS]"
   ]
  },
  {
   "cell_type": "code",
   "execution_count": 18,
   "metadata": {},
   "outputs": [
    {
     "data": {
      "text/plain": [
       "['alcohol_age',\n",
       " 'smoking_status_ordinal',\n",
       " 'sleep_time_ordinal',\n",
       " 'smoking_age',\n",
       " 'alcohol_ordinal',\n",
       " 'wake_up_time_ordinal',\n",
       " 'education_ordinal',\n",
       " 'diabetes',\n",
       " 'nationality',\n",
       " 'ethnos',\n",
       " 'employed',\n",
       " 'religion',\n",
       " 'passive_smoking_frequency',\n",
       " 'smoking_status',\n",
       " 'wake_up_time',\n",
       " 'retired',\n",
       " 'sleep_time',\n",
       " 'alcohol',\n",
       " 'family',\n",
       " 'sex',\n",
       " 'education',\n",
       " 'profession',\n",
       " 'regular_medication_intake']"
      ]
     },
     "execution_count": 18,
     "metadata": {},
     "output_type": "execute_result"
    }
   ],
   "source": [
    "best_features"
   ]
  },
  {
   "cell_type": "code",
   "execution_count": 17,
   "metadata": {},
   "outputs": [],
   "source": [
    "path = os.path.join(cfg.MODELS_PATH, 'catboost', 'selected_features', 'selected_features.pkl')\n",
    "with open(path, 'wb') as f:\n",
    "    pickle.dump(best_features, f)"
   ]
  }
 ],
 "metadata": {
  "kernelspec": {
   "display_name": "Python 3.9.12 ('base')",
   "language": "python",
   "name": "python3"
  },
  "language_info": {
   "codemirror_mode": {
    "name": "ipython",
    "version": 3
   },
   "file_extension": ".py",
   "mimetype": "text/x-python",
   "name": "python",
   "nbconvert_exporter": "python",
   "pygments_lexer": "ipython3",
   "version": "3.9.12"
  },
  "orig_nbformat": 4,
  "vscode": {
   "interpreter": {
    "hash": "04d48c12bfbca8a14a4066630f6d13e81276286aa1e28ae9f6bc2bde884e5eee"
   }
  }
 },
 "nbformat": 4,
 "nbformat_minor": 2
}
