{
 "cells": [
  {
   "cell_type": "markdown",
   "metadata": {},
   "source": [
    "# IMPORTS"
   ]
  },
  {
   "cell_type": "code",
   "execution_count": 1,
   "metadata": {},
   "outputs": [],
   "source": [
    "import sys\n",
    "sys.path.insert(0, \"../..\")\n",
    "import config as cfg\n",
    "import gc\n",
    "import os\n",
    "from typing import Optional, Any, Union, Callable"
   ]
  },
  {
   "cell_type": "code",
   "execution_count": 2,
   "metadata": {},
   "outputs": [],
   "source": [
    "import pandas as pd\n",
    "import numpy as np\n",
    "from tqdm.notebook import tqdm\n",
    "from metrics import compute_single_col_score, get_tresholds, compute_weird_pred_proba_score, compute_weird_pred_score\n",
    "from sklearn.metrics import recall_score\n",
    "from helper import make_prediction, check_path, get_prediction, evaluate, seed_everything, save_submission, save_pred_proba_oof, save_pred_proba_test\n",
    "from collections import defaultdict\n",
    "import category_encoders as ce"
   ]
  },
  {
   "cell_type": "code",
   "execution_count": 60,
   "metadata": {},
   "outputs": [],
   "source": [
    "import seaborn as sns\n",
    "from matplotlib import pyplot as plt"
   ]
  },
  {
   "cell_type": "code",
   "execution_count": 3,
   "metadata": {},
   "outputs": [],
   "source": [
    "from sklearn.metrics import *\n",
    "from sklearn.model_selection import StratifiedKFold, train_test_split\n",
    "from iterstrat.ml_stratifiers import MultilabelStratifiedKFold"
   ]
  },
  {
   "cell_type": "code",
   "execution_count": 4,
   "metadata": {},
   "outputs": [],
   "source": [
    "import catboost as cb\n",
    "import catboost.datasets as cbd\n",
    "import catboost.utils as cbu"
   ]
  },
  {
   "cell_type": "code",
   "execution_count": 5,
   "metadata": {},
   "outputs": [],
   "source": [
    "RANDOM_STATE = 77\n",
    "seed_everything(RANDOM_STATE)"
   ]
  },
  {
   "cell_type": "markdown",
   "metadata": {},
   "source": [
    "# MODEL TRAINING"
   ]
  },
  {
   "cell_type": "code",
   "execution_count": 6,
   "metadata": {},
   "outputs": [],
   "source": [
    "train = pd.read_pickle(cfg.PREPARED_TRAIN_DATA_PATH)\n",
    "test = pd.read_pickle(cfg.PREPARED_TEST_DATA_PATH)"
   ]
  },
  {
   "cell_type": "code",
   "execution_count": 7,
   "metadata": {},
   "outputs": [],
   "source": [
    "X_train, Y_train = train.drop(cfg.TARGETS, axis=1), train[cfg.TARGETS]"
   ]
  },
  {
   "cell_type": "code",
   "execution_count": 41,
   "metadata": {},
   "outputs": [],
   "source": [
    "udf = pd.concat([X_train, test])\n",
    "is_test = pd.DataFrame([0] * len(X_train) + [1] * len(test), index=udf.index, columns=['is_test'])"
   ]
  },
  {
   "cell_type": "code",
   "execution_count": 47,
   "metadata": {},
   "outputs": [],
   "source": [
    "idx = np.arange(len(udf))\n",
    "np.random.shuffle(idx)"
   ]
  },
  {
   "cell_type": "code",
   "execution_count": 51,
   "metadata": {},
   "outputs": [
    {
     "data": {
      "text/plain": [
       "<catboost.core.CatBoostClassifier at 0x7fa7dd16bc70>"
      ]
     },
     "execution_count": 51,
     "metadata": {},
     "output_type": "execute_result"
    }
   ],
   "source": [
    "clf = cb.CatBoostClassifier(cat_features=cfg.CAT_UNORDERED_COLS)\n",
    "clf.fit(udf.iloc[idx], is_test.iloc[idx], silent=True)"
   ]
  },
  {
   "cell_type": "code",
   "execution_count": 52,
   "metadata": {},
   "outputs": [],
   "source": [
    "is_test_pred = clf.predict_proba(udf)"
   ]
  },
  {
   "cell_type": "code",
   "execution_count": 63,
   "metadata": {},
   "outputs": [
    {
     "data": {
      "text/plain": [
       "<AxesSubplot:ylabel='Count'>"
      ]
     },
     "execution_count": 63,
     "metadata": {},
     "output_type": "execute_result"
    },
    {
     "data": {
      "image/png": "[encoded data removed]",
      "text/plain": [
       "<Figure size 432x288 with 1 Axes>"
      ]
     },
     "metadata": {
      "needs_background": "light"
     },
     "output_type": "display_data"
    }
   ],
   "source": [
    "sns.histplot(is_test_pred[:, 1])"
   ]
  },
  {
   "cell_type": "code",
   "execution_count": 66,
   "metadata": {},
   "outputs": [],
   "source": [
    "is_test_pred = pd.DataFrame(is_test_pred[:, 1], index=is_test.index, columns=['is_test'])"
   ]
  },
  {
   "cell_type": "code",
   "execution_count": 72,
   "metadata": {},
   "outputs": [
    {
     "data": {
      "text/plain": [
       "array([[False],\n",
       "       [False],\n",
       "       [False],\n",
       "       ...,\n",
       "       [False],\n",
       "       [False],\n",
       "       [False]])"
      ]
     },
     "execution_count": 72,
     "metadata": {},
     "output_type": "execute_result"
    }
   ],
   "source": [
    "((is_test_pred < 0.3) | (is_test_pred > 0.5)).values"
   ]
  },
  {
   "cell_type": "code",
   "execution_count": 73,
   "metadata": {},
   "outputs": [],
   "source": [
    "outliers = is_test_pred.loc[((is_test_pred < 0.3) | (is_test_pred > 0.5)).values]"
   ]
  },
  {
   "cell_type": "code",
   "execution_count": 75,
   "metadata": {},
   "outputs": [
    {
     "data": {
      "text/plain": [
       "(113, 1)"
      ]
     },
     "execution_count": 75,
     "metadata": {},
     "output_type": "execute_result"
    }
   ],
   "source": [
    "outliers.shape"
   ]
  },
  {
   "cell_type": "code",
   "execution_count": 78,
   "metadata": {},
   "outputs": [
    {
     "data": {
      "text/plain": [
       "1593"
      ]
     },
     "execution_count": 78,
     "metadata": {},
     "output_type": "execute_result"
    }
   ],
   "source": [
    "len(is_test_pred)"
   ]
  },
  {
   "cell_type": "code",
   "execution_count": 79,
   "metadata": {},
   "outputs": [
    {
     "data": {
      "text/plain": [
       "1480"
      ]
     },
     "execution_count": 79,
     "metadata": {},
     "output_type": "execute_result"
    }
   ],
   "source": [
    "len(is_test_pred.drop(outliers.index))"
   ]
  },
  {
   "cell_type": "code",
   "execution_count": 53,
   "metadata": {},
   "outputs": [
    {
     "data": {
      "text/plain": [
       "0.7386991416238572"
      ]
     },
     "execution_count": 53,
     "metadata": {},
     "output_type": "execute_result"
    }
   ],
   "source": [
    "roc_auc_score(is_test, is_test_pred[:, 1])"
   ]
  },
  {
   "cell_type": "code",
   "execution_count": 80,
   "metadata": {},
   "outputs": [
    {
     "data": {
      "text/plain": [
       "0.7154951320459857"
      ]
     },
     "execution_count": 80,
     "metadata": {},
     "output_type": "execute_result"
    }
   ],
   "source": [
    "roc_auc_score(is_test.drop(outliers.index), is_test_pred.drop(outliers.index))"
   ]
  },
  {
   "cell_type": "code",
   "execution_count": 54,
   "metadata": {},
   "outputs": [],
   "source": [
    "fi = pd.Series(data=clf.feature_importances_, index=clf.feature_names_)"
   ]
  },
  {
   "cell_type": "code",
   "execution_count": null,
   "metadata": {},
   "outputs": [],
   "source": []
  },
  {
   "cell_type": "code",
   "execution_count": 92,
   "metadata": {},
   "outputs": [
    {
     "data": {
      "text/html": [
       "<div>\n",
       "<style scoped>\n",
       "    .dataframe tbody tr th:only-of-type {\n",
       "        vertical-align: middle;\n",
       "    }\n",
       "\n",
       "    .dataframe tbody tr th {\n",
       "        vertical-align: top;\n",
       "    }\n",
       "\n",
       "    .dataframe thead th {\n",
       "        text-align: right;\n",
       "    }\n",
       "</style>\n",
       "<table border=\"1\" class=\"dataframe\">\n",
       "  <thead>\n",
       "    <tr style=\"text-align: right;\">\n",
       "      <th></th>\n",
       "      <th>sleep_time</th>\n",
       "      <th>hue</th>\n",
       "    </tr>\n",
       "    <tr>\n",
       "      <th>id</th>\n",
       "      <th></th>\n",
       "      <th></th>\n",
       "    </tr>\n",
       "  </thead>\n",
       "  <tbody>\n",
       "    <tr>\n",
       "      <th>54-102-358-02</th>\n",
       "      <td>22:00:00</td>\n",
       "      <td>train</td>\n",
       "    </tr>\n",
       "    <tr>\n",
       "      <th>54-103-101-01</th>\n",
       "      <td>00:00:00</td>\n",
       "      <td>train</td>\n",
       "    </tr>\n",
       "    <tr>\n",
       "      <th>54-501-026-03</th>\n",
       "      <td>23:00:00</td>\n",
       "      <td>train</td>\n",
       "    </tr>\n",
       "    <tr>\n",
       "      <th>54-501-094-02</th>\n",
       "      <td>23:00:00</td>\n",
       "      <td>train</td>\n",
       "    </tr>\n",
       "    <tr>\n",
       "      <th>54-503-022-01</th>\n",
       "      <td>23:00:00</td>\n",
       "      <td>train</td>\n",
       "    </tr>\n",
       "    <tr>\n",
       "      <th>...</th>\n",
       "      <td>...</td>\n",
       "      <td>...</td>\n",
       "    </tr>\n",
       "    <tr>\n",
       "      <th>54-102-095-01</th>\n",
       "      <td>23:00:00</td>\n",
       "      <td>test</td>\n",
       "    </tr>\n",
       "    <tr>\n",
       "      <th>54-102-235-01</th>\n",
       "      <td>01:00:00</td>\n",
       "      <td>test</td>\n",
       "    </tr>\n",
       "    <tr>\n",
       "      <th>54-502-016-01</th>\n",
       "      <td>22:00:00</td>\n",
       "      <td>test</td>\n",
       "    </tr>\n",
       "    <tr>\n",
       "      <th>54-002-138-01</th>\n",
       "      <td>00:00:00</td>\n",
       "      <td>test</td>\n",
       "    </tr>\n",
       "    <tr>\n",
       "      <th>54-103-022-01</th>\n",
       "      <td>02:00:00</td>\n",
       "      <td>test</td>\n",
       "    </tr>\n",
       "  </tbody>\n",
       "</table>\n",
       "<p>1593 rows × 2 columns</p>\n",
       "</div>"
      ],
      "text/plain": [
       "              sleep_time    hue\n",
       "id                             \n",
       "54-102-358-02   22:00:00  train\n",
       "54-103-101-01   00:00:00  train\n",
       "54-501-026-03   23:00:00  train\n",
       "54-501-094-02   23:00:00  train\n",
       "54-503-022-01   23:00:00  train\n",
       "...                  ...    ...\n",
       "54-102-095-01   23:00:00   test\n",
       "54-102-235-01   01:00:00   test\n",
       "54-502-016-01   22:00:00   test\n",
       "54-002-138-01   00:00:00   test\n",
       "54-103-022-01   02:00:00   test\n",
       "\n",
       "[1593 rows x 2 columns]"
      ]
     },
     "execution_count": 92,
     "metadata": {},
     "output_type": "execute_result"
    }
   ],
   "source": [
    "pd.concat([\n",
    "        train[['sleep_time']].assign(hue='train'), \n",
    "        test[['sleep_time']].assign(hue='test')])"
   ]
  },
  {
   "cell_type": "code",
   "execution_count": 100,
   "metadata": {},
   "outputs": [
    {
     "data": {
      "text/plain": [
       "<AxesSubplot:xlabel='sleep_time', ylabel='Probability'>"
      ]
     },
     "execution_count": 100,
     "metadata": {},
     "output_type": "execute_result"
    },
    {
     "data": {
      "image/png": "[encoded data removed]",
      "text/plain": [
       "<Figure size 1080x720 with 1 Axes>"
      ]
     },
     "metadata": {
      "needs_background": "light"
     },
     "output_type": "display_data"
    }
   ],
   "source": [
    "fig, ax = plt.subplots(figsize=(15,10))\n",
    "sns.histplot(\n",
    "    pd.concat([\n",
    "        train[['sleep_time']].assign(hue='train'), \n",
    "        test[['sleep_time']].assign(hue='test')]),\n",
    "        x='sleep_time',\n",
    "        hue='hue',\n",
    "        bins=100,\n",
    "        stat='probability',\n",
    "        ax=ax)"
   ]
  },
  {
   "cell_type": "code",
   "execution_count": null,
   "metadata": {},
   "outputs": [],
   "source": []
  },
  {
   "cell_type": "code",
   "execution_count": 58,
   "metadata": {},
   "outputs": [
    {
     "data": {
      "text/plain": [
       "<AxesSubplot:>"
      ]
     },
     "execution_count": 58,
     "metadata": {},
     "output_type": "execute_result"
    },
    {
     "data": {
      "image/png": "[encoded data removed]",
      "text/plain": [
       "<Figure size 1224x864 with 1 Axes>"
      ]
     },
     "metadata": {
      "needs_background": "light"
     },
     "output_type": "display_data"
    }
   ],
   "source": [
    "fi.sort_values().plot(kind='barh', figsize=(17,12))"
   ]
  },
  {
   "cell_type": "code",
   "execution_count": null,
   "metadata": {},
   "outputs": [],
   "source": [
    "EXCLUDE_COLS = ['sleep_time']"
   ]
  },
  {
   "cell_type": "code",
   "execution_count": null,
   "metadata": {},
   "outputs": [],
   "source": [
    "X_train.drop(EXCLUDE_COLS, axis=1, inplace=True)\n",
    "test.drop(EXCLUDE_COLS, axis=1, inplace=True)"
   ]
  },
  {
   "cell_type": "code",
   "execution_count": 8,
   "metadata": {},
   "outputs": [],
   "source": [
    "EXPERIMENT_FAMILY_NAME = 'catboost'\n",
    "EXPERIMENT_NAME = 'extcv'\n",
    "N_SPLITS = 7"
   ]
  },
  {
   "cell_type": "code",
   "execution_count": 9,
   "metadata": {},
   "outputs": [],
   "source": [
    "CAT_COLS = cfg.CAT_UNORDERED_COLS"
   ]
  },
  {
   "cell_type": "code",
   "execution_count": 10,
   "metadata": {},
   "outputs": [],
   "source": [
    "def get_cat_pool(data: pd.DataFrame, labels: Optional[pd.DataFrame]=None, shuffle: bool=True, batch_size: int=32):\n",
    "  return cb.Pool(\n",
    "    data=data, \n",
    "    label=labels,\n",
    "    cat_features=CAT_COLS)"
   ]
  },
  {
   "cell_type": "code",
   "execution_count": 11,
   "metadata": {},
   "outputs": [],
   "source": [
    "def get_cat_model(train, iterations: int = None):\n",
    "    return cb.CatBoostClassifier(\n",
    "            loss_function='MultiLogloss',\n",
    "            # custom_metric=['Recall', 'F1'],\n",
    "            # eval_metric='F:beta=2',\n",
    "            # grow_policy='Lossguide',\n",
    "            iterations=3000 if iterations is None else iterations,\n",
    "            early_stopping_rounds=100 if iterations is None else None,\n",
    "            silent=True,\n",
    "            depth=4,\n",
    "            l2_leaf_reg=2.0,\n",
    "            learning_rate=0.001,\n",
    "            random_seed=RANDOM_STATE\n",
    "        )"
   ]
  },
  {
   "cell_type": "code",
   "execution_count": 12,
   "metadata": {},
   "outputs": [],
   "source": [
    "def fit_cat_model(train, val=None, iterations: int = None):\n",
    "    model = get_cat_model(train, iterations)\n",
    "    model.fit(train, eval_set=val, plot=False)\n",
    "    best_iter = model.get_best_iteration()\n",
    "    return model, best_iter"
   ]
  },
  {
   "cell_type": "code",
   "execution_count": 13,
   "metadata": {},
   "outputs": [],
   "source": [
    "def save_cat_model(model: Any, experiment_name: str, experiment_family_name: str, fold: int, suffix='') -> None:\n",
    "    if suffix:\n",
    "        suffix = '_' + suffix\n",
    "\n",
    "    model_name = f'{experiment_name}_fold_{fold}_rs_{RANDOM_STATE}{suffix}.cbm'\n",
    "    model_path = os.path.join(cfg.MODELS_PATH, experiment_family_name, experiment_name)\n",
    "    check_path(model_path)\n",
    "    model.save_model(os.path.join(model_path, model_name))"
   ]
  },
  {
   "cell_type": "code",
   "execution_count": 14,
   "metadata": {},
   "outputs": [],
   "source": [
    "def predict_with_cat_model(model, data) -> np.ndarray:\n",
    "    return model.predict_proba(data)"
   ]
  },
  {
   "cell_type": "code",
   "execution_count": 15,
   "metadata": {},
   "outputs": [],
   "source": [
    "def apply_cat_encoding(cat_encoders: dict, X_train, Y_train, X_val) -> tuple[pd.DataFrame, pd.DataFrame]:\n",
    "    def _rename_cols(df: pd.DataFrame, target_col: str, encoder_name: str) -> pd.DataFrame:\n",
    "        df.columns = [f'{cat_col}_{target_col}_{encoder_name}' for cat_col in df.columns]\n",
    "        return df\n",
    "\n",
    "    X_cat_train, X_cat_val = [], []\n",
    "    for encoder_name, encoder in cat_encoders.items():\n",
    "        for target_col in Y_train.columns:\n",
    "            X_cat_train_enc = encoder.fit_transform(X_train, Y_train[target_col])\n",
    "            X_cat_train_enc = _rename_cols(X_cat_train_enc, target_col, encoder_name)\n",
    "            X_cat_train.append(X_cat_train_enc)\n",
    "\n",
    "            X_cat_val_enc = encoder.transform(X_val)\n",
    "            X_cat_val_enc = _rename_cols(X_cat_val_enc, target_col, encoder_name)\n",
    "            X_cat_val.append(X_cat_val_enc)\n",
    "    return pd.concat([X_train] + X_cat_train, axis=1), pd.concat([X_val] + X_cat_val, axis=1)"
   ]
  },
  {
   "cell_type": "code",
   "execution_count": 16,
   "metadata": {},
   "outputs": [],
   "source": [
    "cat_encoders = {\n",
    "    'WOE': ce.WOEEncoder(cols=CAT_COLS, random_state=RANDOM_STATE),\n",
    "    # 'TE': ce.TargetEncoder(cols=CAT_COLS)\n",
    "}"
   ]
  },
  {
   "cell_type": "code",
   "execution_count": 17,
   "metadata": {},
   "outputs": [
    {
     "data": {
      "application/vnd.jupyter.widget-view+json": {
       "model_id": "26462b00ebf04e318c274b24a6c572ff",
       "version_major": 2,
       "version_minor": 0
      },
      "text/plain": [
       "  0%|          | 0/7 [00:00<?, ?it/s]"
      ]
     },
     "metadata": {},
     "output_type": "display_data"
    },
    {
     "data": {
      "application/vnd.jupyter.widget-view+json": {
       "model_id": "93a3270d6be946a79ec39dd16911befe",
       "version_major": 2,
       "version_minor": 0
      },
      "text/plain": [
       "  0%|          | 0/3 [00:00<?, ?it/s]"
      ]
     },
     "metadata": {},
     "output_type": "display_data"
    },
    {
     "name": "stdout",
     "output_type": "stream",
     "text": [
      "[0.6913938229056203, 0.6860167130919219, 0.6104875036326649, 0.6994891443167306, 0.7266979682021231]\n",
      "0.6828170304298122 0.03877848853745161\n"
     ]
    },
    {
     "data": {
      "application/vnd.jupyter.widget-view+json": {
       "model_id": "6c48c0697024406ea04d59f37eeee7dd",
       "version_major": 2,
       "version_minor": 0
      },
      "text/plain": [
       "  0%|          | 0/3 [00:00<?, ?it/s]"
      ]
     },
     "metadata": {},
     "output_type": "display_data"
    },
    {
     "name": "stdout",
     "output_type": "stream",
     "text": [
      "[0.6965934389732844, 0.7001434126699578, 0.635824415019046, 0.7008928571428571, 0.7258006563345869]\n",
      "0.6918509560279464 0.029881657938444425\n"
     ]
    },
    {
     "data": {
      "application/vnd.jupyter.widget-view+json": {
       "model_id": "6f07aa3744a94fffa39d6c49ca6fe396",
       "version_major": 2,
       "version_minor": 0
      },
      "text/plain": [
       "  0%|          | 0/3 [00:00<?, ?it/s]"
      ]
     },
     "metadata": {},
     "output_type": "display_data"
    },
    {
     "name": "stdout",
     "output_type": "stream",
     "text": [
      "[0.6882530120481928, 0.7265785813630041, 0.584454924723381, 0.6855867346938775, 0.7273516659879752]\n",
      "0.6824449837632861 0.052172866525877756\n"
     ]
    },
    {
     "data": {
      "application/vnd.jupyter.widget-view+json": {
       "model_id": "84fd8ca080f941f1b24b46f5728e747a",
       "version_major": 2,
       "version_minor": 0
      },
      "text/plain": [
       "  0%|          | 0/3 [00:00<?, ?it/s]"
      ]
     },
     "metadata": {},
     "output_type": "display_data"
    },
    {
     "name": "stdout",
     "output_type": "stream",
     "text": [
      "[0.6609689909653507, 0.6700139082058415, 0.5829171104337287, 0.6598214285714286, 0.7246067308037907]\n",
      "0.6596656337960279 0.04520285768410822\n"
     ]
    },
    {
     "data": {
      "application/vnd.jupyter.widget-view+json": {
       "model_id": "ce50560172424d05b3a6c7bc21854578",
       "version_major": 2,
       "version_minor": 0
      },
      "text/plain": [
       "  0%|          | 0/3 [00:00<?, ?it/s]"
      ]
     },
     "metadata": {},
     "output_type": "display_data"
    },
    {
     "name": "stdout",
     "output_type": "stream",
     "text": [
      "[0.702114262990456, 0.6901392757660167, 0.6120437620667464, 0.6575807334428024, 0.7287033479033576]\n",
      "0.6781162764338757 0.040166636285110226\n"
     ]
    },
    {
     "data": {
      "application/vnd.jupyter.widget-view+json": {
       "model_id": "4387a714855744eb8d53d5d5f4f9ad8b",
       "version_major": 2,
       "version_minor": 0
      },
      "text/plain": [
       "  0%|          | 0/3 [00:00<?, ?it/s]"
      ]
     },
     "metadata": {},
     "output_type": "display_data"
    },
    {
     "name": "stdout",
     "output_type": "stream",
     "text": [
      "[0.7145315550848861, 0.6953198887343532, 0.6203065481588972, 0.6826530612244899, 0.7202307498771969]\n",
      "0.6866083606159646 0.03577047749054758\n"
     ]
    },
    {
     "data": {
      "application/vnd.jupyter.widget-view+json": {
       "model_id": "fa9c7031724942639eb388dc58dd7eaf",
       "version_major": 2,
       "version_minor": 0
      },
      "text/plain": [
       "  0%|          | 0/3 [00:00<?, ?it/s]"
      ]
     },
     "metadata": {},
     "output_type": "display_data"
    },
    {
     "name": "stdout",
     "output_type": "stream",
     "text": [
      "[0.6851471367974549, 0.690390377949929, 0.5902535600116245, 0.7004475703324808, 0.7354339785772612]\n",
      "0.6803345247337502 0.04833083082497075\n",
      "[0.6673821303841676, 0.6597872427228035, 0.5768057376829823, 0.6688504029460426, 0.7230016650955448]\n",
      "0.6591654357663081 0.046946529897231644\n",
      "TEST METRICS\n",
      "defaultdict(<class 'list'>, {'weird_score': 0.6591654357663081, 'oof_auc': 0.6963280143190298, 'oof_logloss': 1.0334590427538488})\n"
     ]
    }
   ],
   "source": [
    "weird_scores = []\n",
    "\n",
    "cv = MultilabelStratifiedKFold(n_splits=N_SPLITS, random_state=RANDOM_STATE, shuffle=True)\n",
    "\n",
    "pred_int_whole = pd.DataFrame(index=Y_train.index, columns=Y_train.columns, dtype=np.int32)\n",
    "pred_proba_oof_whole = pd.DataFrame(index=Y_train.index, columns=Y_train.columns, dtype=np.float32)\n",
    "best_iters_global = []\n",
    "for train_idx, val_idx in tqdm(cv.split(X_train, Y_train), total=N_SPLITS):\n",
    "\n",
    "    pred_template = Y_train.iloc[val_idx].copy()\n",
    "    pred_template.iloc[:, :] = 0\n",
    "\n",
    "    train_data, test_data = apply_cat_encoding(\n",
    "        cat_encoders=cat_encoders,\n",
    "        X_train=X_train.iloc[train_idx],\n",
    "        Y_train=Y_train.iloc[train_idx],\n",
    "        X_val=X_train.iloc[val_idx]\n",
    "    )\n",
    "    \n",
    "    \n",
    "    prediction, pred_proba_oof, pred_proba_test, best_iters = get_prediction(\n",
    "        train_data=train_data,\n",
    "        train_labels=Y_train.iloc[train_idx],\n",
    "        test_data=test_data,\n",
    "        pred_template=pred_template,\n",
    "        process_input=get_cat_pool,\n",
    "        save_model=save_cat_model,\n",
    "        fit_model=fit_cat_model,\n",
    "        predict=predict_with_cat_model,\n",
    "        n_splits=3,\n",
    "        random_state=RANDOM_STATE,\n",
    "        experiment_name=EXPERIMENT_NAME,\n",
    "        experiment_family_name=EXPERIMENT_FAMILY_NAME,\n",
    "        suffix='eval',\n",
    "        rename_cols=False,\n",
    "        )\n",
    "    \n",
    "    pred_int_whole.iloc[val_idx] = prediction\n",
    "    pred_proba_oof_whole.iloc[val_idx] = pred_proba_test\n",
    "    best_iters_global.extend(best_iters)\n",
    "\n",
    "metrics = evaluate(\n",
    "    test_labels=Y_train,\n",
    "    prediction=pred_int_whole.astype(np.int32), \n",
    "    pred_proba_test=pred_proba_oof_whole\n",
    "    )\n"
   ]
  },
  {
   "cell_type": "code",
   "execution_count": 18,
   "metadata": {},
   "outputs": [
    {
     "name": "stdout",
     "output_type": "stream",
     "text": [
      "OVERALL METRICS\n",
      "defaultdict(<class 'list'>, {'weird_score': 0.6591654357663081, 'oof_auc': 0.6963280143190298, 'oof_logloss': 1.0334590427538488})\n",
      "[2999, 2990, 2999, 2999, 2999, 2999, 2998, 2999, 2999, 2995, 2733, 2998, 2999, 2999, 2999, 2999, 2999, 2999, 2998, 2999, 2999]\n"
     ]
    }
   ],
   "source": [
    "print('OVERALL METRICS')\n",
    "print(metrics)\n",
    "print(best_iters_global)"
   ]
  },
  {
   "cell_type": "code",
   "execution_count": 19,
   "metadata": {},
   "outputs": [],
   "source": [
    "# defaultdict(<class 'list'>, {'weird_score': 0.6591654357663081, 'oof_auc': 0.6963280143190298, 'oof_logloss': 1.0334590427538488})\n",
    "# [2999, 2990, 2999, 2999, 2999, 2999, 2998, 2999, 2999, 2995, 2733, 2998, 2999, 2999, 2999, 2999, 2999, 2999, 2998, 2999, 2999]"
   ]
  },
  {
   "cell_type": "code",
   "execution_count": 20,
   "metadata": {},
   "outputs": [],
   "source": [
    "N_ITERS = int(np.mean(best_iters_global))"
   ]
  },
  {
   "cell_type": "code",
   "execution_count": 21,
   "metadata": {},
   "outputs": [],
   "source": [
    "# [0.632011421731218, 0.6490860706862861, 0.661385903220677, 0.6271449441761077, 0.6818099910552275]\n",
    "# 0.6502876661739032 0.01993929966464236"
   ]
  },
  {
   "cell_type": "code",
   "execution_count": 22,
   "metadata": {},
   "outputs": [
    {
     "data": {
      "application/vnd.jupyter.widget-view+json": {
       "model_id": "284c5ad037014a498493c7cec6976a96",
       "version_major": 2,
       "version_minor": 0
      },
      "text/plain": [
       "  0%|          | 0/7 [00:00<?, ?it/s]"
      ]
     },
     "metadata": {},
     "output_type": "display_data"
    },
    {
     "name": "stdout",
     "output_type": "stream",
     "text": [
      "[0.696734332557237, 0.6990545254268405, 0.6014531538523296, 0.6856487164434008, 0.7287237791501846]\n",
      "0.6823229014859985 0.04287576275867233\n"
     ]
    }
   ],
   "source": [
    "from functools import partial\n",
    "\n",
    "\n",
    "sample_submission = pd.read_csv(cfg.SAMPLE_SUBMISSION_PATH).set_index('ID')\n",
    "\n",
    "train_data, test_data = apply_cat_encoding(\n",
    "        cat_encoders=cat_encoders,\n",
    "        X_train=X_train,\n",
    "        Y_train=Y_train,\n",
    "        X_val=test\n",
    "    )\n",
    "\n",
    "prediction_folds, pred_proba_oof_folds, pred_proba_test_folds, _ = get_prediction(\n",
    "    train_data=train_data,\n",
    "    train_labels=Y_train,\n",
    "    test_data=test_data,\n",
    "    pred_template=sample_submission,\n",
    "    process_input=get_cat_pool,\n",
    "    save_model=save_cat_model,\n",
    "    fit_model=partial(fit_cat_model, iterations=N_ITERS),\n",
    "    predict=predict_with_cat_model,\n",
    "    n_splits=N_SPLITS,\n",
    "    random_state=RANDOM_STATE,\n",
    "    experiment_name=EXPERIMENT_NAME,\n",
    "    experiment_family_name=EXPERIMENT_FAMILY_NAME,\n",
    "    suffix=''\n",
    "    )"
   ]
  },
  {
   "cell_type": "code",
   "execution_count": 23,
   "metadata": {},
   "outputs": [],
   "source": [
    "# [0.696734332557237, 0.6990545254268405, 0.6014531538523296, 0.6856487164434008, 0.7287237791501846]\n",
    "# 0.6823229014859985 0.04287576275867233"
   ]
  },
  {
   "cell_type": "code",
   "execution_count": 33,
   "metadata": {},
   "outputs": [
    {
     "name": "stdout",
     "output_type": "stream",
     "text": [
      "[0.6902405898331394, 0.6975705281194542, 0.6012725131800787, 0.6814991727597801, 0.7278802188411287]\n",
      "0.6796926045467162 0.04220402998511531\n"
     ]
    }
   ],
   "source": [
    "train_pool_whole = get_cat_pool(train_data, Y_train)\n",
    "test_pool_whole = get_cat_pool(test_data)\n",
    "train_model_whole, best_iters = fit_cat_model(train_pool_whole, iterations=N_ITERS)\n",
    "save_cat_model(train_model_whole, EXPERIMENT_NAME, EXPERIMENT_FAMILY_NAME, -1, 'whole_train')\n",
    "\n",
    "pred_proba_test_whole = train_model_whole.predict_proba(test_pool_whole)\n",
    "pred_proba_test_whole = pd.DataFrame(data=pred_proba_test_whole, index=test.index, columns=cfg.TARGETS)\n",
    "\n",
    "tresholds_whole = get_tresholds(Y_train, pred_proba_oof_whole)\n",
    "sample_submission = pd.read_csv(cfg.SAMPLE_SUBMISSION_PATH).set_index('ID')\n",
    "prediction_whole = make_prediction(pred_proba_test_whole, tresholds_whole, sample_submission)"
   ]
  },
  {
   "cell_type": "code",
   "execution_count": 34,
   "metadata": {},
   "outputs": [],
   "source": [
    "# [0.6902405898331394, 0.6975705281194542, 0.6012725131800787, 0.6814991727597801, 0.7278802188411287]\n",
    "# 0.6796926045467162 0.04220402998511531"
   ]
  },
  {
   "cell_type": "code",
   "execution_count": 35,
   "metadata": {},
   "outputs": [],
   "source": [
    "pred_proba_oof_avg = (pred_proba_oof_whole + pred_proba_oof_folds) / 2\n",
    "pred_proba_test_avg = (pred_proba_test_whole + pred_proba_test_folds) / 2"
   ]
  },
  {
   "cell_type": "code",
   "execution_count": 36,
   "metadata": {},
   "outputs": [
    {
     "name": "stdout",
     "output_type": "stream",
     "text": [
      "[0.6908226620100892, 0.6962803174020358, 0.6026039018385206, 0.6838474675775204, 0.7290012950743125]\n",
      "0.6805111287804957 0.0419212557562048\n"
     ]
    }
   ],
   "source": [
    "tresholds_avg = get_tresholds(Y_train, pred_proba_oof_avg)\n",
    "sample_submission = pd.read_csv(cfg.SAMPLE_SUBMISSION_PATH).set_index('ID')\n",
    "prediction_avg = make_prediction(pred_proba_test_avg, tresholds_avg, sample_submission)"
   ]
  },
  {
   "cell_type": "code",
   "execution_count": 28,
   "metadata": {},
   "outputs": [],
   "source": [
    "# [0.6908226620100892, 0.6962803174020358, 0.6026039018385206, 0.6838474675775204, 0.7290012950743125]\n",
    "# 0.6805111287804957 0.0419212557562048"
   ]
  },
  {
   "cell_type": "code",
   "execution_count": 29,
   "metadata": {},
   "outputs": [],
   "source": [
    "save_submission(prediction_avg, EXPERIMENT_FAMILY_NAME, EXPERIMENT_NAME, 'avg')\n",
    "save_pred_proba_oof(pred_proba_oof_avg, EXPERIMENT_FAMILY_NAME, EXPERIMENT_NAME, 'avg')\n",
    "save_pred_proba_test(pred_proba_test_avg, EXPERIMENT_FAMILY_NAME, EXPERIMENT_NAME, 'avg')"
   ]
  },
  {
   "cell_type": "code",
   "execution_count": 30,
   "metadata": {},
   "outputs": [],
   "source": [
    "save_submission(prediction_whole, EXPERIMENT_FAMILY_NAME, EXPERIMENT_NAME, 'whole')\n",
    "save_pred_proba_oof(pred_proba_oof_whole, EXPERIMENT_FAMILY_NAME, EXPERIMENT_NAME, 'whole')\n",
    "save_pred_proba_test(pred_proba_test_whole, EXPERIMENT_FAMILY_NAME, EXPERIMENT_NAME, 'whole')"
   ]
  },
  {
   "cell_type": "code",
   "execution_count": 31,
   "metadata": {},
   "outputs": [],
   "source": [
    "save_submission(prediction_folds, EXPERIMENT_FAMILY_NAME, EXPERIMENT_NAME, 'folds')\n",
    "save_pred_proba_oof(pred_proba_oof_folds, EXPERIMENT_FAMILY_NAME, EXPERIMENT_NAME, 'folds')\n",
    "save_pred_proba_test(pred_proba_test_folds, EXPERIMENT_FAMILY_NAME, EXPERIMENT_NAME, 'folds')"
   ]
  }
 ],
 "metadata": {
  "kernelspec": {
   "display_name": "Python 3.9.12 ('tf')",
   "language": "python",
   "name": "python3"
  },
  "language_info": {
   "codemirror_mode": {
    "name": "ipython",
    "version": 3
   },
   "file_extension": ".py",
   "mimetype": "text/x-python",
   "name": "python",
   "nbconvert_exporter": "python",
   "pygments_lexer": "ipython3",
   "version": "3.9.12"
  },
  "orig_nbformat": 4,
  "vscode": {
   "interpreter": {
    "hash": "d5356ef1c2ac2ef25d35a0579f082f1d273c4bada2fe955fa1b70f42402fff98"
   }
  }
 },
 "nbformat": 4,
 "nbformat_minor": 2
}
