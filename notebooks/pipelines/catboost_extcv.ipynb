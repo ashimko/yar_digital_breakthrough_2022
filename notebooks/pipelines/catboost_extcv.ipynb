{
 "cells": [
  {
   "cell_type": "markdown",
   "metadata": {},
   "source": [
    "# IMPORTS"
   ]
  },
  {
   "cell_type": "code",
   "execution_count": 1,
   "metadata": {},
   "outputs": [],
   "source": [
    "import sys\n",
    "sys.path.insert(0, \"../..\")\n",
    "import config as cfg\n",
    "import gc\n",
    "import os\n",
    "from typing import Optional, Any, Union, Callable"
   ]
  },
  {
   "cell_type": "code",
   "execution_count": 2,
   "metadata": {},
   "outputs": [],
   "source": [
    "import pandas as pd\n",
    "import numpy as np\n",
    "from tqdm.notebook import tqdm\n",
    "from metrics import compute_single_col_score, get_tresholds, compute_weird_pred_proba_score, compute_weird_pred_score\n",
    "from sklearn.metrics import recall_score\n",
    "from helper import make_prediction, check_path, get_prediction, evaluate, seed_everything, save_submission, save_pred_proba_oof, save_pred_proba_test\n",
    "from collections import defaultdict"
   ]
  },
  {
   "cell_type": "code",
   "execution_count": 3,
   "metadata": {},
   "outputs": [],
   "source": [
    "from sklearn.metrics import *\n",
    "from sklearn.model_selection import StratifiedKFold, train_test_split\n",
    "from iterstrat.ml_stratifiers import MultilabelStratifiedKFold"
   ]
  },
  {
   "cell_type": "code",
   "execution_count": 4,
   "metadata": {},
   "outputs": [],
   "source": [
    "import catboost as cb\n",
    "import catboost.datasets as cbd\n",
    "import catboost.utils as cbu"
   ]
  },
  {
   "cell_type": "code",
   "execution_count": 5,
   "metadata": {},
   "outputs": [],
   "source": [
    "RANDOM_STATE = 77\n",
    "seed_everything(RANDOM_STATE)"
   ]
  },
  {
   "cell_type": "markdown",
   "metadata": {},
   "source": [
    "# MODEL TRAINING"
   ]
  },
  {
   "cell_type": "code",
   "execution_count": 6,
   "metadata": {},
   "outputs": [],
   "source": [
    "train = pd.read_pickle(cfg.PREPARED_TRAIN_DATA_PATH)\n",
    "test = pd.read_pickle(cfg.PREPARED_TEST_DATA_PATH)"
   ]
  },
  {
   "cell_type": "code",
   "execution_count": 7,
   "metadata": {},
   "outputs": [],
   "source": [
    "X_train, Y_train = train.drop(cfg.TARGETS, axis=1), train[cfg.TARGETS]"
   ]
  },
  {
   "cell_type": "code",
   "execution_count": 8,
   "metadata": {},
   "outputs": [],
   "source": [
    "EXPERIMENT_FAMILY_NAME = 'catboost'\n",
    "EXPERIMENT_NAME = 'extcv'\n",
    "N_SPLITS = 8"
   ]
  },
  {
   "cell_type": "code",
   "execution_count": 9,
   "metadata": {},
   "outputs": [],
   "source": [
    "CAT_COLS = cfg.CAT_UNORDERED_COLS"
   ]
  },
  {
   "cell_type": "code",
   "execution_count": 10,
   "metadata": {},
   "outputs": [],
   "source": [
    "def get_cat_pool(data: pd.DataFrame, labels: Optional[pd.DataFrame]=None, shuffle: bool=True, batch_size: int=32):\n",
    "  return cb.Pool(\n",
    "    data=data, \n",
    "    label=labels,\n",
    "    cat_features=CAT_COLS)"
   ]
  },
  {
   "cell_type": "code",
   "execution_count": 11,
   "metadata": {},
   "outputs": [],
   "source": [
    "def get_cat_model(train):\n",
    "    return cb.CatBoostClassifier(\n",
    "            loss_function='MultiLogloss',\n",
    "            # custom_metric=['Recall', 'F1'],\n",
    "            # eval_metric='F:beta=2',\n",
    "            # grow_policy='Lossguide',\n",
    "            iterations=2000,\n",
    "            silent=True,\n",
    "            depth=9,\n",
    "            l2_leaf_reg=2.0,\n",
    "            learning_rate=0.001,\n",
    "            early_stopping_rounds=100,\n",
    "            random_seed=RANDOM_STATE\n",
    "        )"
   ]
  },
  {
   "cell_type": "code",
   "execution_count": 12,
   "metadata": {},
   "outputs": [],
   "source": [
    "def fit_cat_model(train, val):\n",
    "    model = get_cat_model(train)\n",
    "    model.fit(train, eval_set=val, plot=False)\n",
    "    return model"
   ]
  },
  {
   "cell_type": "code",
   "execution_count": 13,
   "metadata": {},
   "outputs": [],
   "source": [
    "def save_cat_model(model: Any, experiment_name: str, experiment_family_name: str, fold: int, suffix='') -> None:\n",
    "    if suffix:\n",
    "        suffix = '_' + suffix\n",
    "\n",
    "    model_name = f'{experiment_name}_fold_{fold}_rs_{RANDOM_STATE}{suffix}.cbm'\n",
    "    model_path = os.path.join(cfg.MODELS_PATH, EXPERIMENT_FAMILY_NAME, EXPERIMENT_NAME)\n",
    "    check_path(model_path)\n",
    "    model.save_model(os.path.join(model_path, model_name))"
   ]
  },
  {
   "cell_type": "code",
   "execution_count": 14,
   "metadata": {},
   "outputs": [],
   "source": [
    "def predict_with_cat_model(model, data) -> np.ndarray:\n",
    "    return model.predict_proba(data)"
   ]
  },
  {
   "cell_type": "code",
   "execution_count": 15,
   "metadata": {},
   "outputs": [
    {
     "data": {
      "application/vnd.jupyter.widget-view+json": {
       "model_id": "3849690edf924f99910cb0c24c88b17e",
       "version_major": 2,
       "version_minor": 0
      },
      "text/plain": [
       "  0%|          | 0/8 [00:00<?, ?it/s]"
      ]
     },
     "metadata": {},
     "output_type": "display_data"
    },
    {
     "data": {
      "application/vnd.jupyter.widget-view+json": {
       "model_id": "65c2812e44d640d59135869128024351",
       "version_major": 2,
       "version_minor": 0
      },
      "text/plain": [
       "  0%|          | 0/3 [00:00<?, ?it/s]"
      ]
     },
     "metadata": {},
     "output_type": "display_data"
    },
    {
     "name": "stdout",
     "output_type": "stream",
     "text": [
      "[0.6533371327254306, 0.6579312924079714, 0.5960665790626369, 0.6789548778312824, 0.7246521789122686]\n",
      "0.662188412187918 0.04159663822078797\n"
     ]
    },
    {
     "data": {
      "application/vnd.jupyter.widget-view+json": {
       "model_id": "45b85a5ee87a4d4cbd6ecbd705d47671",
       "version_major": 2,
       "version_minor": 0
      },
      "text/plain": [
       "  0%|          | 0/3 [00:00<?, ?it/s]"
      ]
     },
     "metadata": {},
     "output_type": "display_data"
    },
    {
     "name": "stdout",
     "output_type": "stream",
     "text": [
      "[0.6976253883710608, 0.6960183564114807, 0.6127631578947368, 0.6563412599082186, 0.7254825698645924]\n",
      "0.6776461464900179 0.039214109721195406\n"
     ]
    },
    {
     "data": {
      "application/vnd.jupyter.widget-view+json": {
       "model_id": "2289b74e7b2c4fb69a4f3a8c2cc44002",
       "version_major": 2,
       "version_minor": 0
      },
      "text/plain": [
       "  0%|          | 0/3 [00:00<?, ?it/s]"
      ]
     },
     "metadata": {},
     "output_type": "display_data"
    },
    {
     "name": "stdout",
     "output_type": "stream",
     "text": [
      "[0.6895964111343605, 0.6690875531658775, 0.6266035642465848, 0.6403142817410652, 0.7269086718524921]\n",
      "0.670502096428076 0.03573984001396853\n"
     ]
    },
    {
     "data": {
      "application/vnd.jupyter.widget-view+json": {
       "model_id": "2643001a2e664f3c9a59288fc0c81f59",
       "version_major": 2,
       "version_minor": 0
      },
      "text/plain": [
       "  0%|          | 0/3 [00:00<?, ?it/s]"
      ]
     },
     "metadata": {},
     "output_type": "display_data"
    },
    {
     "name": "stdout",
     "output_type": "stream",
     "text": [
      "[0.6375546889861138, 0.6784300350426664, 0.6040350877192983, 0.6539598108747045, 0.7110198789974072]\n",
      "0.6569999003240381 0.036249244218387516\n"
     ]
    },
    {
     "data": {
      "application/vnd.jupyter.widget-view+json": {
       "model_id": "bd12471f64ad4ba7b4781db330c04f84",
       "version_major": 2,
       "version_minor": 0
      },
      "text/plain": [
       "  0%|          | 0/3 [00:00<?, ?it/s]"
      ]
     },
     "metadata": {},
     "output_type": "display_data"
    },
    {
     "name": "stdout",
     "output_type": "stream",
     "text": [
      "[0.6928508105369808, 0.7026232836458834, 0.5903460359176522, 0.67125, 0.7323744935199288]\n",
      "0.677888924724089 0.04798365648306646\n"
     ]
    },
    {
     "data": {
      "application/vnd.jupyter.widget-view+json": {
       "model_id": "68582e50ed71412b967bce053b37ce36",
       "version_major": 2,
       "version_minor": 0
      },
      "text/plain": [
       "  0%|          | 0/3 [00:00<?, ?it/s]"
      ]
     },
     "metadata": {},
     "output_type": "display_data"
    },
    {
     "name": "stdout",
     "output_type": "stream",
     "text": [
      "[0.6798062310030395, 0.6734327606988172, 0.6000000000000001, 0.6544444444444444, 0.7155263082272479]\n",
      "0.6646419488747097 0.037892011038313994\n"
     ]
    },
    {
     "data": {
      "application/vnd.jupyter.widget-view+json": {
       "model_id": "8f08826d2d7542bfb35aea1b0874f988",
       "version_major": 2,
       "version_minor": 0
      },
      "text/plain": [
       "  0%|          | 0/3 [00:00<?, ?it/s]"
      ]
     },
     "metadata": {},
     "output_type": "display_data"
    },
    {
     "name": "stdout",
     "output_type": "stream",
     "text": [
      "[0.6787297365754813, 0.6740663567879468, 0.6144809461235217, 0.6441666666666667, 0.7254455559388295]\n",
      "0.6673778524184891 0.037100677611936826\n"
     ]
    },
    {
     "data": {
      "application/vnd.jupyter.widget-view+json": {
       "model_id": "ad78c0ae6dcf42618d781cdde357d0d2",
       "version_major": 2,
       "version_minor": 0
      },
      "text/plain": [
       "  0%|          | 0/3 [00:00<?, ?it/s]"
      ]
     },
     "metadata": {},
     "output_type": "display_data"
    },
    {
     "name": "stdout",
     "output_type": "stream",
     "text": [
      "[0.6966818642350557, 0.7009231910356428, 0.6161629434954008, 0.6768055555555557, 0.7168046452799817]\n",
      "0.6814756399203274 0.03505747601942794\n",
      "[0, 0, 0, 0, 0]\n",
      "0.0 0.0\n",
      "TEST METRICS\n",
      "defaultdict(<class 'list'>, {'weird_score': 0.0, 'oof_auc': 0.6898779035706086, 'oof_logloss': 1.0376437878403386})\n"
     ]
    }
   ],
   "source": [
    "weird_scores = []\n",
    "\n",
    "cv = MultilabelStratifiedKFold(n_splits=N_SPLITS, random_state=RANDOM_STATE, shuffle=True)\n",
    "\n",
    "pred_int = pd.DataFrame(index=Y_train.index, columns=Y_train.columns, dtype=np.int32)\n",
    "pred_proba = pd.DataFrame(index=Y_train.index, columns=Y_train.columns, dtype=np.float32)\n",
    "for train_idx, val_idx in tqdm(cv.split(X_train, Y_train), total=N_SPLITS):\n",
    "\n",
    "    pred_template = Y_train.iloc[val_idx].copy()\n",
    "    pred_template.iloc[:, :] = 0\n",
    "    \n",
    "    prediction, pred_proba_oof, pred_proba_test = get_prediction(\n",
    "        train_data=X_train.iloc[train_idx],\n",
    "        train_labels=Y_train.iloc[train_idx],\n",
    "        test_data=X_train.iloc[val_idx],\n",
    "        pred_template=pred_template,\n",
    "        process_input=get_cat_pool,\n",
    "        save_model=save_cat_model,\n",
    "        fit_model=fit_cat_model,\n",
    "        predict=predict_with_cat_model,\n",
    "        n_splits=3,\n",
    "        random_state=RANDOM_STATE,\n",
    "        experiment_name=EXPERIMENT_NAME,\n",
    "        experiment_family_name=EXPERIMENT_FAMILY_NAME,\n",
    "        suffix='eval',\n",
    "        rename_cols=False,\n",
    "        )\n",
    "    \n",
    "    pred_int.iloc[val_idx] = prediction\n",
    "    pred_proba.iloc[val_idx] = pred_proba_test\n",
    "\n",
    "metrics = evaluate(\n",
    "    test_labels=Y_train,\n",
    "    prediction=pred_int.astype(np.int32), \n",
    "    pred_proba_test=pred_proba\n",
    "    )\n"
   ]
  },
  {
   "cell_type": "code",
   "execution_count": 21,
   "metadata": {},
   "outputs": [
    {
     "name": "stdout",
     "output_type": "stream",
     "text": [
      "OVERALL METRICS\n",
      "defaultdict(<class 'list'>, {'weird_score': 0.6587770960259309, 'oof_auc': 0.6898779035706086, 'oof_logloss': 1.0376437878403386})\n"
     ]
    }
   ],
   "source": [
    "print('OVERALL METRICS')\n",
    "print(metrics)"
   ]
  },
  {
   "cell_type": "code",
   "execution_count": 17,
   "metadata": {},
   "outputs": [],
   "source": [
    "# [0.632011421731218, 0.6490860706862861, 0.661385903220677, 0.6271449441761077, 0.6818099910552275]\n",
    "# 0.6502876661739032 0.01993929966464236"
   ]
  },
  {
   "cell_type": "code",
   "execution_count": 18,
   "metadata": {},
   "outputs": [
    {
     "data": {
      "application/vnd.jupyter.widget-view+json": {
       "model_id": "b447f8378b284de0a84fc6e6a807b824",
       "version_major": 2,
       "version_minor": 0
      },
      "text/plain": [
       "  0%|          | 0/8 [00:00<?, ?it/s]"
      ]
     },
     "metadata": {},
     "output_type": "display_data"
    },
    {
     "name": "stdout",
     "output_type": "stream",
     "text": [
      "[0.6823644256887854, 0.676993452053118, 0.6079963604249738, 0.6884773442920424, 0.7266424097192243]\n",
      "0.6764947984356288 0.038432021836152276\n"
     ]
    }
   ],
   "source": [
    "sample_submission = pd.read_csv(cfg.SAMPLE_SUBMISSION_PATH).set_index('ID')\n",
    "\n",
    "prediction, pred_proba_oof, pred_proba_test = get_prediction(\n",
    "    train_data=X_train,\n",
    "    train_labels=Y_train,\n",
    "    test_data=test,\n",
    "    pred_template=sample_submission,\n",
    "    process_input=get_cat_pool,\n",
    "    save_model=save_cat_model,\n",
    "    fit_model=fit_cat_model,\n",
    "    predict=predict_with_cat_model,\n",
    "    n_splits=N_SPLITS,\n",
    "    random_state=RANDOM_STATE,\n",
    "    experiment_name=EXPERIMENT_NAME,\n",
    "    experiment_family_name=EXPERIMENT_FAMILY_NAME,\n",
    "    suffix=''\n",
    "    )"
   ]
  },
  {
   "cell_type": "code",
   "execution_count": 19,
   "metadata": {},
   "outputs": [],
   "source": [
    "save_submission(prediction, EXPERIMENT_FAMILY_NAME, EXPERIMENT_NAME)\n",
    "save_pred_proba_oof(pred_proba_oof, EXPERIMENT_FAMILY_NAME, EXPERIMENT_NAME)\n",
    "save_pred_proba_test(pred_proba_test, EXPERIMENT_FAMILY_NAME, EXPERIMENT_NAME)"
   ]
  }
 ],
 "metadata": {
  "kernelspec": {
   "display_name": "Python 3.9.12 ('tf')",
   "language": "python",
   "name": "python3"
  },
  "language_info": {
   "codemirror_mode": {
    "name": "ipython",
    "version": 3
   },
   "file_extension": ".py",
   "mimetype": "text/x-python",
   "name": "python",
   "nbconvert_exporter": "python",
   "pygments_lexer": "ipython3",
   "version": "3.9.12"
  },
  "orig_nbformat": 4,
  "vscode": {
   "interpreter": {
    "hash": "d5356ef1c2ac2ef25d35a0579f082f1d273c4bada2fe955fa1b70f42402fff98"
   }
  }
 },
 "nbformat": 4,
 "nbformat_minor": 2
}
