{
 "cells": [
  {
   "cell_type": "markdown",
   "metadata": {},
   "source": [
    "# IMPORTS"
   ]
  },
  {
   "cell_type": "code",
   "execution_count": 1,
   "metadata": {},
   "outputs": [],
   "source": [
    "import sys\n",
    "sys.path.insert(0, \"../..\")\n",
    "import config as cfg\n",
    "import gc\n",
    "import os\n",
    "from typing import Optional, Any, Union, Callable"
   ]
  },
  {
   "cell_type": "code",
   "execution_count": 2,
   "metadata": {},
   "outputs": [],
   "source": [
    "import pandas as pd\n",
    "import numpy as np\n",
    "from tqdm.notebook import tqdm\n",
    "from metrics import compute_single_col_score, get_tresholds, compute_weird_pred_proba_score, compute_weird_pred_score\n",
    "from sklearn.metrics import recall_score\n",
    "from helper import make_prediction, check_path, get_prediction, evaluate, seed_everything, save_submission, save_pred_proba_oof, save_pred_proba_test\n",
    "from collections import defaultdict"
   ]
  },
  {
   "cell_type": "code",
   "execution_count": 3,
   "metadata": {},
   "outputs": [],
   "source": [
    "from sklearn.metrics import *\n",
    "from sklearn.model_selection import StratifiedKFold, train_test_split\n",
    "from iterstrat.ml_stratifiers import MultilabelStratifiedKFold"
   ]
  },
  {
   "cell_type": "code",
   "execution_count": 4,
   "metadata": {},
   "outputs": [],
   "source": [
    "import catboost as cb\n",
    "import catboost.datasets as cbd\n",
    "import catboost.utils as cbu"
   ]
  },
  {
   "cell_type": "code",
   "execution_count": 5,
   "metadata": {},
   "outputs": [],
   "source": [
    "RANDOM_STATE = 77\n",
    "seed_everything(RANDOM_STATE)"
   ]
  },
  {
   "cell_type": "markdown",
   "metadata": {},
   "source": [
    "# MODEL TRAINING"
   ]
  },
  {
   "cell_type": "code",
   "execution_count": 6,
   "metadata": {},
   "outputs": [],
   "source": [
    "train = pd.read_pickle(cfg.PREPARED_TRAIN_DATA_PATH)\n",
    "test = pd.read_pickle(cfg.PREPARED_TEST_DATA_PATH)"
   ]
  },
  {
   "cell_type": "code",
   "execution_count": 7,
   "metadata": {},
   "outputs": [],
   "source": [
    "X_train, Y_train = train.drop(cfg.TARGETS, axis=1), train[cfg.TARGETS]"
   ]
  },
  {
   "cell_type": "code",
   "execution_count": 8,
   "metadata": {},
   "outputs": [],
   "source": [
    "EXPERIMENT_FAMILY_NAME = 'catboost'\n",
    "EXPERIMENT_NAME = 'extcv'\n",
    "N_SPLITS = 7"
   ]
  },
  {
   "cell_type": "code",
   "execution_count": 9,
   "metadata": {},
   "outputs": [],
   "source": [
    "CAT_COLS = cfg.CAT_UNORDERED_COLS"
   ]
  },
  {
   "cell_type": "code",
   "execution_count": 10,
   "metadata": {},
   "outputs": [],
   "source": [
    "def get_cat_pool(data: pd.DataFrame, labels: Optional[pd.DataFrame]=None, shuffle: bool=True, batch_size: int=32):\n",
    "  return cb.Pool(\n",
    "    data=data, \n",
    "    label=labels,\n",
    "    cat_features=CAT_COLS)"
   ]
  },
  {
   "cell_type": "code",
   "execution_count": 11,
   "metadata": {},
   "outputs": [],
   "source": [
    "def get_cat_model(train, iterations: int = None):\n",
    "    return cb.CatBoostClassifier(\n",
    "            loss_function='MultiLogloss',\n",
    "            # custom_metric=['Recall', 'F1'],\n",
    "            # eval_metric='F:beta=2',\n",
    "            # grow_policy='Lossguide',\n",
    "            iterations=2000 if iterations is None else iterations,\n",
    "            early_stopping_rounds=100 if iterations is None else None,\n",
    "            silent=True,\n",
    "            depth=3,\n",
    "            l2_leaf_reg=2.0,\n",
    "            learning_rate=0.001,\n",
    "            random_seed=RANDOM_STATE\n",
    "        )"
   ]
  },
  {
   "cell_type": "code",
   "execution_count": 12,
   "metadata": {},
   "outputs": [],
   "source": [
    "def fit_cat_model(train, val, iterations: int = None):\n",
    "    model = get_cat_model(train, iterations)\n",
    "    model.fit(train, eval_set=val, plot=False)\n",
    "    best_iter = model.get_best_iteration()\n",
    "    return model, best_iter"
   ]
  },
  {
   "cell_type": "code",
   "execution_count": 13,
   "metadata": {},
   "outputs": [],
   "source": [
    "def save_cat_model(model: Any, experiment_name: str, experiment_family_name: str, fold: int, suffix='') -> None:\n",
    "    if suffix:\n",
    "        suffix = '_' + suffix\n",
    "\n",
    "    model_name = f'{experiment_name}_fold_{fold}_rs_{RANDOM_STATE}{suffix}.cbm'\n",
    "    model_path = os.path.join(cfg.MODELS_PATH, EXPERIMENT_FAMILY_NAME, EXPERIMENT_NAME)\n",
    "    check_path(model_path)\n",
    "    model.save_model(os.path.join(model_path, model_name))"
   ]
  },
  {
   "cell_type": "code",
   "execution_count": 14,
   "metadata": {},
   "outputs": [],
   "source": [
    "def predict_with_cat_model(model, data) -> np.ndarray:\n",
    "    return model.predict_proba(data)"
   ]
  },
  {
   "cell_type": "code",
   "execution_count": 15,
   "metadata": {},
   "outputs": [
    {
     "data": {
      "application/vnd.jupyter.widget-view+json": {
       "model_id": "0c8463ea7ab44dbe82b546a3923617b2",
       "version_major": 2,
       "version_minor": 0
      },
      "text/plain": [
       "  0%|          | 0/7 [00:00<?, ?it/s]"
      ]
     },
     "metadata": {},
     "output_type": "display_data"
    },
    {
     "data": {
      "application/vnd.jupyter.widget-view+json": {
       "model_id": "393caa7832d140d394adca27706d3819",
       "version_major": 2,
       "version_minor": 0
      },
      "text/plain": [
       "  0%|          | 0/3 [00:00<?, ?it/s]"
      ]
     },
     "metadata": {},
     "output_type": "display_data"
    },
    {
     "name": "stdout",
     "output_type": "stream",
     "text": [
      "[0.6777405885471899, 0.6839275766016712, 0.6138113920371985, 0.6926290822842547, 0.7280549017724194]\n",
      "0.6792327082485468 0.037060184140580384\n"
     ]
    },
    {
     "data": {
      "application/vnd.jupyter.widget-view+json": {
       "model_id": "aa7ae2bb2a6a44febdeeb2606cbd411c",
       "version_major": 2,
       "version_minor": 0
      },
      "text/plain": [
       "  0%|          | 0/3 [00:00<?, ?it/s]"
      ]
     },
     "metadata": {},
     "output_type": "display_data"
    },
    {
     "name": "stdout",
     "output_type": "stream",
     "text": [
      "[0.6932867338920901, 0.6844438622135194, 0.6079539270814438, 0.7020408163265306, 0.7246179366182002]\n",
      "0.6824686552263568 0.03958031932956167\n"
     ]
    },
    {
     "data": {
      "application/vnd.jupyter.widget-view+json": {
       "model_id": "013cfb68b4884a7383f38062c96d8abf",
       "version_major": 2,
       "version_minor": 0
      },
      "text/plain": [
       "  0%|          | 0/3 [00:00<?, ?it/s]"
      ]
     },
     "metadata": {},
     "output_type": "display_data"
    },
    {
     "name": "stdout",
     "output_type": "stream",
     "text": [
      "[0.6821470665269775, 0.6900834492350487, 0.598022855069835, 0.6686224489795918, 0.7263276403094834]\n",
      "0.6730406920241873 0.04209531380190474\n"
     ]
    },
    {
     "data": {
      "application/vnd.jupyter.widget-view+json": {
       "model_id": "0b4c8ab73d4d428fa6524261c8d50978",
       "version_major": 2,
       "version_minor": 0
      },
      "text/plain": [
       "  0%|          | 0/3 [00:00<?, ?it/s]"
      ]
     },
     "metadata": {},
     "output_type": "display_data"
    },
    {
     "name": "stdout",
     "output_type": "stream",
     "text": [
      "[0.6452576364298243, 0.6690890125173853, 0.5936409710235411, 0.6677295918367346, 0.7223992715684042]\n",
      "0.6596232966751779 0.04160811054140829\n"
     ]
    },
    {
     "data": {
      "application/vnd.jupyter.widget-view+json": {
       "model_id": "ab46cb633c1545c9b76906aa8f881228",
       "version_major": 2,
       "version_minor": 0
      },
      "text/plain": [
       "  0%|          | 0/3 [00:00<?, ?it/s]"
      ]
     },
     "metadata": {},
     "output_type": "display_data"
    },
    {
     "name": "stdout",
     "output_type": "stream",
     "text": [
      "[0.6884444591728527, 0.690974930362117, 0.6163280316263675, 0.6660463419084108, 0.7184603006868726]\n",
      "0.6760508127513242 0.03418127103307966\n"
     ]
    },
    {
     "data": {
      "application/vnd.jupyter.widget-view+json": {
       "model_id": "85e35a3cccd944ff81bb83a5b629610b",
       "version_major": 2,
       "version_minor": 0
      },
      "text/plain": [
       "  0%|          | 0/3 [00:00<?, ?it/s]"
      ]
     },
     "metadata": {},
     "output_type": "display_data"
    },
    {
     "name": "stdout",
     "output_type": "stream",
     "text": [
      "[0.7118095773902109, 0.6848539638386648, 0.6297478686740432, 0.6682397959183674, 0.7194070710580229]\n",
      "0.6828116553758619 0.032287395376966364\n"
     ]
    },
    {
     "data": {
      "application/vnd.jupyter.widget-view+json": {
       "model_id": "2ecec8acb82742bab13a2d274e99ba1c",
       "version_major": 2,
       "version_minor": 0
      },
      "text/plain": [
       "  0%|          | 0/3 [00:00<?, ?it/s]"
      ]
     },
     "metadata": {},
     "output_type": "display_data"
    },
    {
     "name": "stdout",
     "output_type": "stream",
     "text": [
      "[0.6883947507953341, 0.6921993454575583, 0.6049658529497239, 0.6906081273088945, 0.7197692012104329]\n",
      "0.6791874555443889 0.03883359288432362\n",
      "[0.6653630675203726, 0.6625614507476083, 0.5967899483501485, 0.6593237978331643, 0.7139779925467151]\n",
      "0.6596032513996016 0.03726695059760448\n",
      "TEST METRICS\n",
      "defaultdict(<class 'list'>, {'weird_score': 0.6596032513996016, 'oof_auc': 0.6875309046672902, 'oof_logloss': 1.0399101685479049})\n"
     ]
    }
   ],
   "source": [
    "weird_scores = []\n",
    "\n",
    "cv = MultilabelStratifiedKFold(n_splits=N_SPLITS, random_state=RANDOM_STATE, shuffle=True)\n",
    "\n",
    "pred_int = pd.DataFrame(index=Y_train.index, columns=Y_train.columns, dtype=np.int32)\n",
    "pred_proba = pd.DataFrame(index=Y_train.index, columns=Y_train.columns, dtype=np.float32)\n",
    "best_iters_global = []\n",
    "for train_idx, val_idx in tqdm(cv.split(X_train, Y_train), total=N_SPLITS):\n",
    "\n",
    "    pred_template = Y_train.iloc[val_idx].copy()\n",
    "    pred_template.iloc[:, :] = 0\n",
    "    \n",
    "    prediction, pred_proba_oof, pred_proba_test, best_iters = get_prediction(\n",
    "        train_data=X_train.iloc[train_idx],\n",
    "        train_labels=Y_train.iloc[train_idx],\n",
    "        test_data=X_train.iloc[val_idx],\n",
    "        pred_template=pred_template,\n",
    "        process_input=get_cat_pool,\n",
    "        save_model=save_cat_model,\n",
    "        fit_model=fit_cat_model,\n",
    "        predict=predict_with_cat_model,\n",
    "        n_splits=3,\n",
    "        random_state=RANDOM_STATE,\n",
    "        experiment_name=EXPERIMENT_NAME,\n",
    "        experiment_family_name=EXPERIMENT_FAMILY_NAME,\n",
    "        suffix='eval',\n",
    "        rename_cols=False,\n",
    "        )\n",
    "    \n",
    "    pred_int.iloc[val_idx] = prediction\n",
    "    pred_proba.iloc[val_idx] = pred_proba_test\n",
    "    best_iters_global.extend(best_iters)\n",
    "\n",
    "metrics = evaluate(\n",
    "    test_labels=Y_train,\n",
    "    prediction=pred_int.astype(np.int32), \n",
    "    pred_proba_test=pred_proba\n",
    "    )\n"
   ]
  },
  {
   "cell_type": "code",
   "execution_count": 16,
   "metadata": {},
   "outputs": [
    {
     "name": "stdout",
     "output_type": "stream",
     "text": [
      "OVERALL METRICS\n",
      "defaultdict(<class 'list'>, {'weird_score': 0.6596032513996016, 'oof_auc': 0.6875309046672902, 'oof_logloss': 1.0399101685479049})\n",
      "[1999, 1999, 1999, 1999, 1999, 1999, 1999, 1999, 1999, 1999, 1999, 1999, 1999, 1999, 1999, 1999, 1998, 1999, 1999, 1999, 1999]\n"
     ]
    }
   ],
   "source": [
    "print('OVERALL METRICS')\n",
    "print(metrics)\n",
    "print(best_iters_global)"
   ]
  },
  {
   "cell_type": "code",
   "execution_count": 17,
   "metadata": {},
   "outputs": [],
   "source": [
    "N_ITERS = int(np.mean(best_iters_global))"
   ]
  },
  {
   "cell_type": "code",
   "execution_count": 18,
   "metadata": {},
   "outputs": [],
   "source": [
    "# [0.632011421731218, 0.6490860706862861, 0.661385903220677, 0.6271449441761077, 0.6818099910552275]\n",
    "# 0.6502876661739032 0.01993929966464236"
   ]
  },
  {
   "cell_type": "code",
   "execution_count": 19,
   "metadata": {},
   "outputs": [
    {
     "data": {
      "application/vnd.jupyter.widget-view+json": {
       "model_id": "57d17fd3b2f6443aa34a0610b2e823a3",
       "version_major": 2,
       "version_minor": 0
      },
      "text/plain": [
       "  0%|          | 0/7 [00:00<?, ?it/s]"
      ]
     },
     "metadata": {},
     "output_type": "display_data"
    },
    {
     "name": "stdout",
     "output_type": "stream",
     "text": [
      "[0.685456684128832, 0.6883146686249312, 0.6084178553268927, 0.6825265517425415, 0.718023998519915]\n",
      "0.6765479516686226 0.0363745440954669\n"
     ]
    }
   ],
   "source": [
    "from functools import partial\n",
    "\n",
    "\n",
    "sample_submission = pd.read_csv(cfg.SAMPLE_SUBMISSION_PATH).set_index('ID')\n",
    "\n",
    "prediction, pred_proba_oof, pred_proba_test, _ = get_prediction(\n",
    "    train_data=X_train,\n",
    "    train_labels=Y_train,\n",
    "    test_data=test,\n",
    "    pred_template=sample_submission,\n",
    "    process_input=get_cat_pool,\n",
    "    save_model=save_cat_model,\n",
    "    fit_model=partial(fit_cat_model, iterations=N_ITERS),\n",
    "    predict=predict_with_cat_model,\n",
    "    n_splits=N_SPLITS,\n",
    "    random_state=RANDOM_STATE,\n",
    "    experiment_name=EXPERIMENT_NAME,\n",
    "    experiment_family_name=EXPERIMENT_FAMILY_NAME,\n",
    "    suffix=''\n",
    "    )"
   ]
  },
  {
   "cell_type": "code",
   "execution_count": 20,
   "metadata": {},
   "outputs": [],
   "source": [
    "save_submission(prediction, EXPERIMENT_FAMILY_NAME, EXPERIMENT_NAME)\n",
    "save_pred_proba_oof(pred_proba_oof, EXPERIMENT_FAMILY_NAME, EXPERIMENT_NAME)\n",
    "save_pred_proba_test(pred_proba_test, EXPERIMENT_FAMILY_NAME, EXPERIMENT_NAME)"
   ]
  }
 ],
 "metadata": {
  "kernelspec": {
   "display_name": "Python 3.9.12 ('tf')",
   "language": "python",
   "name": "python3"
  },
  "language_info": {
   "codemirror_mode": {
    "name": "ipython",
    "version": 3
   },
   "file_extension": ".py",
   "mimetype": "text/x-python",
   "name": "python",
   "nbconvert_exporter": "python",
   "pygments_lexer": "ipython3",
   "version": "3.9.12"
  },
  "orig_nbformat": 4,
  "vscode": {
   "interpreter": {
    "hash": "d5356ef1c2ac2ef25d35a0579f082f1d273c4bada2fe955fa1b70f42402fff98"
   }
  }
 },
 "nbformat": 4,
 "nbformat_minor": 2
}
