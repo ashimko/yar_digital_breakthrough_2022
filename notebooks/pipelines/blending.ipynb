{
 "cells": [
  {
   "cell_type": "code",
   "execution_count": 56,
   "metadata": {},
   "outputs": [],
   "source": [
    "import sys\n",
    "sys.path.insert(0, \"../..\")\n",
    "import config as cfg\n",
    "import gc"
   ]
  },
  {
   "cell_type": "code",
   "execution_count": 57,
   "metadata": {},
   "outputs": [],
   "source": [
    "import pandas as pd\n",
    "import numpy as np\n",
    "from metrics import *\n",
    "from helper import *"
   ]
  },
  {
   "cell_type": "code",
   "execution_count": 58,
   "metadata": {},
   "outputs": [],
   "source": [
    "EXPERIMENT_FAMILY_NAME = 'blending'\n",
    "EXPERIMENT_NAME = 'baseline'"
   ]
  },
  {
   "cell_type": "code",
   "execution_count": 59,
   "metadata": {},
   "outputs": [],
   "source": [
    "model_names = {\n",
    "    # 'logreg': ['baseline'],\n",
    "    # 'mlp': ['baseline'],\n",
    "    # 'svm': ['baseline'],\n",
    "    # 'gbt': ['baseline'],\n",
    "    # 'rf': ['baseline'],\n",
    "    # 'lgb': ['baseline'],\n",
    "    # 'xgb': ['baseline'],\n",
    "    # 'stacking': ['baseline'],\n",
    "    'keras': ['baseline'],\n",
    "    'catboost': [\n",
    "        'baseline', \n",
    "        # 'cat_encoders', \n",
    "        # 'selected_features',\n",
    "        # 'baseline_optuna', \n",
    "        # 'lossguide_optuna', \n",
    "        'lossguide',\n",
    "        # 'depthwise'\n",
    "    ] # only_real_cols, 'only_cat_cols'\n",
    "}"
   ]
  },
  {
   "cell_type": "code",
   "execution_count": 60,
   "metadata": {},
   "outputs": [],
   "source": [
    "train = pd.read_pickle(cfg.PREPARED_TRAIN_DATA_PATH)\n",
    "oof_pred_probas = []\n",
    "test_pred_probas = []\n",
    "\n",
    "for model_name in model_names:\n",
    "    for experiment_name in model_names[model_name]:\n",
    "        oof_pred_probas.append(pd.read_pickle(os.path.join(cfg.OOF_PRED_PATH, model_name, f'{experiment_name}.pkl')))\n",
    "        test_pred_probas.append(pd.read_pickle(os.path.join(cfg.TEST_PRED_PATH, model_name, f'{experiment_name}.pkl')))"
   ]
  },
  {
   "cell_type": "code",
   "execution_count": 61,
   "metadata": {},
   "outputs": [],
   "source": [
    "def process_pred_proba(pred_probas: list) -> pd.DataFrame:\n",
    "    first_df = pred_probas[0]\n",
    "    blend_oof = pd.DataFrame(data=np.zeros(shape=first_df.shape), index=first_df.index, columns=first_df.columns)\n",
    "    for pred_proba in pred_probas:\n",
    "        pred_proba = pred_proba.rank() / (len(pred_proba) - 1)\n",
    "        blend_oof += pred_proba\n",
    "    blend_oof /= len(pred_probas)\n",
    "    return blend_oof"
   ]
  },
  {
   "cell_type": "code",
   "execution_count": 62,
   "metadata": {},
   "outputs": [],
   "source": [
    "blend_oof = process_pred_proba(oof_pred_probas)\n",
    "blend_test = process_pred_proba(test_pred_probas)"
   ]
  },
  {
   "cell_type": "code",
   "execution_count": 63,
   "metadata": {},
   "outputs": [
    {
     "name": "stdout",
     "output_type": "stream",
     "text": [
      "[0.7112558207217695, 0.7055208779552455, 0.6077220542189632, 0.6712654106847414, 0.7357828151567745]\n",
      "0.6863093957474987 0.04436511271427752\n"
     ]
    }
   ],
   "source": [
    "tresholds = get_tresholds(train[cfg.TARGETS], blend_oof)\n",
    "sample_submission = pd.read_csv(cfg.SAMPLE_SUBMISSION_PATH).set_index('ID')\n",
    "submission = make_prediction(blend_test, tresholds, sample_submission)"
   ]
  },
  {
   "cell_type": "code",
   "execution_count": 64,
   "metadata": {},
   "outputs": [],
   "source": [
    "# [0.7112558207217695, 0.7055208779552455, 0.6077220542189632, 0.6712654106847414, 0.7357828151567745]\n",
    "# 0.6863093957474987 0.04436511271427752"
   ]
  },
  {
   "cell_type": "code",
   "execution_count": 65,
   "metadata": {},
   "outputs": [],
   "source": [
    "# 0.6902553424448903\n",
    "\n",
    "# model_names = {\n",
    "#     # 'logreg': ['baseline'],\n",
    "#     # 'mlp': ['baseline'],\n",
    "#     # 'svm': ['baseline'],\n",
    "#     # 'gbt': ['baseline'],\n",
    "#     # 'rf': ['baseline'],\n",
    "#     'catboost': ['baseline', 'only_real_cols']\n",
    "# }"
   ]
  },
  {
   "cell_type": "code",
   "execution_count": 66,
   "metadata": {},
   "outputs": [],
   "source": [
    "submission_path = os.path.join(cfg.SUBMISSION_PATH, EXPERIMENT_FAMILY_NAME)\n",
    "check_path(submission_path)\n",
    "submission.to_csv(os.path.join(submission_path, f'{EXPERIMENT_NAME}.csv'))\n",
    "\n",
    "blend_oof_path = os.path.join(cfg.OOF_PRED_PATH, EXPERIMENT_FAMILY_NAME)\n",
    "check_path(blend_oof_path)\n",
    "blend_oof.to_pickle(os.path.join(blend_oof_path, f'{EXPERIMENT_NAME}.pkl'))\n",
    "\n",
    "blend_test_path = os.path.join(cfg.TEST_PRED_PATH, EXPERIMENT_FAMILY_NAME)\n",
    "check_path(blend_test_path)\n",
    "blend_test.to_pickle(os.path.join(blend_test_path, f'{EXPERIMENT_NAME}.pkl'))"
   ]
  }
 ],
 "metadata": {
  "kernelspec": {
   "display_name": "Python 3 (ipykernel)",
   "language": "python",
   "name": "python3"
  },
  "language_info": {
   "codemirror_mode": {
    "name": "ipython",
    "version": 3
   },
   "file_extension": ".py",
   "mimetype": "text/x-python",
   "name": "python",
   "nbconvert_exporter": "python",
   "pygments_lexer": "ipython3",
   "version": "3.9.12"
  },
  "orig_nbformat": 4,
  "vscode": {
   "interpreter": {
    "hash": "04d48c12bfbca8a14a4066630f6d13e81276286aa1e28ae9f6bc2bde884e5eee"
   }
  }
 },
 "nbformat": 4,
 "nbformat_minor": 2
}
