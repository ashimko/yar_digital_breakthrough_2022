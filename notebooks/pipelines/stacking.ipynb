{
 "cells": [
  {
   "cell_type": "markdown",
   "metadata": {},
   "source": [
    "# IMPORTS"
   ]
  },
  {
   "cell_type": "code",
   "execution_count": 62,
   "metadata": {},
   "outputs": [],
   "source": [
    "import sys\n",
    "sys.path.insert(0, \"../..\")\n",
    "import config as cfg\n",
    "import gc"
   ]
  },
  {
   "cell_type": "code",
   "execution_count": 63,
   "metadata": {},
   "outputs": [],
   "source": [
    "import pandas as pd\n",
    "import numpy as np\n",
    "import re\n",
    "from tqdm.notebook import tqdm\n",
    "from metrics import *\n",
    "from helper import *\n",
    "from iterstrat.ml_stratifiers import MultilabelStratifiedKFold"
   ]
  },
  {
   "cell_type": "code",
   "execution_count": 64,
   "metadata": {},
   "outputs": [],
   "source": [
    "import catboost as cb\n",
    "import catboost.datasets as cbd\n",
    "import catboost.utils as cbu\n",
    "import hyperopt"
   ]
  },
  {
   "cell_type": "markdown",
   "metadata": {},
   "source": [
    "# MODEL TRAINING"
   ]
  },
  {
   "cell_type": "code",
   "execution_count": 65,
   "metadata": {},
   "outputs": [],
   "source": [
    "train = pd.read_pickle(cfg.PREPARED_TRAIN_DATA_PATH)\n",
    "test = pd.read_pickle(cfg.PREPARED_TEST_DATA_PATH)"
   ]
  },
  {
   "cell_type": "code",
   "execution_count": 66,
   "metadata": {},
   "outputs": [],
   "source": [
    "X_train, Y_train = train.drop(cfg.TARGETS, axis=1), train[cfg.TARGETS]\n",
    "ORIGINAL_COLS = X_train.columns"
   ]
  },
  {
   "cell_type": "code",
   "execution_count": 67,
   "metadata": {},
   "outputs": [],
   "source": [
    "model_names = ['logreg', 'mlp', 'svm', 'gbt', 'rf'] \n",
    "experiments = ['baseline']"
   ]
  },
  {
   "cell_type": "code",
   "execution_count": 68,
   "metadata": {},
   "outputs": [],
   "source": [
    "def asemble_data(base_path: str) -> pd.DataFrame:\n",
    "    df = []\n",
    "    for model_name in model_names:\n",
    "        for experiment in experiments:\n",
    "            path = os.path.join(base_path, model_name, f'{experiment}.pkl')\n",
    "            tdf = pd.read_pickle(path)\n",
    "            tdf.columns = [f'{model_name}_{experiment}_{col}' for col in tdf.columns]\n",
    "            df.append(tdf)\n",
    "    return pd.concat(df, axis=1)"
   ]
  },
  {
   "cell_type": "code",
   "execution_count": 69,
   "metadata": {},
   "outputs": [],
   "source": [
    "X_train = X_train.join(asemble_data(cfg.OOF_PRED_PATH))\n",
    "test = test.join(asemble_data(cfg.TEST_PRED_PATH))"
   ]
  },
  {
   "cell_type": "code",
   "execution_count": 70,
   "metadata": {},
   "outputs": [],
   "source": [
    "assert X_train.columns.tolist() == test.columns.tolist()"
   ]
  },
  {
   "cell_type": "code",
   "execution_count": 71,
   "metadata": {},
   "outputs": [],
   "source": [
    "pred_proba_oof = pd.DataFrame(data=np.zeros(shape=(len(train), len(cfg.TARGETS))), index=train.index, columns=cfg.TARGETS)\n",
    "pred_proba_test = pd.DataFrame(data=np.zeros(shape=(len(test), len(cfg.TARGETS))), index=test.index, columns=cfg.TARGETS)\n",
    "metrics = {}"
   ]
  },
  {
   "cell_type": "code",
   "execution_count": 72,
   "metadata": {},
   "outputs": [],
   "source": [
    "EXPERIMENT_FAMILY_NAME = 'stacking'\n",
    "EXPERIMENT_NAME = 'baseline'\n",
    "RANDOM_STATE = 77\n",
    "N_SPLITS = 5\n",
    "N_RANDOM_SEEDS = 7"
   ]
  },
  {
   "cell_type": "code",
   "execution_count": 73,
   "metadata": {},
   "outputs": [],
   "source": [
    "X_train, test = X_train.drop(ORIGINAL_COLS, axis=1), test.drop(ORIGINAL_COLS, axis=1)"
   ]
  },
  {
   "cell_type": "code",
   "execution_count": 74,
   "metadata": {},
   "outputs": [
    {
     "data": {
      "application/vnd.jupyter.widget-view+json": {
       "model_id": "6746317fc9a74afab3bf061051f564ac",
       "version_major": 2,
       "version_minor": 0
      },
      "text/plain": [
       "  0%|          | 0/5 [00:00<?, ?it/s]"
      ]
     },
     "metadata": {},
     "output_type": "display_data"
    }
   ],
   "source": [
    "cv = MultilabelStratifiedKFold(n_splits=N_SPLITS, random_state=RANDOM_STATE, shuffle=True)\n",
    "\n",
    "CAT_COLS = cfg.CAT_UNORDERED_COLS\n",
    "\n",
    "test_pool = cb.Pool(\n",
    "        data=test,\n",
    "        # cat_features=CAT_COLS\n",
    "        )\n",
    "\n",
    "fold = 0\n",
    "for train_idx, val_idx in tqdm(cv.split(X_train, Y_train), total=N_SPLITS):\n",
    "\n",
    "    train_pool = cb.Pool(\n",
    "        data=X_train.iloc[train_idx], \n",
    "        label=Y_train.iloc[train_idx],\n",
    "        # cat_features=CAT_COLS\n",
    "        )\n",
    "\n",
    "    val_pool = cb.Pool(\n",
    "        data=X_train.iloc[val_idx], \n",
    "        label=Y_train.iloc[val_idx],\n",
    "        # cat_features=CAT_COLS\n",
    "        )\n",
    "        \n",
    "\n",
    "    clf = cb.CatBoostClassifier(\n",
    "        loss_function='MultiLogloss',\n",
    "        custom_metric=['Recall', 'F1'],\n",
    "        silent=True,\n",
    "        iterations=1200,\n",
    "        depth=2,\n",
    "        l2_leaf_reg=5.0,\n",
    "        learning_rate=0.0001,\n",
    "        early_stopping_rounds=100\n",
    "    )\n",
    "\n",
    "    clf.fit(train_pool, eval_set=val_pool, plot=False)\n",
    "    \n",
    "    model_name = f'{EXPERIMENT_NAME}_fold_{fold}.pkl'\n",
    "    model_path = os.path.join(cfg.MODELS_PATH, EXPERIMENT_FAMILY_NAME, EXPERIMENT_NAME)\n",
    "    check_path(model_path)\n",
    "    clf.save_model(os.path.join(model_path, model_name))\n",
    "    \n",
    "    pred_proba_oof.iloc[val_idx, :] += clf.predict_proba(val_pool)\n",
    "    pred_proba_test.iloc[:, :] += clf.predict_proba(test_pool)\n",
    "    gc.collect()\n",
    "\n",
    "    fold += 1\n",
    "    \n",
    "pred_proba_test /= N_SPLITS"
   ]
  },
  {
   "cell_type": "markdown",
   "metadata": {},
   "source": [
    "# PREDICT AND SAVE PREDICTIONS"
   ]
  },
  {
   "cell_type": "code",
   "execution_count": 75,
   "metadata": {},
   "outputs": [
    {
     "name": "stdout",
     "output_type": "stream",
     "text": [
      "0.6790305016420121\n"
     ]
    }
   ],
   "source": [
    "tresholds = get_tresholds(train[cfg.TARGETS], pred_proba_oof)\n",
    "sample_submission = pd.read_csv(cfg.SAMPLE_SUBMISSION_PATH).set_index('ID')\n",
    "submission = make_prediction(pred_proba_test, tresholds, sample_submission)"
   ]
  },
  {
   "cell_type": "code",
   "execution_count": 76,
   "metadata": {},
   "outputs": [],
   "source": [
    "## BEST PARAMS\n",
    "# 0.6912250203448425\n",
    "\n",
    "# model_names = ['catboost', 'logreg', 'rf', 'mlp'] # 'gbt',  \n",
    "# experiments = ['baseline']\n",
    "\n",
    "# cv = MultilabelStratifiedKFold(n_splits=N_SPLITS, random_state=RANDOM_STATE, shuffle=True)\n",
    "\n",
    "# CAT_COLS = cfg.CAT_UNORDERED_COLS\n",
    "\n",
    "# test_pool = cb.Pool(\n",
    "#         data=test,\n",
    "#         cat_features=CAT_COLS\n",
    "#         )\n",
    "\n",
    "# fold = 0\n",
    "# for train_idx, val_idx in tqdm(cv.split(X_train, Y_train), total=N_SPLITS):\n",
    "\n",
    "#     train_pool = cb.Pool(\n",
    "#         data=X_train.iloc[train_idx], \n",
    "#         label=Y_train.iloc[train_idx],\n",
    "#         cat_features=CAT_COLS\n",
    "#         )\n",
    "\n",
    "#     val_pool = cb.Pool(\n",
    "#         data=X_train.iloc[val_idx], \n",
    "#         label=Y_train.iloc[val_idx],\n",
    "#         cat_features=CAT_COLS\n",
    "#         )\n",
    "        \n",
    "\n",
    "#     clf = cb.CatBoostClassifier(\n",
    "#         loss_function='MultiLogloss',\n",
    "#         custom_metric=['Recall', 'F1'],\n",
    "#         silent=True,\n",
    "#         iterations=1200,\n",
    "#         depth=2,\n",
    "#         l2_leaf_reg=5.0,\n",
    "#         learning_rate=0.0001,\n",
    "#         early_stopping_rounds=100\n",
    "#     )\n",
    "\n",
    "#     clf.fit(train_pool, eval_set=val_pool, plot=False)\n",
    "    \n",
    "#     model_name = f'{EXPERIMENT_NAME}_fold_{fold}.pkl'\n",
    "#     model_path = os.path.join(cfg.MODELS_PATH, EXPERIMENT_FAMILY_NAME, EXPERIMENT_NAME)\n",
    "#     check_path(model_path)\n",
    "#     clf.save_model(os.path.join(model_path, model_name))\n",
    "    \n",
    "#     pred_proba_oof.iloc[val_idx, :] += clf.predict_proba(val_pool)\n",
    "#     pred_proba_test.iloc[:, :] += clf.predict_proba(test_pool)\n",
    "#     gc.collect()\n",
    "\n",
    "#     fold += 1\n",
    "    \n",
    "# pred_proba_test /= N_SPLITS"
   ]
  },
  {
   "cell_type": "code",
   "execution_count": 77,
   "metadata": {},
   "outputs": [],
   "source": [
    "submission_path = os.path.join(cfg.SUBMISSION_PATH, EXPERIMENT_FAMILY_NAME)\n",
    "check_path(submission_path)\n",
    "submission.to_csv(os.path.join(submission_path, f'{EXPERIMENT_NAME}.csv'))\n",
    "\n",
    "pred_proba_oof_path = os.path.join(cfg.OOF_PRED_PATH, EXPERIMENT_FAMILY_NAME)\n",
    "check_path(pred_proba_oof_path)\n",
    "pred_proba_oof.to_pickle(os.path.join(pred_proba_oof_path, f'{EXPERIMENT_NAME}.pkl'))\n",
    "\n",
    "pred_proba_test_path = os.path.join(cfg.TEST_PRED_PATH, EXPERIMENT_FAMILY_NAME)\n",
    "check_path(pred_proba_test_path)\n",
    "pred_proba_test.to_pickle(os.path.join(pred_proba_test_path, f'{EXPERIMENT_NAME}.pkl'))"
   ]
  }
 ],
 "metadata": {
  "kernelspec": {
   "display_name": "Python 3 (ipykernel)",
   "language": "python",
   "name": "python3"
  },
  "language_info": {
   "codemirror_mode": {
    "name": "ipython",
    "version": 3
   },
   "file_extension": ".py",
   "mimetype": "text/x-python",
   "name": "python",
   "nbconvert_exporter": "python",
   "pygments_lexer": "ipython3",
   "version": "3.9.12"
  },
  "orig_nbformat": 4
 },
 "nbformat": 4,
 "nbformat_minor": 2
}
