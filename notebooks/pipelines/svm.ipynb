{
 "cells": [
  {
   "cell_type": "markdown",
   "metadata": {},
   "source": [
    "# IMPORTS"
   ]
  },
  {
   "cell_type": "code",
   "execution_count": 50,
   "metadata": {},
   "outputs": [],
   "source": [
    "import sys\n",
    "sys.path.insert(0, \"../..\")\n",
    "import config as cfg\n",
    "import gc"
   ]
  },
  {
   "cell_type": "code",
   "execution_count": 51,
   "metadata": {},
   "outputs": [],
   "source": [
    "import pandas as pd\n",
    "import numpy as np\n",
    "import re\n",
    "from tqdm.notebook import tqdm\n",
    "from metrics import *\n",
    "from helper import *\n",
    "from iterstrat.ml_stratifiers import MultilabelStratifiedKFold"
   ]
  },
  {
   "cell_type": "code",
   "execution_count": 52,
   "metadata": {},
   "outputs": [],
   "source": [
    "from sklearn.linear_model import LogisticRegressionCV\n",
    "from sklearn.preprocessing import *\n",
    "from sklearn.pipeline import *\n",
    "from sklearn.compose import *\n",
    "from sklearn.impute import *\n",
    "from sklearn.multioutput import *\n",
    "from sklearn.base import clone\n",
    "from sklearn.svm import *\n",
    "from sklearn.model_selection import *\n",
    "from sklearn.svm import *"
   ]
  },
  {
   "cell_type": "markdown",
   "metadata": {},
   "source": [
    "# MODEL TRAINING"
   ]
  },
  {
   "cell_type": "code",
   "execution_count": 53,
   "metadata": {},
   "outputs": [],
   "source": [
    "train = pd.read_pickle(cfg.PREPARED_TRAIN_DATA_PATH)\n",
    "test = pd.read_pickle(cfg.PREPARED_TEST_DATA_PATH)"
   ]
  },
  {
   "cell_type": "code",
   "execution_count": 54,
   "metadata": {},
   "outputs": [],
   "source": [
    "X_train, Y_train = train.drop(cfg.TARGETS, axis=1), train[cfg.TARGETS]"
   ]
  },
  {
   "cell_type": "code",
   "execution_count": 55,
   "metadata": {},
   "outputs": [],
   "source": [
    "pred_proba_oof = pd.DataFrame(data=np.zeros(shape=(len(train), len(cfg.TARGETS))), index=train.index, columns=cfg.TARGETS)\n",
    "pred_proba_test = pd.DataFrame(data=np.zeros(shape=(len(test), len(cfg.TARGETS))), index=test.index, columns=cfg.TARGETS)\n",
    "metrics = {}"
   ]
  },
  {
   "cell_type": "code",
   "execution_count": 56,
   "metadata": {},
   "outputs": [],
   "source": [
    "EXPERIMENT_FAMILY_NAME = 'svm'\n",
    "EXPERIMENT_NAME = 'baseline'\n",
    "RANDOM_STATE = 77\n",
    "N_SPLITS = 5\n",
    "N_RANDOM_SEEDS = 7"
   ]
  },
  {
   "cell_type": "code",
   "execution_count": 57,
   "metadata": {},
   "outputs": [],
   "source": [
    "scoring = get_weird_single_col_pred_proba_score()\n",
    "\n",
    "base_model = GridSearchCV(\n",
    "    estimator=SVC(probability=True),\n",
    "    param_grid={'C': np.linspace(0.01, 5, 15)},\n",
    "    scoring=scoring,\n",
    "    n_jobs=4\n",
    ")\n",
    "\n",
    "real_cols_pipe = make_pipeline(SimpleImputer(), StandardScaler(), PowerTransformer())\n",
    "preprocess_pipe = ColumnTransformer(n_jobs=-1, transformers=[\n",
    "    ('real_cols', real_cols_pipe, cfg.REAL_COLS),\n",
    "    ('cat_cols', OneHotEncoder(handle_unknown='ignore', dtype=np.int8), cfg.CAT_UNORDERED_COLS),\n",
    "    ('ordinal_cols', clone(real_cols_pipe), cfg.CAT_ORDERED_COLS),\n",
    "    ('binary_cols', SimpleImputer(strategy='constant', fill_value=0), cfg.BINARY_COLS),\n",
    "    # ('real_poly', make_pipeline(clone(real_cols_pipe), PolynomialFeatures(degree=3, interaction_only=False)), cfg.REAL_COLS),\n",
    "    # ('binary_poly', make_pipeline(clone(real_cols_pipe), PolynomialFeatures(degree=3, interaction_only=True)), cfg.BINARY_COLS)\n",
    "])\n",
    "\n",
    "model = Pipeline([\n",
    "    ('preprocess_original_features', preprocess_pipe),\n",
    "    ('model', base_model)\n",
    "])\n",
    "model = MultiOutputClassifier(model, n_jobs=-1)"
   ]
  },
  {
   "cell_type": "code",
   "execution_count": 58,
   "metadata": {},
   "outputs": [
    {
     "data": {
      "application/vnd.jupyter.widget-view+json": {
       "model_id": "123be1497f19473799602f092c877c3c",
       "version_major": 2,
       "version_minor": 0
      },
      "text/plain": [
       "  0%|          | 0/5 [00:00<?, ?it/s]"
      ]
     },
     "metadata": {},
     "output_type": "display_data"
    },
    {
     "name": "stderr",
     "output_type": "stream",
     "text": [
      "/opt/miniconda3/envs/pycaret/lib/python3.9/site-packages/sklearn/utils/extmath.py:1016: RuntimeWarning: invalid value encountered in true_divide\n",
      "  * (last_sum / last_over_new_count - new_sum) ** 2\n"
     ]
    }
   ],
   "source": [
    "cv = MultilabelStratifiedKFold(n_splits=N_SPLITS, random_state=RANDOM_STATE, shuffle=True)\n",
    "\n",
    "fold = 0\n",
    "for train_idx, val_idx in tqdm(cv.split(X_train, Y_train), total=N_SPLITS):\n",
    "    fold_model = clone(model)\n",
    "    fold_model.fit(X_train.iloc[train_idx], Y_train.iloc[train_idx])\n",
    "        \n",
    "    model_name = f'{EXPERIMENT_NAME}_fold_{fold}.pkl'\n",
    "    model_path = os.path.join(cfg.MODELS_PATH, EXPERIMENT_FAMILY_NAME, EXPERIMENT_NAME)\n",
    "    check_path(model_path)\n",
    "    save_model(fold_model, os.path.join(model_path, model_name))\n",
    "    \n",
    "    pred_proba_oof.iloc[val_idx, :] += squeeze_pred_proba(fold_model.predict_proba(X_train.iloc[val_idx]))\n",
    "    pred_proba_test.iloc[:, :] += squeeze_pred_proba(fold_model.predict_proba(test))\n",
    "    gc.collect()\n",
    "\n",
    "    fold += 1\n",
    "\n",
    "pred_proba_test /= N_SPLITS"
   ]
  },
  {
   "cell_type": "markdown",
   "metadata": {},
   "source": [
    "# PREDICT AND SAVE PREDICTIONS"
   ]
  },
  {
   "cell_type": "code",
   "execution_count": 59,
   "metadata": {},
   "outputs": [
    {
     "name": "stdout",
     "output_type": "stream",
     "text": [
      "0.6414439570152249\n"
     ]
    }
   ],
   "source": [
    "tresholds = get_tresholds(train[cfg.TARGETS], pred_proba_oof)\n",
    "sample_submission = pd.read_csv(cfg.SAMPLE_SUBMISSION_PATH).set_index('ID')\n",
    "submission = make_prediction(pred_proba_test, tresholds, sample_submission)"
   ]
  },
  {
   "cell_type": "code",
   "execution_count": 60,
   "metadata": {},
   "outputs": [],
   "source": [
    "## BEST PARAMS\n",
    "# 0.6414439570152249\n",
    "\n",
    "# scoring = get_weird_single_col_pred_proba_score()\n",
    "\n",
    "# base_model = GridSearchCV(\n",
    "#     estimator=SVC(probability=True),\n",
    "#     param_grid={'C': np.linspace(0.01, 5, 15)},\n",
    "#     scoring=scoring,\n",
    "#     n_jobs=4\n",
    "# )\n",
    "\n",
    "# real_cols_pipe = make_pipeline(SimpleImputer(), StandardScaler(), PowerTransformer())\n",
    "# preprocess_pipe = ColumnTransformer(n_jobs=-1, transformers=[\n",
    "#     ('real_cols', real_cols_pipe, cfg.REAL_COLS),\n",
    "#     ('cat_cols', OneHotEncoder(handle_unknown='ignore', dtype=np.int8), cfg.CAT_UNORDERED_COLS),\n",
    "#     ('ordinal_cols', clone(real_cols_pipe), cfg.CAT_ORDERED_COLS),\n",
    "#     ('binary_cols', SimpleImputer(strategy='constant', fill_value=0), cfg.BINARY_COLS),\n",
    "#     # ('real_poly', make_pipeline(clone(real_cols_pipe), PolynomialFeatures(degree=3, interaction_only=False)), cfg.REAL_COLS),\n",
    "#     # ('binary_poly', make_pipeline(clone(real_cols_pipe), PolynomialFeatures(degree=3, interaction_only=True)), cfg.BINARY_COLS)\n",
    "# ])\n",
    "\n",
    "# model = Pipeline([\n",
    "#     ('preprocess_original_features', preprocess_pipe),\n",
    "#     ('model', base_model)\n",
    "# ])\n",
    "# model = MultiOutputClassifier(model, n_jobs=-1)"
   ]
  },
  {
   "cell_type": "code",
   "execution_count": 61,
   "metadata": {},
   "outputs": [],
   "source": [
    "submission_path = os.path.join(cfg.SUBMISSION_PATH, EXPERIMENT_FAMILY_NAME)\n",
    "check_path(submission_path)\n",
    "submission.to_csv(os.path.join(submission_path, f'{EXPERIMENT_NAME}.csv'))\n",
    "\n",
    "pred_proba_oof_path = os.path.join(cfg.OOF_PRED_PATH, EXPERIMENT_FAMILY_NAME)\n",
    "check_path(pred_proba_oof_path)\n",
    "pred_proba_oof.to_pickle(os.path.join(pred_proba_oof_path, f'{EXPERIMENT_NAME}.pkl'))\n",
    "\n",
    "pred_proba_test_path = os.path.join(cfg.TEST_PRED_PATH, EXPERIMENT_FAMILY_NAME)\n",
    "check_path(pred_proba_test_path)\n",
    "pred_proba_test.to_pickle(os.path.join(pred_proba_test_path, f'{EXPERIMENT_NAME}.pkl'))"
   ]
  }
 ],
 "metadata": {
  "kernelspec": {
   "display_name": "Python 3 (ipykernel)",
   "language": "python",
   "name": "python3"
  },
  "language_info": {
   "codemirror_mode": {
    "name": "ipython",
    "version": 3
   },
   "file_extension": ".py",
   "mimetype": "text/x-python",
   "name": "python",
   "nbconvert_exporter": "python",
   "pygments_lexer": "ipython3",
   "version": "3.9.12"
  },
  "orig_nbformat": 4
 },
 "nbformat": 4,
 "nbformat_minor": 2
}
