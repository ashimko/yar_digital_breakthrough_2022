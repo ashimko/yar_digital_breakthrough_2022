{
 "cells": [
  {
   "cell_type": "markdown",
   "metadata": {},
   "source": [
    "# IMPORTS"
   ]
  },
  {
   "cell_type": "code",
   "execution_count": 1,
   "metadata": {},
   "outputs": [],
   "source": [
    "import sys\n",
    "sys.path.insert(0, \"../..\")\n",
    "import config as cfg\n",
    "import gc"
   ]
  },
  {
   "cell_type": "code",
   "execution_count": 2,
   "metadata": {},
   "outputs": [],
   "source": [
    "import pandas as pd\n",
    "import numpy as np\n",
    "import re\n",
    "from tqdm.notebook import tqdm\n",
    "from metrics import compute_single_col_score, get_tresholds\n",
    "from helper import make_prediction, check_path\n",
    "from sklearn.model_selection import StratifiedKFold, train_test_split\n",
    "from iterstrat.ml_stratifiers import MultilabelStratifiedKFold\n",
    "import category_encoders as ce"
   ]
  },
  {
   "cell_type": "code",
   "execution_count": 3,
   "metadata": {},
   "outputs": [],
   "source": [
    "import catboost as cb\n",
    "import catboost.datasets as cbd\n",
    "import catboost.utils as cbu"
   ]
  },
  {
   "cell_type": "markdown",
   "metadata": {},
   "source": [
    "# MODEL TRAINING"
   ]
  },
  {
   "cell_type": "code",
   "execution_count": 4,
   "metadata": {},
   "outputs": [],
   "source": [
    "train = pd.read_pickle(cfg.PREPARED_TRAIN_DATA_PATH)\n",
    "test = pd.read_pickle(cfg.PREPARED_TEST_DATA_PATH)"
   ]
  },
  {
   "cell_type": "code",
   "execution_count": 5,
   "metadata": {},
   "outputs": [],
   "source": [
    "USECOLS = ['alcohol_age',\n",
    " 'smoking_status_ordinal',\n",
    " 'sleep_time_ordinal',\n",
    " 'smoking_age',\n",
    " 'alcohol_ordinal',\n",
    " 'wake_up_time_ordinal',\n",
    " 'education_ordinal',\n",
    " 'diabetes',\n",
    " 'nationality',\n",
    " 'ethnos',\n",
    " 'employed',\n",
    " 'religion',\n",
    " 'passive_smoking_frequency',\n",
    " 'smoking_status',\n",
    " 'wake_up_time',\n",
    " 'retired',\n",
    " 'sleep_time',\n",
    " 'alcohol',\n",
    " 'family',\n",
    " 'sex',\n",
    " 'education',\n",
    " 'profession',\n",
    " 'regular_medication_intake']"
   ]
  },
  {
   "cell_type": "code",
   "execution_count": 6,
   "metadata": {},
   "outputs": [],
   "source": [
    "X_train, Y_train = train[USECOLS], train[cfg.TARGETS]\n",
    "test = test[USECOLS]"
   ]
  },
  {
   "cell_type": "code",
   "execution_count": 7,
   "metadata": {},
   "outputs": [],
   "source": [
    "pred_proba_oof = pd.DataFrame(data=np.zeros(shape=(len(train), len(cfg.TARGETS))), index=train.index, columns=cfg.TARGETS)\n",
    "pred_proba_test = pd.DataFrame(data=np.zeros(shape=(len(test), len(cfg.TARGETS))), index=test.index, columns=cfg.TARGETS)\n",
    "metrics = {}"
   ]
  },
  {
   "cell_type": "code",
   "execution_count": 8,
   "metadata": {},
   "outputs": [],
   "source": [
    "EXPERIMENT_FAMILY_NAME = 'catboost'\n",
    "EXPERIMENT_NAME = 'selected_features'\n",
    "RANDOM_STATE = 77\n",
    "N_SPLITS = 6\n",
    "N_RANDOM_SEEDS = 1\n",
    "N_DEPTH = 1\n",
    "START_DEPTH = 4\n",
    "CAT_COLS = [c for c in cfg.CAT_UNORDERED_COLS if c in USECOLS]"
   ]
  },
  {
   "cell_type": "code",
   "execution_count": 9,
   "metadata": {},
   "outputs": [],
   "source": [
    "def apply_cat_encoding(encoder, X_train, Y_train, X_val, encoder_name) -> tuple[pd.DataFrame, pd.DataFrame]:\n",
    "    def _rename_cols(df: pd.DataFrame, target_col: str, encoder_name: str) -> pd.DataFrame:\n",
    "        df.columns = [f'{cat_col}_{target_col}_{encoder_name}' for cat_col in df.columns]\n",
    "        return df\n",
    "\n",
    "    X_cat_train, X_cat_val = [], []\n",
    "    for target_col in Y_train.columns:\n",
    "        X_cat_train_enc = encoder.fit_transform(X_train, Y_train[target_col])\n",
    "        X_cat_train_enc = _rename_cols(X_cat_train_enc, target_col, encoder_name)\n",
    "        X_cat_train.append(X_cat_train_enc)\n",
    "\n",
    "        X_cat_val_enc = encoder.transform(X_val)\n",
    "        X_cat_val_enc = _rename_cols(X_cat_val_enc, target_col, encoder_name)\n",
    "        X_cat_val.append(X_cat_val_enc)\n",
    "    return pd.concat(X_cat_train, axis=1), pd.concat(X_cat_val, axis=1)"
   ]
  },
  {
   "cell_type": "code",
   "execution_count": 10,
   "metadata": {},
   "outputs": [],
   "source": [
    "cat_encoders = {\n",
    "    'WOE': ce.WOEEncoder(cols=CAT_COLS, random_state=RANDOM_STATE),\n",
    "    # 'TE': ce.TargetEncoder(cols=CAT_COLS)\n",
    "}"
   ]
  },
  {
   "cell_type": "code",
   "execution_count": 11,
   "metadata": {},
   "outputs": [
    {
     "data": {
      "application/vnd.jupyter.widget-view+json": {
       "model_id": "c5032f2437344b27aceda5fbd461ff16",
       "version_major": 2,
       "version_minor": 0
      },
      "text/plain": [
       "  0%|          | 0/6 [00:00<?, ?it/s]"
      ]
     },
     "metadata": {},
     "output_type": "display_data"
    },
    {
     "data": {
      "application/vnd.jupyter.widget-view+json": {
       "model_id": "e8fcfeef0c7f41fcbc80157f45a6dcf6",
       "version_major": 2,
       "version_minor": 0
      },
      "text/plain": [
       "  0%|          | 0/1 [00:00<?, ?it/s]"
      ]
     },
     "metadata": {},
     "output_type": "display_data"
    },
    {
     "data": {
      "application/vnd.jupyter.widget-view+json": {
       "model_id": "c84359a24a574978bfb22d2055000a57",
       "version_major": 2,
       "version_minor": 0
      },
      "text/plain": [
       "  0%|          | 0/1 [00:00<?, ?it/s]"
      ]
     },
     "metadata": {},
     "output_type": "display_data"
    },
    {
     "data": {
      "application/vnd.jupyter.widget-view+json": {
       "model_id": "a663e420619f4353b6355da052be5186",
       "version_major": 2,
       "version_minor": 0
      },
      "text/plain": [
       "  0%|          | 0/1 [00:00<?, ?it/s]"
      ]
     },
     "metadata": {},
     "output_type": "display_data"
    },
    {
     "data": {
      "application/vnd.jupyter.widget-view+json": {
       "model_id": "abd98f02ede24ef3b83869c72cac2025",
       "version_major": 2,
       "version_minor": 0
      },
      "text/plain": [
       "  0%|          | 0/1 [00:00<?, ?it/s]"
      ]
     },
     "metadata": {},
     "output_type": "display_data"
    },
    {
     "data": {
      "application/vnd.jupyter.widget-view+json": {
       "model_id": "e2c965d57fe44c3483ea0eebd8fff508",
       "version_major": 2,
       "version_minor": 0
      },
      "text/plain": [
       "  0%|          | 0/1 [00:00<?, ?it/s]"
      ]
     },
     "metadata": {},
     "output_type": "display_data"
    },
    {
     "data": {
      "application/vnd.jupyter.widget-view+json": {
       "model_id": "7b5e156d06c747f4bf30aae7f6ce95e0",
       "version_major": 2,
       "version_minor": 0
      },
      "text/plain": [
       "  0%|          | 0/1 [00:00<?, ?it/s]"
      ]
     },
     "metadata": {},
     "output_type": "display_data"
    },
    {
     "data": {
      "application/vnd.jupyter.widget-view+json": {
       "model_id": "89353c4bfce9486e8a3dc90607dd2aab",
       "version_major": 2,
       "version_minor": 0
      },
      "text/plain": [
       "  0%|          | 0/1 [00:00<?, ?it/s]"
      ]
     },
     "metadata": {},
     "output_type": "display_data"
    },
    {
     "data": {
      "application/vnd.jupyter.widget-view+json": {
       "model_id": "83cc36c4a8fc45b09573cd491c96eef8",
       "version_major": 2,
       "version_minor": 0
      },
      "text/plain": [
       "  0%|          | 0/1 [00:00<?, ?it/s]"
      ]
     },
     "metadata": {},
     "output_type": "display_data"
    },
    {
     "data": {
      "application/vnd.jupyter.widget-view+json": {
       "model_id": "949cf3fc812d4dacab61d9a5f39af12b",
       "version_major": 2,
       "version_minor": 0
      },
      "text/plain": [
       "  0%|          | 0/1 [00:00<?, ?it/s]"
      ]
     },
     "metadata": {},
     "output_type": "display_data"
    },
    {
     "data": {
      "application/vnd.jupyter.widget-view+json": {
       "model_id": "f628993372e148a1a73f32e293cc1a06",
       "version_major": 2,
       "version_minor": 0
      },
      "text/plain": [
       "  0%|          | 0/1 [00:00<?, ?it/s]"
      ]
     },
     "metadata": {},
     "output_type": "display_data"
    },
    {
     "data": {
      "application/vnd.jupyter.widget-view+json": {
       "model_id": "9f5cf5eb2e194a02826d3c9b5262f48e",
       "version_major": 2,
       "version_minor": 0
      },
      "text/plain": [
       "  0%|          | 0/1 [00:00<?, ?it/s]"
      ]
     },
     "metadata": {},
     "output_type": "display_data"
    },
    {
     "data": {
      "application/vnd.jupyter.widget-view+json": {
       "model_id": "7fffc678efa141b8a28bb13e0267c9b7",
       "version_major": 2,
       "version_minor": 0
      },
      "text/plain": [
       "  0%|          | 0/1 [00:00<?, ?it/s]"
      ]
     },
     "metadata": {},
     "output_type": "display_data"
    }
   ],
   "source": [
    "cv = MultilabelStratifiedKFold(n_splits=N_SPLITS, random_state=RANDOM_STATE, shuffle=True)\n",
    "\n",
    "X_test_cats = []\n",
    "for cat_encoder_name, cat_encoder in cat_encoders.items():\n",
    "    _, X_test_cat = apply_cat_encoding(\n",
    "        encoder=cat_encoder,\n",
    "        X_train=X_train[CAT_COLS],\n",
    "        Y_train=Y_train,\n",
    "        X_val=test[CAT_COLS],\n",
    "        encoder_name=cat_encoder_name\n",
    "    )\n",
    "    X_test_cats.append(X_test_cat)\n",
    "\n",
    "test_pool = cb.Pool(\n",
    "        data=pd.concat([test, pd.concat(X_test_cats, axis=1)], axis=1),\n",
    "        cat_features=CAT_COLS\n",
    "        )\n",
    "\n",
    "fold = 0\n",
    "for train_idx, val_idx in tqdm(cv.split(X_train, Y_train), total=N_SPLITS):\n",
    "    \n",
    "    X_train_cats, X_val_cats = [], []\n",
    "    for cat_encoder_name, cat_encoder in cat_encoders.items():\n",
    "        X_train_cat, X_val_cat = apply_cat_encoding(\n",
    "            encoder=cat_encoder,\n",
    "            X_train=X_train[CAT_COLS].iloc[train_idx],\n",
    "            Y_train=Y_train.iloc[train_idx],\n",
    "            X_val=X_train[CAT_COLS].iloc[val_idx],\n",
    "            encoder_name=cat_encoder_name\n",
    "            )\n",
    "        X_train_cats.append(X_train_cat)\n",
    "        X_val_cats.append(X_val_cat)\n",
    "\n",
    "    train_pool = cb.Pool(\n",
    "        data=pd.concat([X_train.iloc[train_idx], pd.concat(X_train_cats, axis=1)], axis=1), \n",
    "        label=Y_train.iloc[train_idx],\n",
    "        cat_features=CAT_COLS\n",
    "        )\n",
    "\n",
    "    val_pool = cb.Pool(\n",
    "        data=pd.concat([X_train.iloc[val_idx], pd.concat(X_val_cats, axis=1)], axis=1), \n",
    "        label=Y_train.iloc[val_idx],\n",
    "        cat_features=CAT_COLS\n",
    "        )\n",
    "    \n",
    "    golden_feature_index = str(train_pool.get_feature_names().index('regular_medication_intake'))\n",
    "    for random_seed in tqdm(range(N_RANDOM_SEEDS), total=N_RANDOM_SEEDS):\n",
    "        for depth in tqdm(range(START_DEPTH, START_DEPTH + N_DEPTH), total=N_DEPTH):\n",
    "            clf = cb.CatBoostClassifier(\n",
    "                loss_function='MultiLogloss',\n",
    "                # custom_metric=['Recall', 'F1'],\n",
    "                iterations=2000,\n",
    "                silent=True,\n",
    "                depth=depth,\n",
    "                l2_leaf_reg=2.0,\n",
    "                learning_rate=0.003,\n",
    "                early_stopping_rounds=300,\n",
    "                bagging_temperature=1,\n",
    "                per_float_feature_quantization=f'{golden_feature_index}:border_count=2048',\n",
    "                random_seed=random_seed\n",
    "            )\n",
    "\n",
    "            clf.fit(train_pool, eval_set=val_pool, plot=False)\n",
    "            \n",
    "            model_name = f'{EXPERIMENT_NAME}_fold_{fold}_rs_{random_seed}_depth_{depth}.cbm'\n",
    "            model_path = os.path.join(cfg.MODELS_PATH, EXPERIMENT_FAMILY_NAME, EXPERIMENT_NAME)\n",
    "            check_path(model_path)\n",
    "            clf.save_model(os.path.join(model_path, model_name))\n",
    "            \n",
    "            pred_proba_oof.iloc[val_idx, :] += clf.predict_proba(val_pool)\n",
    "            pred_proba_test.iloc[:, :] += clf.predict_proba(test_pool)\n",
    "            gc.collect()\n",
    "\n",
    "    fold += 1\n",
    "pred_proba_oof /= (N_RANDOM_SEEDS * N_DEPTH)\n",
    "pred_proba_test /= (N_SPLITS * N_RANDOM_SEEDS * N_DEPTH)"
   ]
  },
  {
   "cell_type": "markdown",
   "metadata": {},
   "source": [
    "# PREDICT AND SAVE PREDICTIONS"
   ]
  },
  {
   "cell_type": "code",
   "execution_count": 12,
   "metadata": {},
   "outputs": [
    {
     "data": {
      "text/html": [
       "<div>\n",
       "<style scoped>\n",
       "    .dataframe tbody tr th:only-of-type {\n",
       "        vertical-align: middle;\n",
       "    }\n",
       "\n",
       "    .dataframe tbody tr th {\n",
       "        vertical-align: top;\n",
       "    }\n",
       "\n",
       "    .dataframe thead th {\n",
       "        text-align: right;\n",
       "    }\n",
       "</style>\n",
       "<table border=\"1\" class=\"dataframe\">\n",
       "  <thead>\n",
       "    <tr style=\"text-align: right;\">\n",
       "      <th></th>\n",
       "      <th>importance</th>\n",
       "    </tr>\n",
       "  </thead>\n",
       "  <tbody>\n",
       "    <tr>\n",
       "      <th>regular_medication_intake</th>\n",
       "      <td>32.875289</td>\n",
       "    </tr>\n",
       "    <tr>\n",
       "      <th>education</th>\n",
       "      <td>4.212080</td>\n",
       "    </tr>\n",
       "    <tr>\n",
       "      <th>sex</th>\n",
       "      <td>3.562914</td>\n",
       "    </tr>\n",
       "    <tr>\n",
       "      <th>family</th>\n",
       "      <td>3.443737</td>\n",
       "    </tr>\n",
       "    <tr>\n",
       "      <th>profession</th>\n",
       "      <td>3.219425</td>\n",
       "    </tr>\n",
       "    <tr>\n",
       "      <th>wake_up_time</th>\n",
       "      <td>3.148029</td>\n",
       "    </tr>\n",
       "    <tr>\n",
       "      <th>retired</th>\n",
       "      <td>3.022438</td>\n",
       "    </tr>\n",
       "    <tr>\n",
       "      <th>smoking_status</th>\n",
       "      <td>2.785819</td>\n",
       "    </tr>\n",
       "    <tr>\n",
       "      <th>sleep_time</th>\n",
       "      <td>2.781239</td>\n",
       "    </tr>\n",
       "    <tr>\n",
       "      <th>passive_smoking_frequency</th>\n",
       "      <td>2.560669</td>\n",
       "    </tr>\n",
       "    <tr>\n",
       "      <th>alcohol</th>\n",
       "      <td>2.530867</td>\n",
       "    </tr>\n",
       "    <tr>\n",
       "      <th>employed</th>\n",
       "      <td>2.395214</td>\n",
       "    </tr>\n",
       "    <tr>\n",
       "      <th>religion</th>\n",
       "      <td>2.228754</td>\n",
       "    </tr>\n",
       "    <tr>\n",
       "      <th>diabetes</th>\n",
       "      <td>1.476932</td>\n",
       "    </tr>\n",
       "    <tr>\n",
       "      <th>ethnos</th>\n",
       "      <td>1.290928</td>\n",
       "    </tr>\n",
       "    <tr>\n",
       "      <th>nationality</th>\n",
       "      <td>1.182006</td>\n",
       "    </tr>\n",
       "    <tr>\n",
       "      <th>wake_up_time_angina_pectoris_ischemic_heart_disease_myocardial_infarction_WOE</th>\n",
       "      <td>1.086420</td>\n",
       "    </tr>\n",
       "    <tr>\n",
       "      <th>profession_other_heart_diseases_WOE</th>\n",
       "      <td>1.059038</td>\n",
       "    </tr>\n",
       "    <tr>\n",
       "      <th>profession_stroke_WOE</th>\n",
       "      <td>0.980769</td>\n",
       "    </tr>\n",
       "    <tr>\n",
       "      <th>wake_up_time_heart_failure_WOE</th>\n",
       "      <td>0.952577</td>\n",
       "    </tr>\n",
       "    <tr>\n",
       "      <th>education_arterial_hypertension_WOE</th>\n",
       "      <td>0.883801</td>\n",
       "    </tr>\n",
       "    <tr>\n",
       "      <th>sleep_time_arterial_hypertension_WOE</th>\n",
       "      <td>0.877969</td>\n",
       "    </tr>\n",
       "    <tr>\n",
       "      <th>education_stroke_WOE</th>\n",
       "      <td>0.815655</td>\n",
       "    </tr>\n",
       "    <tr>\n",
       "      <th>education_angina_pectoris_ischemic_heart_disease_myocardial_infarction_WOE</th>\n",
       "      <td>0.801583</td>\n",
       "    </tr>\n",
       "    <tr>\n",
       "      <th>sex_stroke_WOE</th>\n",
       "      <td>0.775384</td>\n",
       "    </tr>\n",
       "  </tbody>\n",
       "</table>\n",
       "</div>"
      ],
      "text/plain": [
       "                                                    importance\n",
       "regular_medication_intake                            32.875289\n",
       "education                                             4.212080\n",
       "sex                                                   3.562914\n",
       "family                                                3.443737\n",
       "profession                                            3.219425\n",
       "wake_up_time                                          3.148029\n",
       "retired                                               3.022438\n",
       "smoking_status                                        2.785819\n",
       "sleep_time                                            2.781239\n",
       "passive_smoking_frequency                             2.560669\n",
       "alcohol                                               2.530867\n",
       "employed                                              2.395214\n",
       "religion                                              2.228754\n",
       "diabetes                                              1.476932\n",
       "ethnos                                                1.290928\n",
       "nationality                                           1.182006\n",
       "wake_up_time_angina_pectoris_ischemic_heart_dis...    1.086420\n",
       "profession_other_heart_diseases_WOE                   1.059038\n",
       "profession_stroke_WOE                                 0.980769\n",
       "wake_up_time_heart_failure_WOE                        0.952577\n",
       "education_arterial_hypertension_WOE                   0.883801\n",
       "sleep_time_arterial_hypertension_WOE                  0.877969\n",
       "education_stroke_WOE                                  0.815655\n",
       "education_angina_pectoris_ischemic_heart_diseas...    0.801583\n",
       "sex_stroke_WOE                                        0.775384"
      ]
     },
     "execution_count": 12,
     "metadata": {},
     "output_type": "execute_result"
    }
   ],
   "source": [
    "feat_importance = (pd.DataFrame(\n",
    "    data=clf.feature_importances_, \n",
    "    index=clf.feature_names_, \n",
    "    columns=['importance'])\n",
    "    .sort_values('importance', ascending=False)\n",
    ")\n",
    "feat_importance.head(25)"
   ]
  },
  {
   "cell_type": "code",
   "execution_count": 13,
   "metadata": {},
   "outputs": [
    {
     "name": "stdout",
     "output_type": "stream",
     "text": [
      "[0.6688858168412883, 0.6763814944005875, 0.6069660395536168, 0.6873565672199391, 0.7239839833666646]\n",
      "0.6727147802764193 0.037931295180888544\n"
     ]
    }
   ],
   "source": [
    "tresholds = get_tresholds(train[cfg.TARGETS], pred_proba_oof)\n",
    "sample_submission = pd.read_csv(cfg.SAMPLE_SUBMISSION_PATH).set_index('ID')\n",
    "submission = make_prediction(pred_proba_test, tresholds, sample_submission)"
   ]
  },
  {
   "cell_type": "code",
   "execution_count": 14,
   "metadata": {},
   "outputs": [],
   "source": [
    "## BEST PARAMS\n",
    "# WOE\n",
    "# [0.6948668509895227, 0.6880086897986659, 0.6023630476088527, 0.6930805358381811, 0.7352167707718467]\n",
    "# 0.6827071790014139 0.04357982755536629\n",
    "\n",
    "# RANDOM_STATE = 77\n",
    "# N_SPLITS = 5\n",
    "# N_RANDOM_SEEDS = 7\n",
    "\n",
    "# loss_function='MultiLogloss',\n",
    "#             custom_metric=['Recall', 'F1'],\n",
    "#             iterations=1000,\n",
    "#             silent=True,\n",
    "#             depth=6,\n",
    "#             l2_leaf_reg=2.0,\n",
    "#             learning_rate=0.01,\n",
    "#             early_stopping_rounds=100,\n",
    "#             random_seed=random_seed"
   ]
  },
  {
   "cell_type": "code",
   "execution_count": 15,
   "metadata": {},
   "outputs": [],
   "source": [
    "submission.to_csv(os.path.join(cfg.SUBMISSION_PATH, EXPERIMENT_FAMILY_NAME, f'{EXPERIMENT_NAME}.csv'))\n",
    "pred_proba_oof.to_pickle(os.path.join(cfg.OOF_PRED_PATH, EXPERIMENT_FAMILY_NAME, f'{EXPERIMENT_NAME}.pkl'))\n",
    "pred_proba_test.to_pickle(os.path.join(cfg.TEST_PRED_PATH, EXPERIMENT_FAMILY_NAME, f'{EXPERIMENT_NAME}.pkl'))"
   ]
  }
 ],
 "metadata": {
  "kernelspec": {
   "display_name": "Python 3.9.12 ('base')",
   "language": "python",
   "name": "python3"
  },
  "language_info": {
   "codemirror_mode": {
    "name": "ipython",
    "version": 3
   },
   "file_extension": ".py",
   "mimetype": "text/x-python",
   "name": "python",
   "nbconvert_exporter": "python",
   "pygments_lexer": "ipython3",
   "version": "3.9.12"
  },
  "orig_nbformat": 4,
  "vscode": {
   "interpreter": {
    "hash": "04d48c12bfbca8a14a4066630f6d13e81276286aa1e28ae9f6bc2bde884e5eee"
   }
  }
 },
 "nbformat": 4,
 "nbformat_minor": 2
}
