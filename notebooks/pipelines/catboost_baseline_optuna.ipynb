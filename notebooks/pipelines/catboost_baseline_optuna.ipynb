{
 "cells": [
  {
   "cell_type": "markdown",
   "metadata": {},
   "source": [
    "# IMPORTS"
   ]
  },
  {
   "cell_type": "code",
   "execution_count": 1,
   "metadata": {},
   "outputs": [],
   "source": [
    "import sys\n",
    "sys.path.insert(0, \"../..\")\n",
    "import config as cfg\n",
    "import gc\n",
    "import os"
   ]
  },
  {
   "cell_type": "code",
   "execution_count": 2,
   "metadata": {},
   "outputs": [],
   "source": [
    "import pandas as pd\n",
    "import numpy as np\n",
    "import re\n",
    "from tqdm.notebook import tqdm\n",
    "from metrics import compute_single_col_score, get_tresholds, compute_weird_pred_proba_score\n",
    "from sklearn.metrics import recall_score\n",
    "from helper import make_prediction, check_path\n",
    "from sklearn.model_selection import StratifiedKFold, train_test_split\n",
    "from iterstrat.ml_stratifiers import MultilabelStratifiedKFold"
   ]
  },
  {
   "cell_type": "code",
   "execution_count": 3,
   "metadata": {},
   "outputs": [],
   "source": [
    "import optuna\n",
    "from optuna.integration import CatBoostPruningCallback"
   ]
  },
  {
   "cell_type": "code",
   "execution_count": 4,
   "metadata": {},
   "outputs": [],
   "source": [
    "import catboost as cb\n",
    "import catboost.datasets as cbd\n",
    "import catboost.utils as cbu"
   ]
  },
  {
   "cell_type": "markdown",
   "metadata": {},
   "source": [
    "# MODEL TRAINING"
   ]
  },
  {
   "cell_type": "code",
   "execution_count": 5,
   "metadata": {},
   "outputs": [],
   "source": [
    "train = pd.read_pickle(cfg.PREPARED_TRAIN_DATA_PATH)\n",
    "test = pd.read_pickle(cfg.PREPARED_TEST_DATA_PATH)"
   ]
  },
  {
   "cell_type": "code",
   "execution_count": 6,
   "metadata": {},
   "outputs": [],
   "source": [
    "X_train, Y_train = train.drop(cfg.TARGETS, axis=1), train[cfg.TARGETS]"
   ]
  },
  {
   "cell_type": "code",
   "execution_count": 7,
   "metadata": {},
   "outputs": [],
   "source": [
    "pred_proba_oof = pd.DataFrame(data=np.zeros(shape=(len(train), len(cfg.TARGETS))), index=train.index, columns=cfg.TARGETS)\n",
    "pred_proba_test = pd.DataFrame(data=np.zeros(shape=(len(test), len(cfg.TARGETS))), index=test.index, columns=cfg.TARGETS)\n",
    "metrics = {}"
   ]
  },
  {
   "cell_type": "code",
   "execution_count": 8,
   "metadata": {},
   "outputs": [],
   "source": [
    "EXPERIMENT_FAMILY_NAME = 'catboost'\n",
    "EXPERIMENT_NAME = 'baseline_optuna'\n",
    "RANDOM_STATE = 77\n",
    "N_SPLITS = 5\n",
    "N_RANDOM_SEEDS = 7"
   ]
  },
  {
   "cell_type": "code",
   "execution_count": 9,
   "metadata": {},
   "outputs": [],
   "source": [
    "CAT_COLS = cfg.CAT_UNORDERED_COLS + cfg.BINARY_COLS"
   ]
  },
  {
   "cell_type": "code",
   "execution_count": 10,
   "metadata": {},
   "outputs": [],
   "source": [
    "train_x, valid_x, train_y, valid_y = train_test_split(X_train, Y_train, test_size=0.35, random_state=RANDOM_STATE, shuffle=True)"
   ]
  },
  {
   "cell_type": "code",
   "execution_count": 11,
   "metadata": {},
   "outputs": [],
   "source": [
    "def objective(trial: optuna.Trial) -> float:\n",
    "\n",
    "    param = {\n",
    "        \"objective\": trial.suggest_categorical(\"objective\", [\"MultiLogloss\", \"MultiCrossEntropy\"]),\n",
    "        \"colsample_bylevel\": trial.suggest_float(\"colsample_bylevel\", 0.01, 0.1, log=True),\n",
    "        \"l2_leaf_reg\": trial.suggest_float(\"l2_leaf_reg\", 0.5, 10.0, log=False),\n",
    "        \"depth\": trial.suggest_int(\"depth\", 1, 12),\n",
    "        \"boosting_type\": trial.suggest_categorical(\"boosting_type\", [\"Ordered\", \"Plain\"]),\n",
    "        # \"grow_policy\": trial.suggest_categorical(\"grow_policy\", [\"SymmetricTree\", \"Depthwise\", \"Lossguide\"]),\n",
    "        \"cat_features\": CAT_COLS,\n",
    "        \"bootstrap_type\": trial.suggest_categorical(\n",
    "            \"bootstrap_type\", [\"Bayesian\", \"Bernoulli\", \"MVS\"]\n",
    "        ),\n",
    "        # \"used_ram_limit\": \"3gb\",\n",
    "        \"eval_metric\": \"MultiLogloss\",\n",
    "    }\n",
    "\n",
    "    if param[\"bootstrap_type\"] == \"Bayesian\":\n",
    "        param[\"bagging_temperature\"] = trial.suggest_float(\"bagging_temperature\", 0, 10)\n",
    "    elif param[\"bootstrap_type\"] == \"Bernoulli\":\n",
    "        param[\"subsample\"] = trial.suggest_float(\"subsample\", 0.1, 1, log=True)\n",
    "\n",
    "    gbm = cb.CatBoostClassifier(**param)\n",
    "\n",
    "    pruning_callback = CatBoostPruningCallback(trial, \"MultiLogloss\")\n",
    "    gbm.fit(\n",
    "        train_x,\n",
    "        train_y,\n",
    "        eval_set=[(valid_x, valid_y)],\n",
    "        verbose=0,\n",
    "        early_stopping_rounds=100,\n",
    "        callbacks=[pruning_callback],\n",
    "    )\n",
    "\n",
    "    # evoke pruning manually.\n",
    "    pruning_callback.check_pruned()\n",
    "\n",
    "    preds = gbm.predict_proba(valid_x)\n",
    "    \n",
    "    score = compute_weird_pred_proba_score(valid_y, preds, sub_std=False)\n",
    "    return score"
   ]
  },
  {
   "cell_type": "code",
   "execution_count": 12,
   "metadata": {},
   "outputs": [
    {
     "name": "stderr",
     "output_type": "stream",
     "text": [
      "\u001b[32m[I 2022-07-05 22:30:30,978]\u001b[0m A new study created in memory with name: no-name-9efaf213-19ad-4cdb-875a-47016788860e\u001b[0m\n",
      "/tmp/ipykernel_91218/23460598.py:25: ExperimentalWarning: CatBoostPruningCallback is experimental (supported from v3.0.0). The interface can change in the future.\n",
      "  pruning_callback = CatBoostPruningCallback(trial, \"MultiLogloss\")\n",
      "\u001b[32m[I 2022-07-05 22:30:45,486]\u001b[0m Trial 0 finished with value: 0.699271641685009 and parameters: {'objective': 'MultiCrossEntropy', 'colsample_bylevel': 0.0310012036639174, 'l2_leaf_reg': 6.279216967487989, 'depth': 6, 'boosting_type': 'Ordered', 'bootstrap_type': 'Bernoulli', 'subsample': 0.3664815640526435}. Best is trial 0 with value: 0.699271641685009.\u001b[0m\n"
     ]
    },
    {
     "name": "stdout",
     "output_type": "stream",
     "text": [
      "[0.7186438879456706, 0.7510429892980228, 0.5926064227035102, 0.6994791666666667, 0.7345857418111754]\n",
      "0.699271641685009 0.05600027505925528\n"
     ]
    },
    {
     "name": "stderr",
     "output_type": "stream",
     "text": [
      "/tmp/ipykernel_91218/23460598.py:25: ExperimentalWarning: CatBoostPruningCallback is experimental (supported from v3.0.0). The interface can change in the future.\n",
      "  pruning_callback = CatBoostPruningCallback(trial, \"MultiLogloss\")\n",
      "\u001b[32m[I 2022-07-05 22:30:57,441]\u001b[0m Trial 1 finished with value: 0.7040503979233936 and parameters: {'objective': 'MultiCrossEntropy', 'colsample_bylevel': 0.05141636576278381, 'l2_leaf_reg': 3.918983203905896, 'depth': 5, 'boosting_type': 'Ordered', 'bootstrap_type': 'Bernoulli', 'subsample': 0.2272536675785576}. Best is trial 1 with value: 0.7040503979233936.\u001b[0m\n"
     ]
    },
    {
     "name": "stdout",
     "output_type": "stream",
     "text": [
      "[0.7386990662139219, 0.7575730092508617, 0.5776699029126213, 0.7192708333333333, 0.72703917790623]\n",
      "0.7040503979233936 0.06449399245814065\n"
     ]
    },
    {
     "name": "stderr",
     "output_type": "stream",
     "text": [
      "/tmp/ipykernel_91218/23460598.py:25: ExperimentalWarning: CatBoostPruningCallback is experimental (supported from v3.0.0). The interface can change in the future.\n",
      "  pruning_callback = CatBoostPruningCallback(trial, \"MultiLogloss\")\n",
      "\u001b[32m[I 2022-07-05 22:31:13,805]\u001b[0m Trial 2 finished with value: 0.7088401592713843 and parameters: {'objective': 'MultiLogloss', 'colsample_bylevel': 0.040270597113539995, 'l2_leaf_reg': 8.933759613466608, 'depth': 2, 'boosting_type': 'Ordered', 'bootstrap_type': 'MVS'}. Best is trial 2 with value: 0.7088401592713843.\u001b[0m\n"
     ]
    },
    {
     "name": "stdout",
     "output_type": "stream",
     "text": [
      "[0.7397071307300509, 0.7375294757845093, 0.5779810804082649, 0.7432291666666666, 0.7457539427674302]\n",
      "0.7088401592713843 0.06549072693374268\n"
     ]
    },
    {
     "name": "stderr",
     "output_type": "stream",
     "text": [
      "/tmp/ipykernel_91218/23460598.py:25: ExperimentalWarning: CatBoostPruningCallback is experimental (supported from v3.0.0). The interface can change in the future.\n",
      "  pruning_callback = CatBoostPruningCallback(trial, \"MultiLogloss\")\n",
      "\u001b[32m[I 2022-07-05 22:31:28,477]\u001b[0m Trial 3 finished with value: 0.7172674453252093 and parameters: {'objective': 'MultiLogloss', 'colsample_bylevel': 0.06387018504495565, 'l2_leaf_reg': 3.774589645137141, 'depth': 3, 'boosting_type': 'Plain', 'bootstrap_type': 'MVS'}. Best is trial 3 with value: 0.7172674453252093.\u001b[0m\n"
     ]
    },
    {
     "name": "stdout",
     "output_type": "stream",
     "text": [
      "[0.7268675721561969, 0.7428351169961909, 0.5992656211102813, 0.7864583333333334, 0.7309105830300435]\n",
      "0.7172674453252093 0.06267984201907784\n"
     ]
    },
    {
     "name": "stderr",
     "output_type": "stream",
     "text": [
      "/tmp/ipykernel_91218/23460598.py:25: ExperimentalWarning: CatBoostPruningCallback is experimental (supported from v3.0.0). The interface can change in the future.\n",
      "  pruning_callback = CatBoostPruningCallback(trial, \"MultiLogloss\")\n",
      "\u001b[32m[I 2022-07-05 22:31:50,385]\u001b[0m Trial 4 finished with value: 0.7008705866837251 and parameters: {'objective': 'MultiLogloss', 'colsample_bylevel': 0.014760073807796035, 'l2_leaf_reg': 6.961532017126388, 'depth': 2, 'boosting_type': 'Ordered', 'bootstrap_type': 'Bernoulli', 'subsample': 0.3588257096554078}. Best is trial 3 with value: 0.7172674453252093.\u001b[0m\n"
     ]
    },
    {
     "name": "stdout",
     "output_type": "stream",
     "text": [
      "[0.7176358234295416, 0.7392073281335027, 0.5664675130694548, 0.7348958333333333, 0.7461464354527938]\n",
      "0.7008705866837251 0.06785659142105444\n"
     ]
    },
    {
     "name": "stderr",
     "output_type": "stream",
     "text": [
      "/tmp/ipykernel_91218/23460598.py:25: ExperimentalWarning: CatBoostPruningCallback is experimental (supported from v3.0.0). The interface can change in the future.\n",
      "  pruning_callback = CatBoostPruningCallback(trial, \"MultiLogloss\")\n",
      "\u001b[32m[I 2022-07-05 22:32:18,033]\u001b[0m Trial 5 finished with value: 0.707254218816135 and parameters: {'objective': 'MultiCrossEntropy', 'colsample_bylevel': 0.023338869055540997, 'l2_leaf_reg': 5.736980369995456, 'depth': 5, 'boosting_type': 'Ordered', 'bootstrap_type': 'MVS'}. Best is trial 3 with value: 0.7172674453252093.\u001b[0m\n"
     ]
    },
    {
     "name": "stdout",
     "output_type": "stream",
     "text": [
      "[0.7495755517826825, 0.7271902775258481, 0.6006970375902415, 0.7234375, 0.7353707271819026]\n",
      "0.707254218816135 0.05402853165561458\n"
     ]
    },
    {
     "name": "stderr",
     "output_type": "stream",
     "text": [
      "/tmp/ipykernel_91218/23460598.py:25: ExperimentalWarning: CatBoostPruningCallback is experimental (supported from v3.0.0). The interface can change in the future.\n",
      "  pruning_callback = CatBoostPruningCallback(trial, \"MultiLogloss\")\n",
      "\u001b[32m[I 2022-07-05 22:32:30,848]\u001b[0m Trial 6 finished with value: 0.7130873431438298 and parameters: {'objective': 'MultiLogloss', 'colsample_bylevel': 0.019402822868103905, 'l2_leaf_reg': 8.335899635249765, 'depth': 7, 'boosting_type': 'Plain', 'bootstrap_type': 'MVS'}. Best is trial 3 with value: 0.7172674453252093.\u001b[0m\n"
     ]
    },
    {
     "name": "stdout",
     "output_type": "stream",
     "text": [
      "[0.7416702037351444, 0.7461001269726102, 0.6346776201145133, 0.7161458333333334, 0.7268429315635481]\n",
      "0.7130873431438298 0.040628755964844415\n"
     ]
    },
    {
     "name": "stderr",
     "output_type": "stream",
     "text": [
      "/tmp/ipykernel_91218/23460598.py:25: ExperimentalWarning: CatBoostPruningCallback is experimental (supported from v3.0.0). The interface can change in the future.\n",
      "  pruning_callback = CatBoostPruningCallback(trial, \"MultiLogloss\")\n",
      "\u001b[32m[I 2022-07-05 22:32:42,275]\u001b[0m Trial 7 finished with value: 0.6978902221529747 and parameters: {'objective': 'MultiLogloss', 'colsample_bylevel': 0.021589682254820497, 'l2_leaf_reg': 1.889292808382245, 'depth': 11, 'boosting_type': 'Plain', 'bootstrap_type': 'Bernoulli', 'subsample': 0.7801758722098311}. Best is trial 3 with value: 0.7172674453252093.\u001b[0m\n"
     ]
    },
    {
     "name": "stdout",
     "output_type": "stream",
     "text": [
      "[0.7153544142614601, 0.7408851804824959, 0.5700771720189196, 0.7328125, 0.7303218440019981]\n",
      "0.6978902221529747 0.06443774641949035\n"
     ]
    },
    {
     "name": "stderr",
     "output_type": "stream",
     "text": [
      "/tmp/ipykernel_91218/23460598.py:25: ExperimentalWarning: CatBoostPruningCallback is experimental (supported from v3.0.0). The interface can change in the future.\n",
      "  pruning_callback = CatBoostPruningCallback(trial, \"MultiLogloss\")\n",
      "\u001b[32m[I 2022-07-05 22:33:09,877]\u001b[0m Trial 8 finished with value: 0.7041520785067 and parameters: {'objective': 'MultiLogloss', 'colsample_bylevel': 0.023842986479175265, 'l2_leaf_reg': 2.2029888271191087, 'depth': 3, 'boosting_type': 'Ordered', 'bootstrap_type': 'Bernoulli', 'subsample': 0.22067815519518846}. Best is trial 3 with value: 0.7172674453252093.\u001b[0m\n"
     ]
    },
    {
     "name": "stdout",
     "output_type": "stream",
     "text": [
      "[0.7275042444821731, 0.7475965898784691, 0.5810306198655713, 0.7348958333333333, 0.7297331049739528]\n",
      "0.7041520785067 0.061953547401186686\n"
     ]
    },
    {
     "name": "stderr",
     "output_type": "stream",
     "text": [
      "/tmp/ipykernel_91218/23460598.py:25: ExperimentalWarning: CatBoostPruningCallback is experimental (supported from v3.0.0). The interface can change in the future.\n",
      "  pruning_callback = CatBoostPruningCallback(trial, \"MultiLogloss\")\n",
      "\u001b[32m[I 2022-07-05 22:34:00,643]\u001b[0m Trial 9 finished with value: 0.7083227116420219 and parameters: {'objective': 'MultiLogloss', 'colsample_bylevel': 0.04198968427998903, 'l2_leaf_reg': 9.670735672817248, 'depth': 1, 'boosting_type': 'Ordered', 'bootstrap_type': 'MVS'}. Best is trial 3 with value: 0.7172674453252093.\u001b[0m\n"
     ]
    },
    {
     "name": "stdout",
     "output_type": "stream",
     "text": [
      "[0.7265492359932089, 0.7478686740431707, 0.5913617127209361, 0.7296875, 0.7461464354527938]\n",
      "0.7083227116420219 0.059098312776712125\n"
     ]
    },
    {
     "name": "stderr",
     "output_type": "stream",
     "text": [
      "/tmp/ipykernel_91218/23460598.py:25: ExperimentalWarning: CatBoostPruningCallback is experimental (supported from v3.0.0). The interface can change in the future.\n",
      "  pruning_callback = CatBoostPruningCallback(trial, \"MultiLogloss\")\n",
      "\u001b[32m[I 2022-07-05 22:35:08,760]\u001b[0m Trial 10 finished with value: 0.6968209826800127 and parameters: {'objective': 'MultiCrossEntropy', 'colsample_bylevel': 0.09165574707426973, 'l2_leaf_reg': 3.844277067316892, 'depth': 10, 'boosting_type': 'Plain', 'bootstrap_type': 'Bayesian', 'bagging_temperature': 0.9094796201978186}. Best is trial 3 with value: 0.7172674453252093.\u001b[0m\n"
     ]
    },
    {
     "name": "stdout",
     "output_type": "stream",
     "text": [
      "[0.7469227504244482, 0.6986667875929622, 0.6107791884490914, 0.7109375, 0.7167986869335616]\n",
      "0.6968209826800127 0.04585884693242515\n"
     ]
    },
    {
     "name": "stderr",
     "output_type": "stream",
     "text": [
      "/tmp/ipykernel_91218/23460598.py:25: ExperimentalWarning: CatBoostPruningCallback is experimental (supported from v3.0.0). The interface can change in the future.\n",
      "  pruning_callback = CatBoostPruningCallback(trial, \"MultiLogloss\")\n",
      "\u001b[32m[I 2022-07-05 22:35:46,020]\u001b[0m Trial 11 finished with value: 0.6944183213041416 and parameters: {'objective': 'MultiLogloss', 'colsample_bylevel': 0.010124766582498508, 'l2_leaf_reg': 7.818684522422149, 'depth': 8, 'boosting_type': 'Plain', 'bootstrap_type': 'MVS'}. Best is trial 3 with value: 0.7172674453252093.\u001b[0m\n"
     ]
    },
    {
     "name": "stdout",
     "output_type": "stream",
     "text": [
      "[0.7360993208828523, 0.7372573916198077, 0.5636046801095345, 0.7067708333333333, 0.7283593805751802]\n",
      "0.6944183213041416 0.06631633351121573\n"
     ]
    },
    {
     "name": "stderr",
     "output_type": "stream",
     "text": [
      "/tmp/ipykernel_91218/23460598.py:25: ExperimentalWarning: CatBoostPruningCallback is experimental (supported from v3.0.0). The interface can change in the future.\n",
      "  pruning_callback = CatBoostPruningCallback(trial, \"MultiLogloss\")\n",
      "\u001b[32m[I 2022-07-05 22:36:15,418]\u001b[0m Trial 12 finished with value: 0.718427276361126 and parameters: {'objective': 'MultiLogloss', 'colsample_bylevel': 0.07741827729746069, 'l2_leaf_reg': 4.34762224033762, 'depth': 8, 'boosting_type': 'Plain', 'bootstrap_type': 'MVS'}. Best is trial 12 with value: 0.718427276361126.\u001b[0m\n"
     ]
    },
    {
     "name": "stdout",
     "output_type": "stream",
     "text": [
      "[0.7597623089983021, 0.7289588245964085, 0.6245954692556634, 0.7494791666666667, 0.7293406122885893]\n",
      "0.718427276361126 0.04838848468104415\n"
     ]
    },
    {
     "name": "stderr",
     "output_type": "stream",
     "text": [
      "/tmp/ipykernel_91218/23460598.py:25: ExperimentalWarning: CatBoostPruningCallback is experimental (supported from v3.0.0). The interface can change in the future.\n",
      "  pruning_callback = CatBoostPruningCallback(trial, \"MultiLogloss\")\n",
      "\u001b[32m[I 2022-07-05 22:37:00,834]\u001b[0m Trial 13 finished with value: 0.6874565357412079 and parameters: {'objective': 'MultiLogloss', 'colsample_bylevel': 0.08968670930618243, 'l2_leaf_reg': 4.123863141676485, 'depth': 9, 'boosting_type': 'Plain', 'bootstrap_type': 'Bayesian', 'bagging_temperature': 9.183938741256625}. Best is trial 12 with value: 0.718427276361126.\u001b[0m\n"
     ]
    },
    {
     "name": "stdout",
     "output_type": "stream",
     "text": [
      "[0.7176358234295416, 0.7157173952475966, 0.6109658949464775, 0.6838541666666667, 0.7091093984157568]\n",
      "0.6874565357412079 0.04010512994507215\n"
     ]
    },
    {
     "name": "stderr",
     "output_type": "stream",
     "text": [
      "/tmp/ipykernel_91218/23460598.py:25: ExperimentalWarning: CatBoostPruningCallback is experimental (supported from v3.0.0). The interface can change in the future.\n",
      "  pruning_callback = CatBoostPruningCallback(trial, \"MultiLogloss\")\n",
      "\u001b[32m[I 2022-07-05 22:39:03,233]\u001b[0m Trial 14 finished with value: 0.7141237905048345 and parameters: {'objective': 'MultiLogloss', 'colsample_bylevel': 0.06500541343140498, 'l2_leaf_reg': 4.763191184213861, 'depth': 12, 'boosting_type': 'Plain', 'bootstrap_type': 'MVS'}. Best is trial 12 with value: 0.718427276361126.\u001b[0m\n"
     ]
    },
    {
     "name": "stdout",
     "output_type": "stream",
     "text": [
      "[0.7288306451612903, 0.7360330128786505, 0.6440751804829474, 0.7421875, 0.7194926140012845]\n",
      "0.7141237905048345 0.03583157663646669\n"
     ]
    },
    {
     "name": "stderr",
     "output_type": "stream",
     "text": [
      "/tmp/ipykernel_91218/23460598.py:25: ExperimentalWarning: CatBoostPruningCallback is experimental (supported from v3.0.0). The interface can change in the future.\n",
      "  pruning_callback = CatBoostPruningCallback(trial, \"MultiLogloss\")\n",
      "\u001b[32m[I 2022-07-05 22:39:32,005]\u001b[0m Trial 15 finished with value: 0.7067770182288264 and parameters: {'objective': 'MultiLogloss', 'colsample_bylevel': 0.0648931812599479, 'l2_leaf_reg': 2.9490274178923794, 'depth': 4, 'boosting_type': 'Plain', 'bootstrap_type': 'MVS'}. Best is trial 12 with value: 0.718427276361126.\u001b[0m\n"
     ]
    },
    {
     "name": "stdout",
     "output_type": "stream",
     "text": [
      "[0.7288306451612903, 0.7424723381099221, 0.6251555887478217, 0.7140625, 0.7233640191250981]\n",
      "0.7067770182288264 0.04183487281248427\n"
     ]
    },
    {
     "name": "stderr",
     "output_type": "stream",
     "text": [
      "/tmp/ipykernel_91218/23460598.py:25: ExperimentalWarning: CatBoostPruningCallback is experimental (supported from v3.0.0). The interface can change in the future.\n",
      "  pruning_callback = CatBoostPruningCallback(trial, \"MultiLogloss\")\n",
      "\u001b[32m[I 2022-07-05 22:39:56,189]\u001b[0m Trial 16 finished with value: 0.6927351616759173 and parameters: {'objective': 'MultiLogloss', 'colsample_bylevel': 0.07100705192097594, 'l2_leaf_reg': 1.0620414239888065, 'depth': 7, 'boosting_type': 'Plain', 'bootstrap_type': 'MVS'}. Best is trial 12 with value: 0.718427276361126.\u001b[0m\n"
     ]
    },
    {
     "name": "stdout",
     "output_type": "stream",
     "text": [
      "[0.7018781833616299, 0.7357609287139488, 0.6045556385362211, 0.7119791666666666, 0.7095018911011204]\n",
      "0.6927351616759173 0.04552338897666242\n"
     ]
    },
    {
     "name": "stderr",
     "output_type": "stream",
     "text": [
      "/tmp/ipykernel_91218/23460598.py:25: ExperimentalWarning: CatBoostPruningCallback is experimental (supported from v3.0.0). The interface can change in the future.\n",
      "  pruning_callback = CatBoostPruningCallback(trial, \"MultiLogloss\")\n",
      "\u001b[32m[I 2022-07-05 22:40:37,836]\u001b[0m Trial 17 finished with value: 0.6979581527955535 and parameters: {'objective': 'MultiLogloss', 'colsample_bylevel': 0.05035480333064966, 'l2_leaf_reg': 5.174948797562265, 'depth': 9, 'boosting_type': 'Plain', 'bootstrap_type': 'Bayesian', 'bagging_temperature': 5.418775871307282}. Best is trial 12 with value: 0.718427276361126.\u001b[0m\n"
     ]
    },
    {
     "name": "stdout",
     "output_type": "stream",
     "text": [
      "[0.7466044142614601, 0.7005260293850898, 0.6007592730893702, 0.7135416666666667, 0.7283593805751802]\n",
      "0.6979581527955535 0.05096617607002798\n",
      "Number of finished trials: 18\n",
      "Best trial:\n",
      "  Value: 0.718427276361126\n",
      "  Params: \n",
      "    objective: MultiLogloss\n",
      "    colsample_bylevel: 0.07741827729746069\n",
      "    l2_leaf_reg: 4.34762224033762\n",
      "    depth: 8\n",
      "    boosting_type: Plain\n",
      "    bootstrap_type: MVS\n"
     ]
    }
   ],
   "source": [
    "study = optuna.create_study(\n",
    "        pruner=optuna.pruners.MedianPruner(n_warmup_steps=25), direction=\"maximize\"\n",
    "    )\n",
    "study.optimize(objective, n_trials=500, timeout=600)\n",
    "\n",
    "print(\"Number of finished trials: {}\".format(len(study.trials)))\n",
    "\n",
    "print(\"Best trial:\")\n",
    "trial = study.best_trial\n",
    "\n",
    "print(\"  Value: {}\".format(trial.value))\n",
    "\n",
    "print(\"  Params: \")\n",
    "for key, value in trial.params.items():\n",
    "    print(\"    {}: {}\".format(key, value))"
   ]
  },
  {
   "cell_type": "code",
   "execution_count": 13,
   "metadata": {},
   "outputs": [
    {
     "data": {
      "application/vnd.jupyter.widget-view+json": {
       "model_id": "b85b9201203248aa8547377f2825cd44",
       "version_major": 2,
       "version_minor": 0
      },
      "text/plain": [
       "  0%|          | 0/5 [00:00<?, ?it/s]"
      ]
     },
     "metadata": {},
     "output_type": "display_data"
    },
    {
     "data": {
      "application/vnd.jupyter.widget-view+json": {
       "model_id": "d1831154aeba4434adcf04dfd4e2d9bd",
       "version_major": 2,
       "version_minor": 0
      },
      "text/plain": [
       "  0%|          | 0/7 [00:00<?, ?it/s]"
      ]
     },
     "metadata": {},
     "output_type": "display_data"
    },
    {
     "data": {
      "application/vnd.jupyter.widget-view+json": {
       "model_id": "cc4da708572a42e89af58e128d43438b",
       "version_major": 2,
       "version_minor": 0
      },
      "text/plain": [
       "  0%|          | 0/7 [00:00<?, ?it/s]"
      ]
     },
     "metadata": {},
     "output_type": "display_data"
    },
    {
     "data": {
      "application/vnd.jupyter.widget-view+json": {
       "model_id": "bd141345cec24cc5aab549ac3fcb9785",
       "version_major": 2,
       "version_minor": 0
      },
      "text/plain": [
       "  0%|          | 0/7 [00:00<?, ?it/s]"
      ]
     },
     "metadata": {},
     "output_type": "display_data"
    },
    {
     "data": {
      "application/vnd.jupyter.widget-view+json": {
       "model_id": "34047d330ea14fefa3eaa960afe97b71",
       "version_major": 2,
       "version_minor": 0
      },
      "text/plain": [
       "  0%|          | 0/7 [00:00<?, ?it/s]"
      ]
     },
     "metadata": {},
     "output_type": "display_data"
    },
    {
     "data": {
      "application/vnd.jupyter.widget-view+json": {
       "model_id": "9cd4c44bf38d4e3baec65a26fa403638",
       "version_major": 2,
       "version_minor": 0
      },
      "text/plain": [
       "  0%|          | 0/7 [00:00<?, ?it/s]"
      ]
     },
     "metadata": {},
     "output_type": "display_data"
    }
   ],
   "source": [
    "cv = MultilabelStratifiedKFold(n_splits=N_SPLITS, random_state=RANDOM_STATE, shuffle=True)\n",
    "\n",
    "# CAT_COLS = cfg.CAT_UNORDERED_COLS\n",
    "\n",
    "test_pool = cb.Pool(\n",
    "        data=test,\n",
    "        cat_features=CAT_COLS)\n",
    "\n",
    "\n",
    "fold = 0\n",
    "for train_idx, val_idx in tqdm(cv.split(X_train, Y_train), total=N_SPLITS):\n",
    "\n",
    "    train_pool = cb.Pool(\n",
    "        data=X_train.iloc[train_idx], \n",
    "        label=Y_train.iloc[train_idx],\n",
    "        cat_features=CAT_COLS)\n",
    "\n",
    "    val_pool = cb.Pool(\n",
    "        data=X_train.iloc[val_idx], \n",
    "        label=Y_train.iloc[val_idx],\n",
    "        cat_features=CAT_COLS)\n",
    "        \n",
    "    for random_seed in tqdm(range(N_RANDOM_SEEDS), total=N_RANDOM_SEEDS):\n",
    "\n",
    "        clf = cb.CatBoostClassifier(\n",
    "            **trial.params,\n",
    "            n_estimators=2000,\n",
    "            random_seed=random_seed,\n",
    "            early_stopping_rounds=100,\n",
    "            silent=True\n",
    "        )\n",
    "\n",
    "        clf.fit(train_pool, eval_set=val_pool, plot=False)\n",
    "        \n",
    "        model_name = f'{EXPERIMENT_NAME}_fold_{fold}_rs_{random_seed}.cbm'\n",
    "        model_path = os.path.join(cfg.MODELS_PATH, EXPERIMENT_FAMILY_NAME, EXPERIMENT_NAME)\n",
    "        check_path(model_path)\n",
    "        clf.save_model(os.path.join(model_path, model_name))\n",
    "        \n",
    "        pred_proba_oof.iloc[val_idx, :] += clf.predict_proba(val_pool)\n",
    "        pred_proba_test.iloc[:, :] += clf.predict_proba(test_pool)\n",
    "        del clf; gc.collect()\n",
    "    del train_pool,val_pool; gc.collect() \n",
    "        \n",
    "    fold += 1\n",
    "pred_proba_oof /= N_RANDOM_SEEDS\n",
    "pred_proba_test /= (N_SPLITS * N_RANDOM_SEEDS)"
   ]
  },
  {
   "cell_type": "markdown",
   "metadata": {},
   "source": [
    "# PREDICT AND SAVE PREDICTIONS"
   ]
  },
  {
   "cell_type": "code",
   "execution_count": 14,
   "metadata": {},
   "outputs": [
    {
     "name": "stdout",
     "output_type": "stream",
     "text": [
      "[0.7088062669771051, 0.7201466658507232, 0.6145061150212755, 0.6634733415167849, 0.737991930013127]\n",
      "0.6889848638758032 0.04463980344631226\n"
     ]
    }
   ],
   "source": [
    "tresholds = get_tresholds(train[cfg.TARGETS], pred_proba_oof)\n",
    "sample_submission = pd.read_csv(cfg.SAMPLE_SUBMISSION_PATH).set_index('ID')\n",
    "submission = make_prediction(pred_proba_test, tresholds, sample_submission)"
   ]
  },
  {
   "cell_type": "code",
   "execution_count": 15,
   "metadata": {},
   "outputs": [],
   "source": [
    "## BEST PARAMS\n",
    "# [0.7088062669771051, 0.7201466658507232, 0.6145061150212755, 0.6634733415167849, 0.737991930013127]\n",
    "# 0.6889848638758032 0.04463980344631226"
   ]
  },
  {
   "cell_type": "code",
   "execution_count": 16,
   "metadata": {},
   "outputs": [],
   "source": [
    "submission_path = os.path.join(cfg.SUBMISSION_PATH, EXPERIMENT_FAMILY_NAME)\n",
    "check_path(submission_path)\n",
    "submission.to_csv(os.path.join(submission_path, f'{EXPERIMENT_NAME}.csv'))\n",
    "\n",
    "pred_proba_oof_path = os.path.join(cfg.OOF_PRED_PATH, EXPERIMENT_FAMILY_NAME)\n",
    "check_path(pred_proba_oof_path)\n",
    "pred_proba_oof.to_pickle(os.path.join(pred_proba_oof_path, f'{EXPERIMENT_NAME}.pkl'))\n",
    "\n",
    "pred_proba_test_path = os.path.join(cfg.TEST_PRED_PATH, EXPERIMENT_FAMILY_NAME)\n",
    "check_path(pred_proba_test_path)\n",
    "pred_proba_test.to_pickle(os.path.join(pred_proba_test_path, f'{EXPERIMENT_NAME}.pkl'))"
   ]
  }
 ],
 "metadata": {
  "kernelspec": {
   "display_name": "Python 3 (ipykernel)",
   "language": "python",
   "name": "python3"
  },
  "language_info": {
   "codemirror_mode": {
    "name": "ipython",
    "version": 3
   },
   "file_extension": ".py",
   "mimetype": "text/x-python",
   "name": "python",
   "nbconvert_exporter": "python",
   "pygments_lexer": "ipython3",
   "version": "3.9.12"
  },
  "orig_nbformat": 4,
  "vscode": {
   "interpreter": {
    "hash": "04d48c12bfbca8a14a4066630f6d13e81276286aa1e28ae9f6bc2bde884e5eee"
   }
  }
 },
 "nbformat": 4,
 "nbformat_minor": 2
}
