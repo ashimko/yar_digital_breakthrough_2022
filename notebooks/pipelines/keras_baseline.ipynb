{
 "cells": [
  {
   "cell_type": "markdown",
   "metadata": {},
   "source": [
    "# IMPORTS"
   ]
  },
  {
   "cell_type": "code",
   "execution_count": 1,
   "metadata": {},
   "outputs": [],
   "source": [
    "import sys\n",
    "sys.path.insert(0, \"../..\")\n",
    "import config as cfg\n",
    "import gc\n",
    "import os\n",
    "from typing import Optional, Any, Union, Callable"
   ]
  },
  {
   "cell_type": "code",
   "execution_count": 2,
   "metadata": {},
   "outputs": [],
   "source": [
    "import pandas as pd\n",
    "import numpy as np\n",
    "from tqdm.notebook import tqdm\n",
    "from metrics import compute_single_col_score, get_tresholds, compute_weird_pred_proba_score, compute_weird_pred_score\n",
    "from sklearn.metrics import recall_score\n",
    "from helper import make_prediction, check_path, get_prediction, evaluate, seed_everything, save_submission, save_pred_proba_oof, save_pred_proba_test\n",
    "from collections import defaultdict"
   ]
  },
  {
   "cell_type": "code",
   "execution_count": 3,
   "metadata": {},
   "outputs": [],
   "source": [
    "from sklearn.metrics import *\n",
    "from sklearn.model_selection import StratifiedKFold, train_test_split\n",
    "from iterstrat.ml_stratifiers import MultilabelStratifiedKFold"
   ]
  },
  {
   "cell_type": "code",
   "execution_count": 4,
   "metadata": {},
   "outputs": [],
   "source": [
    "import tensorflow as tf\n",
    "from tensorflow.keras import layers"
   ]
  },
  {
   "cell_type": "code",
   "execution_count": 5,
   "metadata": {},
   "outputs": [],
   "source": [
    "RANDOM_STATE = 77\n",
    "seed_everything(RANDOM_STATE)"
   ]
  },
  {
   "cell_type": "markdown",
   "metadata": {},
   "source": [
    "# MODEL TRAINING"
   ]
  },
  {
   "cell_type": "code",
   "execution_count": 6,
   "metadata": {},
   "outputs": [],
   "source": [
    "train = pd.read_pickle(cfg.PREPARED_TRAIN_DATA_PATH)\n",
    "test = pd.read_pickle(cfg.PREPARED_TEST_DATA_PATH)"
   ]
  },
  {
   "cell_type": "code",
   "execution_count": 7,
   "metadata": {},
   "outputs": [],
   "source": [
    "train[cfg.CAT_UNORDERED_COLS] = train[cfg.CAT_UNORDERED_COLS].astype('string')\n",
    "test[cfg.CAT_UNORDERED_COLS] = test[cfg.CAT_UNORDERED_COLS].astype('string')"
   ]
  },
  {
   "cell_type": "code",
   "execution_count": 8,
   "metadata": {},
   "outputs": [],
   "source": [
    "train[cfg.REAL_COLS] = train[cfg.REAL_COLS].fillna(-1)\n",
    "test[cfg.REAL_COLS] = test[cfg.REAL_COLS].fillna(-1)"
   ]
  },
  {
   "cell_type": "code",
   "execution_count": 9,
   "metadata": {},
   "outputs": [],
   "source": [
    "X_train, Y_train = train.drop(cfg.TARGETS, axis=1), train[cfg.TARGETS]"
   ]
  },
  {
   "cell_type": "code",
   "execution_count": 10,
   "metadata": {},
   "outputs": [],
   "source": [
    "EXPERIMENT_FAMILY_NAME = 'keras'\n",
    "EXPERIMENT_NAME = 'baseline'\n",
    "N_SPLITS = 8\n",
    "BATCH_SIZE = 16"
   ]
  },
  {
   "cell_type": "code",
   "execution_count": 11,
   "metadata": {},
   "outputs": [],
   "source": [
    "CAT_COLS = cfg.CAT_UNORDERED_COLS"
   ]
  },
  {
   "cell_type": "code",
   "execution_count": 12,
   "metadata": {},
   "outputs": [],
   "source": [
    "def df_to_dataset(data: pd.DataFrame, labels: Optional[pd.DataFrame]=None, shuffle: bool=True, batch_size: int=32):\n",
    "  df = data.copy()\n",
    "  df = {key: value.values[:, tf.newaxis] for key, value in data.items()}\n",
    "  \n",
    "  if labels is None:\n",
    "    ds = tf.data.Dataset.from_tensor_slices((dict(df),))\n",
    "  else:\n",
    "    ds = tf.data.Dataset.from_tensor_slices((dict(df), labels))\n",
    "  if shuffle:\n",
    "    ds = ds.shuffle(buffer_size=len(data))\n",
    "  ds = ds.batch(batch_size)\n",
    "  ds = ds.prefetch(batch_size)\n",
    "  return ds"
   ]
  },
  {
   "cell_type": "code",
   "execution_count": 13,
   "metadata": {},
   "outputs": [],
   "source": [
    "def get_normalization_layer(name, dataset):\n",
    "  # Create a Normalization layer for the feature.\n",
    "  normalizer = layers.Normalization(axis=None)\n",
    "\n",
    "  # Prepare a Dataset that only yields the feature.\n",
    "  feature_ds = dataset.map(lambda x, y: x[name])\n",
    "\n",
    "  # Learn the statistics of the data.\n",
    "  normalizer.adapt(feature_ds)\n",
    "\n",
    "  return normalizer"
   ]
  },
  {
   "cell_type": "code",
   "execution_count": 14,
   "metadata": {},
   "outputs": [],
   "source": [
    "def get_category_encoding_layer(name, dataset, dtype, max_tokens=None):\n",
    "  # Create a layer that turns strings into integer indices.\n",
    "  if dtype == 'string':\n",
    "    index = layers.StringLookup(max_tokens=max_tokens)\n",
    "  # Otherwise, create a layer that turns integer values into integer indices.\n",
    "  else:\n",
    "    index = layers.IntegerLookup(max_tokens=max_tokens)\n",
    "\n",
    "  # Prepare a `tf.data.Dataset` that only yields the feature.\n",
    "  feature_ds = dataset.map(lambda x, y: x[name])\n",
    "\n",
    "  # Learn the set of possible values and assign them a fixed integer index.\n",
    "  index.adapt(feature_ds)\n",
    "\n",
    "  # Encode the integer indices.\n",
    "  encoder = layers.CategoryEncoding(num_tokens=index.vocabulary_size())\n",
    "\n",
    "  # Apply multi-hot encoding to the indices. The lambda function captures the\n",
    "  # layer, so you can use them, or include them in the Keras Functional model later.\n",
    "  return lambda feature: encoder(index(feature))\n"
   ]
  },
  {
   "cell_type": "code",
   "execution_count": 15,
   "metadata": {},
   "outputs": [],
   "source": [
    "def get_keras_model(train):\n",
    "    all_inputs = []\n",
    "    encoded_features = []\n",
    "\n",
    "    # Numerical features.\n",
    "    for header in cfg.REAL_COLS:\n",
    "        numeric_col = tf.keras.Input(shape=(1,), name=header)\n",
    "        normalization_layer = get_normalization_layer(header, train)\n",
    "        encoded_numeric_col = normalization_layer(numeric_col)\n",
    "        all_inputs.append(numeric_col)\n",
    "        encoded_features.append(encoded_numeric_col)\n",
    "\n",
    "    for header in cfg.CAT_ORDERED_COLS + cfg.BINARY_COLS:\n",
    "        ordered_cat_col = tf.keras.Input(shape=(1,), name=header, dtype='int32')\n",
    "\n",
    "        encoding_layer = get_category_encoding_layer(name=header,\n",
    "                                                    dataset=train,\n",
    "                                                    dtype='int32',\n",
    "                                                    max_tokens=None)\n",
    "        encoded_ordered_cat_col = encoding_layer(ordered_cat_col)\n",
    "        all_inputs.append(ordered_cat_col)\n",
    "        encoded_features.append(encoded_ordered_cat_col)\n",
    "\n",
    "    for header in cfg.CAT_UNORDERED_COLS:\n",
    "        categorical_col = tf.keras.Input(shape=(1,), name=header, dtype='string')\n",
    "        encoding_layer = get_category_encoding_layer(name=header,\n",
    "                                                    dataset=train,\n",
    "                                                    dtype='string',\n",
    "                                                    max_tokens=None)\n",
    "        encoded_categorical_col = encoding_layer(categorical_col)\n",
    "        all_inputs.append(categorical_col)\n",
    "        encoded_features.append(encoded_categorical_col)\n",
    "\n",
    "\n",
    "    all_features = tf.keras.layers.concatenate(encoded_features)\n",
    "    x = tf.keras.layers.Dense(256)(all_features)\n",
    "    x = tf.keras.layers.LeakyReLU(alpha=0.05)(x)\n",
    "    x = tf.keras.layers.Dropout(0.4)(x)\n",
    "    x = tf.keras.layers.BatchNormalization()(x)\n",
    "    x = tf.keras.layers.Dense(128)(x)\n",
    "    x = tf.keras.layers.BatchNormalization()(x)\n",
    "    x = tf.keras.layers.LeakyReLU(alpha=0.05)(x)\n",
    "    x = tf.keras.layers.Dropout(0.4)(x)\n",
    "    x = tf.keras.layers.BatchNormalization()(x)\n",
    "    output = tf.keras.layers.Dense(len(cfg.TARGETS))(x)\n",
    "\n",
    "    model = tf.keras.Model(all_inputs, output)\n",
    "    model.compile(\n",
    "        optimizer=tf.keras.optimizers.Adam(\n",
    "            learning_rate=0.0005,\n",
    "            beta_1=0.9,\n",
    "            beta_2=0.999,\n",
    "            epsilon=1e-07,\n",
    "            amsgrad=False,\n",
    "            name='Adam'\n",
    "            )\n",
    "    ,\n",
    "        loss=tf.keras.losses.BinaryCrossentropy(from_logits=True),\n",
    "        # metrics=['AUC']\n",
    "        )\n",
    "    return model"
   ]
  },
  {
   "cell_type": "code",
   "execution_count": 16,
   "metadata": {},
   "outputs": [],
   "source": [
    "early_stopping = tf.keras.callbacks.EarlyStopping(monitor='val_loss', patience=10, restore_best_weights=True)\n",
    "# reduce_lr = tf.keras.callbacks.ReduceLROnPlateau(monitor='val_loss', factor=0.2, patience=2, min_lr=0.0001)"
   ]
  },
  {
   "cell_type": "code",
   "execution_count": 17,
   "metadata": {},
   "outputs": [],
   "source": [
    "def get_keras_input(\n",
    "    data: pd.DataFrame,\n",
    "    labels: Optional[pd.DataFrame] = None,\n",
    "    shuffle=False\n",
    "    ) -> tf.data.Dataset:\n",
    "    return df_to_dataset(\n",
    "        data=data,\n",
    "        labels=labels,\n",
    "        shuffle=shuffle, \n",
    "        batch_size=BATCH_SIZE)\n",
    "        \n"
   ]
  },
  {
   "cell_type": "code",
   "execution_count": 18,
   "metadata": {},
   "outputs": [],
   "source": [
    "def fit_keras_model(train, val):\n",
    "    model = get_keras_model(train)\n",
    "\n",
    "    early_stopping = tf.keras.callbacks.EarlyStopping(monitor='val_loss', patience=10, restore_best_weights=True)\n",
    "    callbacks = [early_stopping]\n",
    "\n",
    "    model.fit(\n",
    "        train, \n",
    "        validation_data=val,\n",
    "        epochs=200, \n",
    "        verbose=0, \n",
    "        callbacks=callbacks)\n",
    "        \n",
    "    return model"
   ]
  },
  {
   "cell_type": "code",
   "execution_count": 19,
   "metadata": {},
   "outputs": [],
   "source": [
    "def save_keras_model(model: Any, experiment_name: str, experiment_family_name: str, fold: int, suffix='') -> None:\n",
    "    model_name = f'{experiment_name}_fold_{fold}' + f'_{suffix}' if suffix else ''\n",
    "    model_path = os.path.join(cfg.MODELS_PATH, EXPERIMENT_FAMILY_NAME, EXPERIMENT_NAME)\n",
    "    check_path(model_path)\n",
    "    model.save(os.path.join(model_path, model_name))"
   ]
  },
  {
   "cell_type": "code",
   "execution_count": 20,
   "metadata": {},
   "outputs": [],
   "source": [
    "def predict_with_keras_model(model, data) -> np.ndarray:\n",
    "    return tf.nn.sigmoid(model.predict(data)).numpy().squeeze()\n"
   ]
  },
  {
   "cell_type": "code",
   "execution_count": 21,
   "metadata": {},
   "outputs": [
    {
     "data": {
      "application/vnd.jupyter.widget-view+json": {
       "model_id": "df8d83bc32c04036b2be7eb634a1ed66",
       "version_major": 2,
       "version_minor": 0
      },
      "text/plain": [
       "  0%|          | 0/8 [00:00<?, ?it/s]"
      ]
     },
     "metadata": {},
     "output_type": "display_data"
    },
    {
     "name": "stderr",
     "output_type": "stream",
     "text": [
      "2022-07-06 21:23:30.319282: I tensorflow/core/platform/cpu_feature_guard.cc:193] This TensorFlow binary is optimized with oneAPI Deep Neural Network Library (oneDNN) to use the following CPU instructions in performance-critical operations:  AVX2 FMA\n",
      "To enable them in other operations, rebuild TensorFlow with the appropriate compiler flags.\n",
      "2022-07-06 21:23:31.162820: I tensorflow/core/common_runtime/gpu/gpu_device.cc:1532] Created device /job:localhost/replica:0/task:0/device:GPU:0 with 5379 MB memory:  -> device: 0, name: NVIDIA GeForce GTX 1060 with Max-Q Design, pci bus id: 0000:01:00.0, compute capability: 6.1\n"
     ]
    },
    {
     "data": {
      "application/vnd.jupyter.widget-view+json": {
       "model_id": "fe69801c4a454f20a0fe7559a7560fd6",
       "version_major": 2,
       "version_minor": 0
      },
      "text/plain": [
       "  0%|          | 0/3 [00:00<?, ?it/s]"
      ]
     },
     "metadata": {},
     "output_type": "display_data"
    },
    {
     "name": "stdout",
     "output_type": "stream",
     "text": [
      "INFO:tensorflow:Assets written to: /home/as/my_repositories/yar_digital_breakthrough_2022/checkpoints/keras/baseline/baseline_fold_0_eval/assets\n",
      "18/18 [==============================] - 1s 11ms/step\n",
      "8/8 [==============================] - 1s 10ms/step\n",
      "INFO:tensorflow:Assets written to: /home/as/my_repositories/yar_digital_breakthrough_2022/checkpoints/keras/baseline/baseline_fold_1_eval/assets\n",
      "18/18 [==============================] - 1s 11ms/step\n",
      "8/8 [==============================] - 2s 11ms/step\n",
      "INFO:tensorflow:Assets written to: /home/as/my_repositories/yar_digital_breakthrough_2022/checkpoints/keras/baseline/baseline_fold_2_eval/assets\n",
      "18/18 [==============================] - 1s 10ms/step\n",
      "8/8 [==============================] - 1s 10ms/step\n",
      "[0.6295592705167173, 0.6349708820858043, 0.5681646955759965, 0.6285357588728375, 0.7079625158100494]\n",
      "0.633838624572281 0.044396241878955654\n"
     ]
    },
    {
     "data": {
      "application/vnd.jupyter.widget-view+json": {
       "model_id": "c8962058b10c40c78f5881f7a849b6a4",
       "version_major": 2,
       "version_minor": 0
      },
      "text/plain": [
       "  0%|          | 0/3 [00:00<?, ?it/s]"
      ]
     },
     "metadata": {},
     "output_type": "display_data"
    },
    {
     "name": "stdout",
     "output_type": "stream",
     "text": [
      "INFO:tensorflow:Assets written to: /home/as/my_repositories/yar_digital_breakthrough_2022/checkpoints/keras/baseline/baseline_fold_0_eval/assets\n",
      "18/18 [==============================] - 1s 10ms/step\n",
      "8/8 [==============================] - 1s 10ms/step\n",
      "INFO:tensorflow:Assets written to: /home/as/my_repositories/yar_digital_breakthrough_2022/checkpoints/keras/baseline/baseline_fold_1_eval/assets\n",
      "18/18 [==============================] - 1s 11ms/step\n",
      "8/8 [==============================] - 1s 10ms/step\n",
      "INFO:tensorflow:Assets written to: /home/as/my_repositories/yar_digital_breakthrough_2022/checkpoints/keras/baseline/baseline_fold_2_eval/assets\n",
      "18/18 [==============================] - 1s 10ms/step\n",
      "8/8 [==============================] - 1s 11ms/step\n",
      "[0.6643760700019021, 0.6676282561409093, 0.5489035087719298, 0.6236789041857878, 0.7144482857966004]\n",
      "0.6438070049794259 0.055484309551896385\n"
     ]
    },
    {
     "data": {
      "application/vnd.jupyter.widget-view+json": {
       "model_id": "6d0dc0037a9a40bcb38256ffd89c1960",
       "version_major": 2,
       "version_minor": 0
      },
      "text/plain": [
       "  0%|          | 0/3 [00:00<?, ?it/s]"
      ]
     },
     "metadata": {},
     "output_type": "display_data"
    },
    {
     "name": "stdout",
     "output_type": "stream",
     "text": [
      "INFO:tensorflow:Assets written to: /home/as/my_repositories/yar_digital_breakthrough_2022/checkpoints/keras/baseline/baseline_fold_0_eval/assets\n",
      "18/18 [==============================] - 1s 10ms/step\n",
      "8/8 [==============================] - 1s 10ms/step\n",
      "INFO:tensorflow:Assets written to: /home/as/my_repositories/yar_digital_breakthrough_2022/checkpoints/keras/baseline/baseline_fold_1_eval/assets\n",
      "18/18 [==============================] - 1s 10ms/step\n",
      "8/8 [==============================] - 1s 9ms/step\n",
      "INFO:tensorflow:Assets written to: /home/as/my_repositories/yar_digital_breakthrough_2022/checkpoints/keras/baseline/baseline_fold_2_eval/assets\n",
      "18/18 [==============================] - 1s 10ms/step\n",
      "8/8 [==============================] - 1s 9ms/step\n",
      "[0.6641858474415065, 0.6879463927453655, 0.6233790999237223, 0.6741239048811014, 0.7190002881014117]\n",
      "0.6737271066186216 0.03123448066872082\n"
     ]
    },
    {
     "data": {
      "application/vnd.jupyter.widget-view+json": {
       "model_id": "1cba62ff30f4429abc125824d13ab57e",
       "version_major": 2,
       "version_minor": 0
      },
      "text/plain": [
       "  0%|          | 0/3 [00:00<?, ?it/s]"
      ]
     },
     "metadata": {},
     "output_type": "display_data"
    },
    {
     "name": "stdout",
     "output_type": "stream",
     "text": [
      "INFO:tensorflow:Assets written to: /home/as/my_repositories/yar_digital_breakthrough_2022/checkpoints/keras/baseline/baseline_fold_0_eval/assets\n",
      "18/18 [==============================] - 1s 9ms/step\n",
      "8/8 [==============================] - 1s 9ms/step\n",
      "INFO:tensorflow:Assets written to: /home/as/my_repositories/yar_digital_breakthrough_2022/checkpoints/keras/baseline/baseline_fold_1_eval/assets\n",
      "18/18 [==============================] - 1s 9ms/step\n",
      "8/8 [==============================] - 1s 9ms/step\n",
      "INFO:tensorflow:Assets written to: /home/as/my_repositories/yar_digital_breakthrough_2022/checkpoints/keras/baseline/baseline_fold_2_eval/assets\n",
      "18/18 [==============================] - 1s 9ms/step\n",
      "8/8 [==============================] - 1s 9ms/step\n",
      "[0.6234148119967028, 0.6568226199074445, 0.5596052631578947, 0.6770094562647754, 0.7077787381158167]\n",
      "0.6449261778885268 0.05072219191676589\n"
     ]
    },
    {
     "data": {
      "application/vnd.jupyter.widget-view+json": {
       "model_id": "c974be8eba12470d8954f82822cda6ef",
       "version_major": 2,
       "version_minor": 0
      },
      "text/plain": [
       "  0%|          | 0/3 [00:00<?, ?it/s]"
      ]
     },
     "metadata": {},
     "output_type": "display_data"
    },
    {
     "name": "stdout",
     "output_type": "stream",
     "text": [
      "INFO:tensorflow:Assets written to: /home/as/my_repositories/yar_digital_breakthrough_2022/checkpoints/keras/baseline/baseline_fold_0_eval/assets\n",
      "18/18 [==============================] - 1s 9ms/step\n",
      "8/8 [==============================] - 1s 9ms/step\n",
      "INFO:tensorflow:Assets written to: /home/as/my_repositories/yar_digital_breakthrough_2022/checkpoints/keras/baseline/baseline_fold_1_eval/assets\n",
      "18/18 [==============================] - 1s 10ms/step\n",
      "8/8 [==============================] - 1s 10ms/step\n",
      "INFO:tensorflow:Assets written to: /home/as/my_repositories/yar_digital_breakthrough_2022/checkpoints/keras/baseline/baseline_fold_2_eval/assets\n",
      "18/18 [==============================] - 1s 10ms/step\n",
      "8/8 [==============================] - 1s 10ms/step\n",
      "[0.6550151975683891, 0.6863012234866699, 0.556101620674551, 0.6322916666666667, 0.7147073191758384]\n",
      "0.648883405514423 0.05413727917316716\n"
     ]
    },
    {
     "data": {
      "application/vnd.jupyter.widget-view+json": {
       "model_id": "f233e14ce3f94215a45619319a6f754c",
       "version_major": 2,
       "version_minor": 0
      },
      "text/plain": [
       "  0%|          | 0/3 [00:00<?, ?it/s]"
      ]
     },
     "metadata": {},
     "output_type": "display_data"
    },
    {
     "name": "stdout",
     "output_type": "stream",
     "text": [
      "INFO:tensorflow:Assets written to: /home/as/my_repositories/yar_digital_breakthrough_2022/checkpoints/keras/baseline/baseline_fold_0_eval/assets\n",
      "18/18 [==============================] - 1s 9ms/step\n",
      "8/8 [==============================] - 1s 9ms/step\n",
      "INFO:tensorflow:Assets written to: /home/as/my_repositories/yar_digital_breakthrough_2022/checkpoints/keras/baseline/baseline_fold_1_eval/assets\n",
      "18/18 [==============================] - 1s 9ms/step\n",
      "8/8 [==============================] - 1s 9ms/step\n",
      "INFO:tensorflow:Assets written to: /home/as/my_repositories/yar_digital_breakthrough_2022/checkpoints/keras/baseline/baseline_fold_2_eval/assets\n",
      "18/18 [==============================] - 1s 9ms/step\n",
      "8/8 [==============================] - 1s 9ms/step\n",
      "[0.6736638804457953, 0.6691810487556127, 0.5960526315789474, 0.5988194444444445, 0.7118279260898301]\n",
      "0.649908986262926 0.045343821459418246\n"
     ]
    },
    {
     "data": {
      "application/vnd.jupyter.widget-view+json": {
       "model_id": "d18bb5e603804c23b2ba08e8cd07b35d",
       "version_major": 2,
       "version_minor": 0
      },
      "text/plain": [
       "  0%|          | 0/3 [00:00<?, ?it/s]"
      ]
     },
     "metadata": {},
     "output_type": "display_data"
    },
    {
     "name": "stdout",
     "output_type": "stream",
     "text": [
      "INFO:tensorflow:Assets written to: /home/as/my_repositories/yar_digital_breakthrough_2022/checkpoints/keras/baseline/baseline_fold_0_eval/assets\n",
      "18/18 [==============================] - 1s 10ms/step\n",
      "8/8 [==============================] - 1s 10ms/step\n",
      "INFO:tensorflow:Assets written to: /home/as/my_repositories/yar_digital_breakthrough_2022/checkpoints/keras/baseline/baseline_fold_1_eval/assets\n",
      "18/18 [==============================] - 1s 10ms/step\n",
      "8/8 [==============================] - 1s 9ms/step\n",
      "INFO:tensorflow:Assets written to: /home/as/my_repositories/yar_digital_breakthrough_2022/checkpoints/keras/baseline/baseline_fold_2_eval/assets\n",
      "18/18 [==============================] - 1s 9ms/step\n",
      "8/8 [==============================] - 1s 10ms/step\n",
      "[0.6450734549138804, 0.6231100069455575, 0.6005519053876478, 0.6461805555555555, 0.7267103598942164]\n",
      "0.6483252565393716 0.042608685209509764\n"
     ]
    },
    {
     "data": {
      "application/vnd.jupyter.widget-view+json": {
       "model_id": "c1f0fa6a59894333884119cbdddb0e63",
       "version_major": 2,
       "version_minor": 0
      },
      "text/plain": [
       "  0%|          | 0/3 [00:00<?, ?it/s]"
      ]
     },
     "metadata": {},
     "output_type": "display_data"
    },
    {
     "name": "stdout",
     "output_type": "stream",
     "text": [
      "INFO:tensorflow:Assets written to: /home/as/my_repositories/yar_digital_breakthrough_2022/checkpoints/keras/baseline/baseline_fold_0_eval/assets\n",
      "18/18 [==============================] - 2s 12ms/step\n",
      "8/8 [==============================] - 1s 11ms/step\n",
      "INFO:tensorflow:Assets written to: /home/as/my_repositories/yar_digital_breakthrough_2022/checkpoints/keras/baseline/baseline_fold_1_eval/assets\n",
      "18/18 [==============================] - 2s 19ms/step\n",
      "8/8 [==============================] - 2s 24ms/step\n",
      "INFO:tensorflow:Assets written to: /home/as/my_repositories/yar_digital_breakthrough_2022/checkpoints/keras/baseline/baseline_fold_2_eval/assets\n",
      "18/18 [==============================] - 3s 26ms/step\n",
      "8/8 [==============================] - 3s 29ms/step\n",
      "[0.6659067882472138, 0.6601080809017338, 0.5944634253175646, 0.6443749999999999, 0.7170863516154996]\n",
      "0.6563879292164023 0.039414975171944575\n",
      "[0, 0, 0, 0, 0]\n",
      "0.0 0.0\n",
      "TEST METRICS\n",
      "defaultdict(<class 'list'>, {'weird_score': 0.0, 'oof_auc': 0.6836071741031793, 'oof_logloss': 1.0570146348467737})\n"
     ]
    }
   ],
   "source": [
    "weird_scores = []\n",
    "\n",
    "cv = MultilabelStratifiedKFold(n_splits=N_SPLITS, random_state=RANDOM_STATE, shuffle=True)\n",
    "\n",
    "pred_int = pd.DataFrame(index=Y_train.index, columns=Y_train.columns, dtype=np.int32)\n",
    "pred_proba = pd.DataFrame(index=Y_train.index, columns=Y_train.columns, dtype=np.float32)\n",
    "for train_idx, val_idx in tqdm(cv.split(X_train, Y_train), total=N_SPLITS):\n",
    "\n",
    "    pred_template = Y_train.iloc[val_idx].copy()\n",
    "    pred_template.iloc[:, :] = 0\n",
    "    \n",
    "    prediction, pred_proba_oof, pred_proba_test = get_prediction(\n",
    "        train_data=X_train.iloc[train_idx],\n",
    "        train_labels=Y_train.iloc[train_idx],\n",
    "        test_data=X_train.iloc[val_idx],\n",
    "        pred_template=pred_template,\n",
    "        process_input=get_keras_input,\n",
    "        save_model=save_keras_model,\n",
    "        fit_model=fit_keras_model,\n",
    "        predict=predict_with_keras_model,\n",
    "        n_splits=3,\n",
    "        random_state=RANDOM_STATE,\n",
    "        experiment_name=EXPERIMENT_NAME,\n",
    "        experiment_family_name=EXPERIMENT_FAMILY_NAME,\n",
    "        suffix='eval',\n",
    "        rename_cols=False,\n",
    "        )\n",
    "    \n",
    "    pred_int.iloc[val_idx] = prediction\n",
    "    pred_proba.iloc[val_idx] = pred_proba_test\n",
    "\n",
    "metrics = evaluate(\n",
    "    test_labels=Y_train,\n",
    "    prediction=pred_int.astype(np.int32), \n",
    "    pred_proba_test=pred_proba\n",
    "    )\n"
   ]
  },
  {
   "cell_type": "code",
   "execution_count": 51,
   "metadata": {},
   "outputs": [
    {
     "name": "stdout",
     "output_type": "stream",
     "text": [
      "OVERALL METRICS\n",
      "defaultdict(<class 'list'>, {'weird_score': 0.6367762920439424, 'oof_auc': 0.6836071741031793, 'oof_logloss': 1.0570146348467737})\n"
     ]
    }
   ],
   "source": [
    "print('OVERALL METRICS')\n",
    "print(metrics)"
   ]
  },
  {
   "cell_type": "code",
   "execution_count": 23,
   "metadata": {},
   "outputs": [],
   "source": [
    "# [0.632011421731218, 0.6490860706862861, 0.661385903220677, 0.6271449441761077, 0.6818099910552275]\n",
    "# 0.6502876661739032 0.01993929966464236"
   ]
  },
  {
   "cell_type": "code",
   "execution_count": 24,
   "metadata": {},
   "outputs": [
    {
     "data": {
      "application/vnd.jupyter.widget-view+json": {
       "model_id": "e746453e5aaf40dabd279e773cf13efa",
       "version_major": 2,
       "version_minor": 0
      },
      "text/plain": [
       "  0%|          | 0/8 [00:00<?, ?it/s]"
      ]
     },
     "metadata": {},
     "output_type": "display_data"
    },
    {
     "name": "stdout",
     "output_type": "stream",
     "text": [
      "INFO:tensorflow:Assets written to: /home/as/my_repositories/yar_digital_breakthrough_2022/checkpoints/keras/baseline/assets\n",
      "8/8 [==============================] - 3s 22ms/step\n",
      "40/40 [==============================] - 3s 24ms/step\n",
      "INFO:tensorflow:Assets written to: /home/as/my_repositories/yar_digital_breakthrough_2022/checkpoints/keras/baseline/assets\n",
      "8/8 [==============================] - 3s 27ms/step\n",
      "40/40 [==============================] - 3s 24ms/step\n",
      "INFO:tensorflow:Assets written to: /home/as/my_repositories/yar_digital_breakthrough_2022/checkpoints/keras/baseline/assets\n",
      "8/8 [==============================] - 2s 19ms/step\n",
      "40/40 [==============================] - 3s 24ms/step\n",
      "INFO:tensorflow:Assets written to: /home/as/my_repositories/yar_digital_breakthrough_2022/checkpoints/keras/baseline/assets\n",
      "8/8 [==============================] - 2s 18ms/step\n",
      "40/40 [==============================] - 3s 21ms/step\n",
      "INFO:tensorflow:Assets written to: /home/as/my_repositories/yar_digital_breakthrough_2022/checkpoints/keras/baseline/assets\n",
      "8/8 [==============================] - 2s 32ms/step\n",
      "40/40 [==============================] - 3s 22ms/step\n",
      "INFO:tensorflow:Assets written to: /home/as/my_repositories/yar_digital_breakthrough_2022/checkpoints/keras/baseline/assets\n",
      "8/8 [==============================] - 2s 22ms/step\n",
      "40/40 [==============================] - 3s 21ms/step\n",
      "INFO:tensorflow:Assets written to: /home/as/my_repositories/yar_digital_breakthrough_2022/checkpoints/keras/baseline/assets\n",
      "8/8 [==============================] - 2s 23ms/step\n",
      "40/40 [==============================] - 3s 19ms/step\n",
      "INFO:tensorflow:Assets written to: /home/as/my_repositories/yar_digital_breakthrough_2022/checkpoints/keras/baseline/assets\n",
      "8/8 [==============================] - 3s 28ms/step\n",
      "40/40 [==============================] - 3s 22ms/step\n",
      "[0.6805575766395033, 0.6824449748077432, 0.5988505900928627, 0.620777072103325, 0.7191384672310959]\n",
      "0.660353736174906 0.04404727441334905\n"
     ]
    }
   ],
   "source": [
    "sample_submission = pd.read_csv(cfg.SAMPLE_SUBMISSION_PATH).set_index('ID')\n",
    "\n",
    "prediction, pred_proba_oof, pred_proba_test = get_prediction(\n",
    "    train_data=X_train,\n",
    "    train_labels=Y_train,\n",
    "    test_data=test,\n",
    "    pred_template=sample_submission,\n",
    "    process_input=get_keras_input,\n",
    "    save_model=save_keras_model,\n",
    "    fit_model=fit_keras_model,\n",
    "    predict=predict_with_keras_model,\n",
    "    n_splits=N_SPLITS,\n",
    "    random_state=RANDOM_STATE,\n",
    "    experiment_name=EXPERIMENT_NAME,\n",
    "    experiment_family_name=EXPERIMENT_FAMILY_NAME,\n",
    "    suffix=''\n",
    "    )"
   ]
  },
  {
   "cell_type": "code",
   "execution_count": 25,
   "metadata": {},
   "outputs": [],
   "source": [
    "save_submission(prediction, EXPERIMENT_FAMILY_NAME, EXPERIMENT_NAME)\n",
    "save_pred_proba_oof(pred_proba_oof, EXPERIMENT_FAMILY_NAME, EXPERIMENT_NAME)\n",
    "save_pred_proba_test(pred_proba_test, EXPERIMENT_FAMILY_NAME, EXPERIMENT_NAME)"
   ]
  }
 ],
 "metadata": {
  "kernelspec": {
   "display_name": "Python 3.9.12 ('tf')",
   "language": "python",
   "name": "python3"
  },
  "language_info": {
   "codemirror_mode": {
    "name": "ipython",
    "version": 3
   },
   "file_extension": ".py",
   "mimetype": "text/x-python",
   "name": "python",
   "nbconvert_exporter": "python",
   "pygments_lexer": "ipython3",
   "version": "3.9.12"
  },
  "orig_nbformat": 4,
  "vscode": {
   "interpreter": {
    "hash": "d5356ef1c2ac2ef25d35a0579f082f1d273c4bada2fe955fa1b70f42402fff98"
   }
  }
 },
 "nbformat": 4,
 "nbformat_minor": 2
}
