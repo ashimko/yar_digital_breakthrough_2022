{
 "cells": [
  {
   "cell_type": "markdown",
   "metadata": {},
   "source": [
    "# IMPORTS"
   ]
  },
  {
   "cell_type": "code",
   "execution_count": 35,
   "metadata": {},
   "outputs": [],
   "source": [
    "import sys\n",
    "sys.path.insert(0, \"../..\")\n",
    "import config as cfg\n",
    "import gc\n",
    "import os\n",
    "from typing import Optional, Any, Union, Callable"
   ]
  },
  {
   "cell_type": "code",
   "execution_count": 36,
   "metadata": {},
   "outputs": [],
   "source": [
    "import pandas as pd\n",
    "import numpy as np\n",
    "from tqdm.notebook import tqdm\n",
    "from metrics import compute_single_col_score, get_tresholds, compute_weird_pred_proba_score, compute_weird_pred_score\n",
    "from sklearn.metrics import recall_score\n",
    "from helper import make_prediction, check_path, get_prediction, evaluate, seed_everything, save_submission, save_pred_proba_oof, save_pred_proba_test\n",
    "from collections import defaultdict\n",
    "from functools import partial"
   ]
  },
  {
   "cell_type": "code",
   "execution_count": 37,
   "metadata": {},
   "outputs": [],
   "source": [
    "from sklearn.metrics import *\n",
    "from sklearn.model_selection import StratifiedKFold, train_test_split\n",
    "from iterstrat.ml_stratifiers import MultilabelStratifiedKFold"
   ]
  },
  {
   "cell_type": "code",
   "execution_count": 38,
   "metadata": {},
   "outputs": [],
   "source": [
    "import tensorflow as tf\n",
    "from tensorflow.keras import layers"
   ]
  },
  {
   "cell_type": "code",
   "execution_count": 39,
   "metadata": {},
   "outputs": [],
   "source": [
    "RANDOM_STATE = 77\n",
    "seed_everything(RANDOM_STATE)"
   ]
  },
  {
   "cell_type": "markdown",
   "metadata": {},
   "source": [
    "# MODEL TRAINING"
   ]
  },
  {
   "cell_type": "code",
   "execution_count": 40,
   "metadata": {},
   "outputs": [],
   "source": [
    "train = pd.read_pickle(cfg.PREPARED_TRAIN_DATA_PATH)\n",
    "test = pd.read_pickle(cfg.PREPARED_TEST_DATA_PATH)"
   ]
  },
  {
   "cell_type": "code",
   "execution_count": 41,
   "metadata": {},
   "outputs": [],
   "source": [
    "train[cfg.CAT_UNORDERED_COLS] = train[cfg.CAT_UNORDERED_COLS].astype('string')\n",
    "test[cfg.CAT_UNORDERED_COLS] = test[cfg.CAT_UNORDERED_COLS].astype('string')"
   ]
  },
  {
   "cell_type": "code",
   "execution_count": 42,
   "metadata": {},
   "outputs": [],
   "source": [
    "train[cfg.REAL_COLS] = train[cfg.REAL_COLS].fillna(-1)\n",
    "test[cfg.REAL_COLS] = test[cfg.REAL_COLS].fillna(-1)"
   ]
  },
  {
   "cell_type": "code",
   "execution_count": 43,
   "metadata": {},
   "outputs": [],
   "source": [
    "X_train, Y_train = train.drop(cfg.TARGETS, axis=1), train[cfg.TARGETS]"
   ]
  },
  {
   "cell_type": "code",
   "execution_count": 44,
   "metadata": {},
   "outputs": [],
   "source": [
    "EXPERIMENT_FAMILY_NAME = 'keras'\n",
    "EXPERIMENT_NAME = 'baseline'\n",
    "N_SPLITS = 7\n",
    "BATCH_SIZE = 32"
   ]
  },
  {
   "cell_type": "code",
   "execution_count": 45,
   "metadata": {},
   "outputs": [],
   "source": [
    "CAT_COLS = cfg.CAT_UNORDERED_COLS"
   ]
  },
  {
   "cell_type": "code",
   "execution_count": 46,
   "metadata": {},
   "outputs": [],
   "source": [
    "def df_to_dataset(data: pd.DataFrame, labels: Optional[pd.DataFrame]=None, shuffle: bool=True, batch_size: int=32):\n",
    "  df = data.copy()\n",
    "  df = {key: value.values[:, tf.newaxis] for key, value in data.items()}\n",
    "  \n",
    "  if labels is None:\n",
    "    ds = tf.data.Dataset.from_tensor_slices((dict(df),))\n",
    "  else:\n",
    "    ds = tf.data.Dataset.from_tensor_slices((dict(df), labels))\n",
    "  if shuffle:\n",
    "    ds = ds.shuffle(buffer_size=len(data))\n",
    "  ds = ds.batch(batch_size)\n",
    "  ds = ds.prefetch(batch_size)\n",
    "  return ds"
   ]
  },
  {
   "cell_type": "code",
   "execution_count": 47,
   "metadata": {},
   "outputs": [],
   "source": [
    "def get_normalization_layer(name, dataset):\n",
    "  # Create a Normalization layer for the feature.\n",
    "  normalizer = layers.Normalization(axis=None)\n",
    "\n",
    "  # Prepare a Dataset that only yields the feature.\n",
    "  feature_ds = dataset.map(lambda x, y: x[name])\n",
    "\n",
    "  # Learn the statistics of the data.\n",
    "  normalizer.adapt(feature_ds)\n",
    "\n",
    "  return normalizer"
   ]
  },
  {
   "cell_type": "code",
   "execution_count": 48,
   "metadata": {},
   "outputs": [],
   "source": [
    "def get_category_encoding_layer(name, dataset, dtype, max_tokens=None):\n",
    "  # Create a layer that turns strings into integer indices.\n",
    "  if dtype == 'string':\n",
    "    index = layers.StringLookup(max_tokens=max_tokens)\n",
    "  # Otherwise, create a layer that turns integer values into integer indices.\n",
    "  else:\n",
    "    index = layers.IntegerLookup(max_tokens=max_tokens)\n",
    "\n",
    "  # Prepare a `tf.data.Dataset` that only yields the feature.\n",
    "  feature_ds = dataset.map(lambda x, y: x[name])\n",
    "\n",
    "  # Learn the set of possible values and assign them a fixed integer index.\n",
    "  index.adapt(feature_ds)\n",
    "\n",
    "  # Encode the integer indices.\n",
    "  encoder = layers.CategoryEncoding(num_tokens=index.vocabulary_size())\n",
    "\n",
    "  # Apply multi-hot encoding to the indices. The lambda function captures the\n",
    "  # layer, so you can use them, or include them in the Keras Functional model later.\n",
    "  return lambda feature: encoder(index(feature))\n"
   ]
  },
  {
   "cell_type": "code",
   "execution_count": 49,
   "metadata": {},
   "outputs": [],
   "source": [
    "def get_keras_model(train):\n",
    "    all_inputs = []\n",
    "    encoded_features = []\n",
    "\n",
    "    # Numerical features.\n",
    "    for header in cfg.REAL_COLS:\n",
    "        numeric_col = tf.keras.Input(shape=(1,), name=header)\n",
    "        normalization_layer = get_normalization_layer(header, train)\n",
    "        encoded_numeric_col = normalization_layer(numeric_col)\n",
    "        all_inputs.append(numeric_col)\n",
    "        encoded_features.append(encoded_numeric_col)\n",
    "\n",
    "    for header in cfg.CAT_ORDERED_COLS + cfg.BINARY_COLS:\n",
    "        ordered_cat_col = tf.keras.Input(shape=(1,), name=header, dtype='int32')\n",
    "\n",
    "        encoding_layer = get_category_encoding_layer(name=header,\n",
    "                                                    dataset=train,\n",
    "                                                    dtype='int32',\n",
    "                                                    max_tokens=None)\n",
    "        encoded_ordered_cat_col = encoding_layer(ordered_cat_col)\n",
    "        all_inputs.append(ordered_cat_col)\n",
    "        encoded_features.append(encoded_ordered_cat_col)\n",
    "\n",
    "    for header in cfg.CAT_UNORDERED_COLS:\n",
    "        categorical_col = tf.keras.Input(shape=(1,), name=header, dtype='string')\n",
    "        encoding_layer = get_category_encoding_layer(name=header,\n",
    "                                                    dataset=train,\n",
    "                                                    dtype='string',\n",
    "                                                    max_tokens=None)\n",
    "        encoded_categorical_col = encoding_layer(categorical_col)\n",
    "        all_inputs.append(categorical_col)\n",
    "        encoded_features.append(encoded_categorical_col)\n",
    "\n",
    "\n",
    "    all_features = tf.keras.layers.concatenate(encoded_features)\n",
    "    x = tf.keras.layers.Dense(256)(all_features)\n",
    "    x = tf.keras.layers.LeakyReLU(alpha=0.05)(x)\n",
    "    x = tf.keras.layers.Dropout(0.4)(x)\n",
    "    x = tf.keras.layers.BatchNormalization()(x)\n",
    "    x = tf.keras.layers.Dense(128)(x)\n",
    "    x = tf.keras.layers.BatchNormalization()(x)\n",
    "    x = tf.keras.layers.LeakyReLU(alpha=0.05)(x)\n",
    "    x = tf.keras.layers.Dropout(0.4)(x)\n",
    "    x = tf.keras.layers.BatchNormalization()(x)\n",
    "    output = tf.keras.layers.Dense(len(cfg.TARGETS))(x)\n",
    "\n",
    "    model = tf.keras.Model(all_inputs, output)\n",
    "    model.compile(\n",
    "        optimizer=tf.keras.optimizers.Adam(\n",
    "            learning_rate=0.0005,\n",
    "            beta_1=0.9,\n",
    "            beta_2=0.999,\n",
    "            epsilon=1e-07,\n",
    "            amsgrad=False,\n",
    "            name='Adam'\n",
    "            )\n",
    "    ,\n",
    "        loss=tf.keras.losses.BinaryCrossentropy(from_logits=True),\n",
    "        # metrics=['AUC']\n",
    "        )\n",
    "    return model"
   ]
  },
  {
   "cell_type": "code",
   "execution_count": 50,
   "metadata": {},
   "outputs": [],
   "source": [
    "early_stopping = tf.keras.callbacks.EarlyStopping(monitor='val_loss', patience=10, restore_best_weights=True)\n",
    "# reduce_lr = tf.keras.callbacks.ReduceLROnPlateau(monitor='val_loss', factor=0.2, patience=2, min_lr=0.0001)"
   ]
  },
  {
   "cell_type": "code",
   "execution_count": 51,
   "metadata": {},
   "outputs": [],
   "source": [
    "def get_keras_input(\n",
    "    data: pd.DataFrame,\n",
    "    labels: Optional[pd.DataFrame] = None,\n",
    "    shuffle=False\n",
    "    ) -> tf.data.Dataset:\n",
    "    return df_to_dataset(\n",
    "        data=data,\n",
    "        labels=labels,\n",
    "        shuffle=shuffle, \n",
    "        batch_size=BATCH_SIZE)\n",
    "        \n"
   ]
  },
  {
   "cell_type": "code",
   "execution_count": 52,
   "metadata": {},
   "outputs": [],
   "source": [
    "from typing import Tuple\n",
    "\n",
    "\n",
    "def fit_keras_model(train, val, iterations: int=None) -> Tuple[Any, int]:\n",
    "    model = get_keras_model(train)\n",
    "\n",
    "    patience = 10\n",
    "    early_stopping = tf.keras.callbacks.EarlyStopping(monitor='val_loss', patience=patience, restore_best_weights=True)\n",
    "\n",
    "    if iterations is not None:\n",
    "        history = model.fit(\n",
    "            train,\n",
    "            validation_data=val,\n",
    "            epochs=iterations, \n",
    "            verbose=0)\n",
    "    else:\n",
    "        history = model.fit(\n",
    "            train, \n",
    "            validation_data=val,\n",
    "            epochs=200, \n",
    "            verbose=0, \n",
    "            callbacks=[early_stopping])\n",
    "\n",
    "    best_iter = max(3, len(history.epoch) - patience)\n",
    "    return model, best_iter"
   ]
  },
  {
   "cell_type": "code",
   "execution_count": 53,
   "metadata": {},
   "outputs": [],
   "source": [
    "def save_keras_model(model: Any, experiment_name: str, experiment_family_name: str, fold: int, suffix='') -> None:\n",
    "    model_name = f'{experiment_name}_fold_{fold}' + f'_{suffix}' if suffix else ''\n",
    "    model_path = os.path.join(cfg.MODELS_PATH, EXPERIMENT_FAMILY_NAME, EXPERIMENT_NAME)\n",
    "    check_path(model_path)\n",
    "    model.save(os.path.join(model_path, model_name))"
   ]
  },
  {
   "cell_type": "code",
   "execution_count": 54,
   "metadata": {},
   "outputs": [],
   "source": [
    "def predict_with_keras_model(model, data) -> np.ndarray:\n",
    "    return tf.nn.sigmoid(model.predict(data)).numpy().squeeze()\n"
   ]
  },
  {
   "cell_type": "code",
   "execution_count": 55,
   "metadata": {},
   "outputs": [
    {
     "data": {
      "application/vnd.jupyter.widget-view+json": {
       "model_id": "fb1bd2e0ef92405ba4152873d1e000e4",
       "version_major": 2,
       "version_minor": 0
      },
      "text/plain": [
       "  0%|          | 0/7 [00:00<?, ?it/s]"
      ]
     },
     "metadata": {},
     "output_type": "display_data"
    },
    {
     "data": {
      "application/vnd.jupyter.widget-view+json": {
       "model_id": "85f1affe7f2a4b569e7c782d3cc911f8",
       "version_major": 2,
       "version_minor": 0
      },
      "text/plain": [
       "  0%|          | 0/3 [00:00<?, ?it/s]"
      ]
     },
     "metadata": {},
     "output_type": "display_data"
    },
    {
     "name": "stdout",
     "output_type": "stream",
     "text": [
      "INFO:tensorflow:Assets written to: /home/as/my_repositories/yar_digital_breakthrough_2022/checkpoints/keras/baseline/baseline_fold_0_eval/assets\n",
      "9/9 [==============================] - 1s 13ms/step\n",
      "5/5 [==============================] - 1s 10ms/step\n",
      "INFO:tensorflow:Assets written to: /home/as/my_repositories/yar_digital_breakthrough_2022/checkpoints/keras/baseline/baseline_fold_1_eval/assets\n",
      "9/9 [==============================] - 1s 10ms/step\n",
      "5/5 [==============================] - 1s 11ms/step\n",
      "INFO:tensorflow:Assets written to: /home/as/my_repositories/yar_digital_breakthrough_2022/checkpoints/keras/baseline/baseline_fold_2_eval/assets\n",
      "9/9 [==============================] - 1s 10ms/step\n",
      "5/5 [==============================] - 1s 11ms/step\n",
      "[0.6639879374337222, 0.6594428969359332, 0.5704555361813426, 0.6150519978106185, 0.7052692252269561]\n",
      "0.6428415187177146 0.04611286862311418\n"
     ]
    },
    {
     "data": {
      "application/vnd.jupyter.widget-view+json": {
       "model_id": "cbc3f6d0f8be43fc8fd27af88465d7a0",
       "version_major": 2,
       "version_minor": 0
      },
      "text/plain": [
       "  0%|          | 0/3 [00:00<?, ?it/s]"
      ]
     },
     "metadata": {},
     "output_type": "display_data"
    },
    {
     "name": "stdout",
     "output_type": "stream",
     "text": [
      "INFO:tensorflow:Assets written to: /home/as/my_repositories/yar_digital_breakthrough_2022/checkpoints/keras/baseline/baseline_fold_0_eval/assets\n",
      "9/9 [==============================] - 1s 12ms/step\n",
      "5/5 [==============================] - 2s 12ms/step\n",
      "INFO:tensorflow:Assets written to: /home/as/my_repositories/yar_digital_breakthrough_2022/checkpoints/keras/baseline/baseline_fold_1_eval/assets\n",
      "9/9 [==============================] - 1s 10ms/step\n",
      "5/5 [==============================] - 1s 11ms/step\n",
      "INFO:tensorflow:Assets written to: /home/as/my_repositories/yar_digital_breakthrough_2022/checkpoints/keras/baseline/baseline_fold_2_eval/assets\n",
      "9/9 [==============================] - 1s 10ms/step\n",
      "5/5 [==============================] - 2s 10ms/step\n",
      "[0.6203755238344684, 0.6640075567445325, 0.5955196807545802, 0.630484693877551, 0.7103654154789566]\n",
      "0.6441505741380177 0.039738339330027676\n"
     ]
    },
    {
     "data": {
      "application/vnd.jupyter.widget-view+json": {
       "model_id": "b78e951c59f74578bbfcef1f4474c664",
       "version_major": 2,
       "version_minor": 0
      },
      "text/plain": [
       "  0%|          | 0/3 [00:00<?, ?it/s]"
      ]
     },
     "metadata": {},
     "output_type": "display_data"
    },
    {
     "name": "stdout",
     "output_type": "stream",
     "text": [
      "INFO:tensorflow:Assets written to: /home/as/my_repositories/yar_digital_breakthrough_2022/checkpoints/keras/baseline/baseline_fold_0_eval/assets\n",
      "9/9 [==============================] - 1s 11ms/step\n",
      "5/5 [==============================] - 1s 11ms/step\n",
      "INFO:tensorflow:Assets written to: /home/as/my_repositories/yar_digital_breakthrough_2022/checkpoints/keras/baseline/baseline_fold_1_eval/assets\n",
      "9/9 [==============================] - 2s 13ms/step\n",
      "5/5 [==============================] - 2s 12ms/step\n",
      "INFO:tensorflow:Assets written to: /home/as/my_repositories/yar_digital_breakthrough_2022/checkpoints/keras/baseline/baseline_fold_2_eval/assets\n",
      "9/9 [==============================] - 2s 22ms/step\n",
      "5/5 [==============================] - 2s 23ms/step\n",
      "[0.6645658721843897, 0.6532962447844228, 0.5735896970796299, 0.6003826530612245, 0.7106259132392747]\n",
      "0.6404920760697883 0.04847049337603022\n"
     ]
    },
    {
     "data": {
      "application/vnd.jupyter.widget-view+json": {
       "model_id": "280bbcf103d545429ef151873cb52761",
       "version_major": 2,
       "version_minor": 0
      },
      "text/plain": [
       "  0%|          | 0/3 [00:00<?, ?it/s]"
      ]
     },
     "metadata": {},
     "output_type": "display_data"
    },
    {
     "name": "stdout",
     "output_type": "stream",
     "text": [
      "INFO:tensorflow:Assets written to: /home/as/my_repositories/yar_digital_breakthrough_2022/checkpoints/keras/baseline/baseline_fold_0_eval/assets\n",
      "9/9 [==============================] - 3s 32ms/step\n",
      "5/5 [==============================] - 3s 31ms/step\n",
      "INFO:tensorflow:Assets written to: /home/as/my_repositories/yar_digital_breakthrough_2022/checkpoints/keras/baseline/baseline_fold_1_eval/assets\n",
      "9/9 [==============================] - 3s 21ms/step\n",
      "5/5 [==============================] - 3s 24ms/step\n",
      "INFO:tensorflow:Assets written to: /home/as/my_repositories/yar_digital_breakthrough_2022/checkpoints/keras/baseline/baseline_fold_2_eval/assets\n",
      "9/9 [==============================] - 3s 31ms/step\n",
      "5/5 [==============================] - 3s 28ms/step\n",
      "[0.6188403878611377, 0.6453477051460361, 0.5464302765433913, 0.579719387755102, 0.6978326763870751]\n",
      "0.6176340867385485 0.05236185744329606\n"
     ]
    },
    {
     "data": {
      "application/vnd.jupyter.widget-view+json": {
       "model_id": "5e849a57115f4025877eadcc0f54f56b",
       "version_major": 2,
       "version_minor": 0
      },
      "text/plain": [
       "  0%|          | 0/3 [00:00<?, ?it/s]"
      ]
     },
     "metadata": {},
     "output_type": "display_data"
    },
    {
     "name": "stdout",
     "output_type": "stream",
     "text": [
      "INFO:tensorflow:Assets written to: /home/as/my_repositories/yar_digital_breakthrough_2022/checkpoints/keras/baseline/baseline_fold_0_eval/assets\n",
      "9/9 [==============================] - 3s 25ms/step\n",
      "5/5 [==============================] - 2s 30ms/step\n",
      "INFO:tensorflow:Assets written to: /home/as/my_repositories/yar_digital_breakthrough_2022/checkpoints/keras/baseline/baseline_fold_1_eval/assets\n",
      "9/9 [==============================] - 3s 30ms/step\n",
      "5/5 [==============================] - 3s 21ms/step\n",
      "INFO:tensorflow:Assets written to: /home/as/my_repositories/yar_digital_breakthrough_2022/checkpoints/keras/baseline/baseline_fold_2_eval/assets\n",
      "9/9 [==============================] - 3s 24ms/step\n",
      "5/5 [==============================] - 3s 29ms/step\n",
      "[0.6687765111346766, 0.65983286908078, 0.586917348533603, 0.640850209815727, 0.7166110283875307]\n",
      "0.6545975933904634 0.04205644311903179\n"
     ]
    },
    {
     "data": {
      "application/vnd.jupyter.widget-view+json": {
       "model_id": "90b3ccb23abf414fbf6e6ced2276f8dd",
       "version_major": 2,
       "version_minor": 0
      },
      "text/plain": [
       "  0%|          | 0/3 [00:00<?, ?it/s]"
      ]
     },
     "metadata": {},
     "output_type": "display_data"
    },
    {
     "name": "stdout",
     "output_type": "stream",
     "text": [
      "INFO:tensorflow:Assets written to: /home/as/my_repositories/yar_digital_breakthrough_2022/checkpoints/keras/baseline/baseline_fold_0_eval/assets\n",
      "9/9 [==============================] - 9s 77ms/step\n",
      "5/5 [==============================] - 6s 36ms/step\n",
      "INFO:tensorflow:Assets written to: /home/as/my_repositories/yar_digital_breakthrough_2022/checkpoints/keras/baseline/baseline_fold_1_eval/assets\n",
      "9/9 [==============================] - 9s 102ms/step\n",
      "5/5 [==============================] - 8s 109ms/step\n",
      "INFO:tensorflow:Assets written to: /home/as/my_repositories/yar_digital_breakthrough_2022/checkpoints/keras/baseline/baseline_fold_2_eval/assets\n",
      "9/9 [==============================] - 2s 13ms/step\n",
      "5/5 [==============================] - 2s 14ms/step\n",
      "[0.6691266505609426, 0.6660778859527121, 0.5624523852711772, 0.6360969387755102, 0.7032240286580325]\n",
      "0.6473955778436749 0.04749966165617686\n"
     ]
    },
    {
     "data": {
      "application/vnd.jupyter.widget-view+json": {
       "model_id": "d02df71c8afd4c21889334b09acec94c",
       "version_major": 2,
       "version_minor": 0
      },
      "text/plain": [
       "  0%|          | 0/3 [00:00<?, ?it/s]"
      ]
     },
     "metadata": {},
     "output_type": "display_data"
    },
    {
     "name": "stdout",
     "output_type": "stream",
     "text": [
      "INFO:tensorflow:Assets written to: /home/as/my_repositories/yar_digital_breakthrough_2022/checkpoints/keras/baseline/baseline_fold_0_eval/assets\n",
      "9/9 [==============================] - 2s 13ms/step\n",
      "5/5 [==============================] - 2s 13ms/step\n",
      "INFO:tensorflow:Assets written to: /home/as/my_repositories/yar_digital_breakthrough_2022/checkpoints/keras/baseline/baseline_fold_1_eval/assets\n",
      "9/9 [==============================] - 2s 16ms/step\n",
      "5/5 [==============================] - 2s 16ms/step\n",
      "INFO:tensorflow:Assets written to: /home/as/my_repositories/yar_digital_breakthrough_2022/checkpoints/keras/baseline/baseline_fold_2_eval/assets\n",
      "9/9 [==============================] - 2s 15ms/step\n",
      "5/5 [==============================] - 2s 15ms/step\n",
      "[0.6194658006362672, 0.627083419639035, 0.5332388840453357, 0.6175049730036942, 0.7285172198472549]\n",
      "0.6251620594343175 0.06201117531463859\n",
      "[0.6247999126891735, 0.6458703057748404, 0.5414336178981455, 0.5824571703047446, 0.7182178191653378]\n",
      "0.6225557651664484 0.05981393259847378\n",
      "TEST METRICS\n",
      "defaultdict(<class 'list'>, {'weird_score': 0.6225557651664484, 'oof_auc': 0.6730687152102194, 'oof_logloss': 1.0711944862654073})\n"
     ]
    }
   ],
   "source": [
    "weird_scores = []\n",
    "\n",
    "cv = MultilabelStratifiedKFold(n_splits=N_SPLITS, random_state=RANDOM_STATE, shuffle=True)\n",
    "\n",
    "pred_int = pd.DataFrame(index=Y_train.index, columns=Y_train.columns, dtype=np.int32)\n",
    "pred_proba = pd.DataFrame(index=Y_train.index, columns=Y_train.columns, dtype=np.float32)\n",
    "best_iters_global = []\n",
    "for train_idx, val_idx in tqdm(cv.split(X_train, Y_train), total=N_SPLITS):\n",
    "\n",
    "    pred_template = Y_train.iloc[val_idx].copy()\n",
    "    pred_template.iloc[:, :] = 0\n",
    "    \n",
    "    prediction, pred_proba_oof, pred_proba_test, best_iters = get_prediction(\n",
    "        train_data=X_train.iloc[train_idx],\n",
    "        train_labels=Y_train.iloc[train_idx],\n",
    "        test_data=X_train.iloc[val_idx],\n",
    "        pred_template=pred_template,\n",
    "        process_input=get_keras_input,\n",
    "        save_model=save_keras_model,\n",
    "        fit_model=fit_keras_model,\n",
    "        predict=predict_with_keras_model,\n",
    "        n_splits=3,\n",
    "        random_state=RANDOM_STATE,\n",
    "        experiment_name=EXPERIMENT_NAME,\n",
    "        experiment_family_name=EXPERIMENT_FAMILY_NAME,\n",
    "        suffix='eval',\n",
    "        rename_cols=False,\n",
    "        )\n",
    "    best_iters_global.extend(best_iters)\n",
    "    \n",
    "    pred_int.iloc[val_idx] = prediction\n",
    "    pred_proba.iloc[val_idx] = pred_proba_test\n",
    "\n",
    "metrics = evaluate(\n",
    "    test_labels=Y_train,\n",
    "    prediction=pred_int.astype(np.int32), \n",
    "    pred_proba_test=pred_proba\n",
    "    )\n"
   ]
  },
  {
   "cell_type": "code",
   "execution_count": 56,
   "metadata": {},
   "outputs": [
    {
     "name": "stdout",
     "output_type": "stream",
     "text": [
      "OVERALL METRICS\n",
      "defaultdict(<class 'list'>, {'weird_score': 0.6225557651664484, 'oof_auc': 0.6730687152102194, 'oof_logloss': 1.0711944862654073})\n",
      "[26, 27, 25, 35, 29, 26, 34, 26, 31, 29, 23, 28, 28, 36, 24, 25, 34, 30, 25, 28, 32]\n"
     ]
    }
   ],
   "source": [
    "print('OVERALL METRICS')\n",
    "print(metrics)\n",
    "print(best_iters_global)"
   ]
  },
  {
   "cell_type": "code",
   "execution_count": 57,
   "metadata": {},
   "outputs": [],
   "source": [
    "N_ITERS = int(np.mean(best_iters_global))"
   ]
  },
  {
   "cell_type": "code",
   "execution_count": 58,
   "metadata": {},
   "outputs": [],
   "source": [
    "# [0.632011421731218, 0.6490860706862861, 0.661385903220677, 0.6271449441761077, 0.6818099910552275]\n",
    "# 0.6502876661739032 0.01993929966464236"
   ]
  },
  {
   "cell_type": "code",
   "execution_count": 59,
   "metadata": {},
   "outputs": [
    {
     "data": {
      "application/vnd.jupyter.widget-view+json": {
       "model_id": "0e071d5a175a4b50ba0a7fcbb555a45d",
       "version_major": 2,
       "version_minor": 0
      },
      "text/plain": [
       "  0%|          | 0/7 [00:00<?, ?it/s]"
      ]
     },
     "metadata": {},
     "output_type": "display_data"
    },
    {
     "name": "stdout",
     "output_type": "stream",
     "text": [
      "INFO:tensorflow:Assets written to: /home/as/my_repositories/yar_digital_breakthrough_2022/checkpoints/keras/baseline/assets\n",
      "5/5 [==============================] - 2s 17ms/step\n",
      "20/20 [==============================] - 2s 10ms/step\n",
      "INFO:tensorflow:Assets written to: /home/as/my_repositories/yar_digital_breakthrough_2022/checkpoints/keras/baseline/assets\n",
      "5/5 [==============================] - 2s 17ms/step\n",
      "20/20 [==============================] - 2s 11ms/step\n",
      "INFO:tensorflow:Assets written to: /home/as/my_repositories/yar_digital_breakthrough_2022/checkpoints/keras/baseline/assets\n",
      "5/5 [==============================] - 2s 13ms/step\n",
      "20/20 [==============================] - 2s 14ms/step\n",
      "INFO:tensorflow:Assets written to: /home/as/my_repositories/yar_digital_breakthrough_2022/checkpoints/keras/baseline/assets\n",
      "5/5 [==============================] - 2s 13ms/step\n",
      "20/20 [==============================] - 2s 13ms/step\n",
      "INFO:tensorflow:Assets written to: /home/as/my_repositories/yar_digital_breakthrough_2022/checkpoints/keras/baseline/assets\n",
      "5/5 [==============================] - 2s 16ms/step\n",
      "20/20 [==============================] - 2s 17ms/step\n",
      "INFO:tensorflow:Assets written to: /home/as/my_repositories/yar_digital_breakthrough_2022/checkpoints/keras/baseline/assets\n",
      "5/5 [==============================] - 2s 15ms/step\n",
      "20/20 [==============================] - 2s 13ms/step\n",
      "INFO:tensorflow:Assets written to: /home/as/my_repositories/yar_digital_breakthrough_2022/checkpoints/keras/baseline/assets\n",
      "5/5 [==============================] - 1s 10ms/step\n",
      "20/20 [==============================] - 1s 10ms/step\n",
      "[0.6590815386107878, 0.6668502539624258, 0.5762571252709611, 0.6077547099322197, 0.704604121331724]\n",
      "0.6429095498216236 0.04542976811761326\n"
     ]
    }
   ],
   "source": [
    "sample_submission = pd.read_csv(cfg.SAMPLE_SUBMISSION_PATH).set_index('ID')\n",
    "\n",
    "prediction, pred_proba_oof, pred_proba_test, _ = get_prediction(\n",
    "    train_data=X_train,\n",
    "    train_labels=Y_train,\n",
    "    test_data=test,\n",
    "    pred_template=sample_submission,\n",
    "    process_input=get_keras_input,\n",
    "    save_model=save_keras_model,\n",
    "    fit_model=partial(fit_keras_model, iterations=N_ITERS),\n",
    "    predict=predict_with_keras_model,\n",
    "    n_splits=N_SPLITS,\n",
    "    random_state=RANDOM_STATE,\n",
    "    experiment_name=EXPERIMENT_NAME,\n",
    "    experiment_family_name=EXPERIMENT_FAMILY_NAME,\n",
    "    suffix=''\n",
    "    )"
   ]
  },
  {
   "cell_type": "code",
   "execution_count": 60,
   "metadata": {},
   "outputs": [],
   "source": [
    "save_submission(prediction, EXPERIMENT_FAMILY_NAME, EXPERIMENT_NAME)\n",
    "save_pred_proba_oof(pred_proba_oof, EXPERIMENT_FAMILY_NAME, EXPERIMENT_NAME)\n",
    "save_pred_proba_test(pred_proba_test, EXPERIMENT_FAMILY_NAME, EXPERIMENT_NAME)"
   ]
  }
 ],
 "metadata": {
  "kernelspec": {
   "display_name": "Python 3.9.12 ('tf')",
   "language": "python",
   "name": "python3"
  },
  "language_info": {
   "codemirror_mode": {
    "name": "ipython",
    "version": 3
   },
   "file_extension": ".py",
   "mimetype": "text/x-python",
   "name": "python",
   "nbconvert_exporter": "python",
   "pygments_lexer": "ipython3",
   "version": "3.9.12"
  },
  "orig_nbformat": 4,
  "vscode": {
   "interpreter": {
    "hash": "d5356ef1c2ac2ef25d35a0579f082f1d273c4bada2fe955fa1b70f42402fff98"
   }
  }
 },
 "nbformat": 4,
 "nbformat_minor": 2
}
