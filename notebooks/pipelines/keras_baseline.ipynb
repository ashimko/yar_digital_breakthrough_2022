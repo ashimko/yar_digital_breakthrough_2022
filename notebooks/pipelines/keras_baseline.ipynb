{
 "cells": [
  {
   "cell_type": "markdown",
   "metadata": {},
   "source": [
    "# IMPORTS"
   ]
  },
  {
   "cell_type": "code",
   "execution_count": 1,
   "metadata": {},
   "outputs": [],
   "source": [
    "import sys\n",
    "sys.path.insert(0, \"../..\")\n",
    "import config as cfg\n",
    "import gc\n",
    "import os\n",
    "from typing import Optional"
   ]
  },
  {
   "cell_type": "code",
   "execution_count": 2,
   "metadata": {},
   "outputs": [],
   "source": [
    "import pandas as pd\n",
    "import numpy as np\n",
    "import re\n",
    "from tqdm.notebook import tqdm\n",
    "from metrics import compute_single_col_score, get_tresholds, compute_weird_pred_proba_score\n",
    "from sklearn.metrics import recall_score\n",
    "from helper import make_prediction, check_path\n",
    "from sklearn.model_selection import StratifiedKFold, train_test_split\n",
    "from iterstrat.ml_stratifiers import MultilabelStratifiedKFold"
   ]
  },
  {
   "cell_type": "code",
   "execution_count": 3,
   "metadata": {},
   "outputs": [],
   "source": [
    "import tensorflow as tf\n",
    "from tensorflow.keras import layers"
   ]
  },
  {
   "cell_type": "code",
   "execution_count": 4,
   "metadata": {},
   "outputs": [
    {
     "name": "stderr",
     "output_type": "stream",
     "text": [
      "2022-07-06 06:42:58.803124: I tensorflow/stream_executor/cuda/cuda_gpu_executor.cc:975] successful NUMA node read from SysFS had negative value (-1), but there must be at least one NUMA node, so returning NUMA node zero\n",
      "2022-07-06 06:42:58.836635: I tensorflow/stream_executor/cuda/cuda_gpu_executor.cc:975] successful NUMA node read from SysFS had negative value (-1), but there must be at least one NUMA node, so returning NUMA node zero\n",
      "2022-07-06 06:42:58.836950: I tensorflow/stream_executor/cuda/cuda_gpu_executor.cc:975] successful NUMA node read from SysFS had negative value (-1), but there must be at least one NUMA node, so returning NUMA node zero\n"
     ]
    }
   ],
   "source": [
    "gpu_devices = tf.config.experimental.list_physical_devices('GPU')\n",
    "for device in gpu_devices:\n",
    "    tf.config.experimental.set_memory_growth(device, True)"
   ]
  },
  {
   "cell_type": "markdown",
   "metadata": {},
   "source": [
    "# MODEL TRAINING"
   ]
  },
  {
   "cell_type": "code",
   "execution_count": 5,
   "metadata": {},
   "outputs": [],
   "source": [
    "train = pd.read_pickle(cfg.PREPARED_TRAIN_DATA_PATH)\n",
    "test = pd.read_pickle(cfg.PREPARED_TEST_DATA_PATH)"
   ]
  },
  {
   "cell_type": "code",
   "execution_count": 6,
   "metadata": {},
   "outputs": [],
   "source": [
    "train[cfg.CAT_UNORDERED_COLS] = train[cfg.CAT_UNORDERED_COLS].astype('string')\n",
    "test[cfg.CAT_UNORDERED_COLS] = test[cfg.CAT_UNORDERED_COLS].astype('string')"
   ]
  },
  {
   "cell_type": "code",
   "execution_count": 7,
   "metadata": {},
   "outputs": [],
   "source": [
    "train[cfg.REAL_COLS] = train[cfg.REAL_COLS].fillna(-1)\n",
    "test[cfg.REAL_COLS] = test[cfg.REAL_COLS].fillna(-1)"
   ]
  },
  {
   "cell_type": "code",
   "execution_count": 8,
   "metadata": {},
   "outputs": [],
   "source": [
    "X_train, Y_train = train.drop(cfg.TARGETS, axis=1), train[cfg.TARGETS]"
   ]
  },
  {
   "cell_type": "code",
   "execution_count": 9,
   "metadata": {},
   "outputs": [],
   "source": [
    "pred_proba_oof = pd.DataFrame(data=np.zeros(shape=(len(train), len(cfg.TARGETS))), index=train.index, columns=cfg.TARGETS)\n",
    "pred_proba_test = pd.DataFrame(data=np.zeros(shape=(len(test), len(cfg.TARGETS))), index=test.index, columns=cfg.TARGETS)\n",
    "metrics = {}"
   ]
  },
  {
   "cell_type": "code",
   "execution_count": 10,
   "metadata": {},
   "outputs": [],
   "source": [
    "EXPERIMENT_FAMILY_NAME = 'keras'\n",
    "EXPERIMENT_NAME = 'baseline'\n",
    "RANDOM_STATE = 77\n",
    "N_SPLITS = 5\n",
    "N_RANDOM_SEEDS = 1"
   ]
  },
  {
   "cell_type": "code",
   "execution_count": 11,
   "metadata": {},
   "outputs": [],
   "source": [
    "CAT_COLS = cfg.CAT_UNORDERED_COLS"
   ]
  },
  {
   "cell_type": "code",
   "execution_count": 12,
   "metadata": {},
   "outputs": [],
   "source": [
    "def df_to_dataset(data: pd.DataFrame, labels: Optional[pd.DataFrame]=None, shuffle: bool=True, batch_size: int=32):\n",
    "  df = data.copy()\n",
    "  df = {key: value.values[:, tf.newaxis] for key, value in data.items()}\n",
    "  \n",
    "  if labels is None:\n",
    "    ds = tf.data.Dataset.from_tensor_slices((dict(df),))\n",
    "  else:\n",
    "    ds = tf.data.Dataset.from_tensor_slices((dict(df), labels))\n",
    "  if shuffle:\n",
    "    ds = ds.shuffle(buffer_size=len(data))\n",
    "  ds = ds.batch(batch_size)\n",
    "  ds = ds.prefetch(batch_size)\n",
    "  return ds"
   ]
  },
  {
   "cell_type": "code",
   "execution_count": 13,
   "metadata": {},
   "outputs": [],
   "source": [
    "def get_normalization_layer(name, dataset):\n",
    "  # Create a Normalization layer for the feature.\n",
    "  normalizer = layers.Normalization(axis=None)\n",
    "\n",
    "  # Prepare a Dataset that only yields the feature.\n",
    "  feature_ds = dataset.map(lambda x, y: x[name])\n",
    "\n",
    "  # Learn the statistics of the data.\n",
    "  normalizer.adapt(feature_ds)\n",
    "\n",
    "  return normalizer"
   ]
  },
  {
   "cell_type": "code",
   "execution_count": 14,
   "metadata": {},
   "outputs": [],
   "source": [
    "def get_category_encoding_layer(name, dataset, dtype, max_tokens=None):\n",
    "  # Create a layer that turns strings into integer indices.\n",
    "  if dtype == 'string':\n",
    "    index = layers.StringLookup(max_tokens=max_tokens)\n",
    "  # Otherwise, create a layer that turns integer values into integer indices.\n",
    "  else:\n",
    "    index = layers.IntegerLookup(max_tokens=max_tokens)\n",
    "\n",
    "  # Prepare a `tf.data.Dataset` that only yields the feature.\n",
    "  feature_ds = dataset.map(lambda x, y: x[name])\n",
    "\n",
    "  # Learn the set of possible values and assign them a fixed integer index.\n",
    "  index.adapt(feature_ds)\n",
    "\n",
    "  # Encode the integer indices.\n",
    "  encoder = layers.CategoryEncoding(num_tokens=index.vocabulary_size())\n",
    "\n",
    "  # Apply multi-hot encoding to the indices. The lambda function captures the\n",
    "  # layer, so you can use them, or include them in the Keras Functional model later.\n",
    "  return lambda feature: encoder(index(feature))\n"
   ]
  },
  {
   "cell_type": "code",
   "execution_count": 15,
   "metadata": {},
   "outputs": [],
   "source": [
    "BATCH_SIZE = 16"
   ]
  },
  {
   "cell_type": "code",
   "execution_count": 16,
   "metadata": {},
   "outputs": [
    {
     "name": "stderr",
     "output_type": "stream",
     "text": [
      "2022-07-06 06:43:02.432260: I tensorflow/core/platform/cpu_feature_guard.cc:193] This TensorFlow binary is optimized with oneAPI Deep Neural Network Library (oneDNN) to use the following CPU instructions in performance-critical operations:  AVX2 FMA\n",
      "To enable them in other operations, rebuild TensorFlow with the appropriate compiler flags.\n",
      "2022-07-06 06:43:02.432867: I tensorflow/stream_executor/cuda/cuda_gpu_executor.cc:975] successful NUMA node read from SysFS had negative value (-1), but there must be at least one NUMA node, so returning NUMA node zero\n",
      "2022-07-06 06:43:02.433234: I tensorflow/stream_executor/cuda/cuda_gpu_executor.cc:975] successful NUMA node read from SysFS had negative value (-1), but there must be at least one NUMA node, so returning NUMA node zero\n",
      "2022-07-06 06:43:02.433484: I tensorflow/stream_executor/cuda/cuda_gpu_executor.cc:975] successful NUMA node read from SysFS had negative value (-1), but there must be at least one NUMA node, so returning NUMA node zero\n",
      "2022-07-06 06:43:02.962030: I tensorflow/stream_executor/cuda/cuda_gpu_executor.cc:975] successful NUMA node read from SysFS had negative value (-1), but there must be at least one NUMA node, so returning NUMA node zero\n",
      "2022-07-06 06:43:02.962265: I tensorflow/stream_executor/cuda/cuda_gpu_executor.cc:975] successful NUMA node read from SysFS had negative value (-1), but there must be at least one NUMA node, so returning NUMA node zero\n",
      "2022-07-06 06:43:02.962432: I tensorflow/stream_executor/cuda/cuda_gpu_executor.cc:975] successful NUMA node read from SysFS had negative value (-1), but there must be at least one NUMA node, so returning NUMA node zero\n",
      "2022-07-06 06:43:02.962544: I tensorflow/core/common_runtime/gpu/gpu_device.cc:1532] Created device /job:localhost/replica:0/task:0/device:GPU:0 with 5379 MB memory:  -> device: 0, name: NVIDIA GeForce GTX 1060 with Max-Q Design, pci bus id: 0000:01:00.0, compute capability: 6.1\n"
     ]
    },
    {
     "data": {
      "application/vnd.jupyter.widget-view+json": {
       "model_id": "3c04f706cf84451c82a6c2d525bbd699",
       "version_major": 2,
       "version_minor": 0
      },
      "text/plain": [
       "  0%|          | 0/5 [00:00<?, ?it/s]"
      ]
     },
     "metadata": {},
     "output_type": "display_data"
    },
    {
     "data": {
      "application/vnd.jupyter.widget-view+json": {
       "model_id": "3887cbd7160140d98b0fad7900ac5664",
       "version_major": 2,
       "version_minor": 0
      },
      "text/plain": [
       "  0%|          | 0/1 [00:00<?, ?it/s]"
      ]
     },
     "metadata": {},
     "output_type": "display_data"
    },
    {
     "name": "stdout",
     "output_type": "stream",
     "text": [
      "Epoch 1/100\n",
      "48/48 [==============================] - 5s 43ms/step - loss: 0.4954 - val_loss: 0.3644\n",
      "Epoch 2/100\n",
      "48/48 [==============================] - 1s 16ms/step - loss: 0.4125 - val_loss: 0.3534\n",
      "Epoch 3/100\n",
      "48/48 [==============================] - 1s 16ms/step - loss: 0.3821 - val_loss: 0.3474\n",
      "Epoch 4/100\n",
      "48/48 [==============================] - 1s 15ms/step - loss: 0.3667 - val_loss: 0.3447\n",
      "Epoch 5/100\n",
      "48/48 [==============================] - 1s 15ms/step - loss: 0.3532 - val_loss: 0.3403\n",
      "Epoch 6/100\n",
      "48/48 [==============================] - 1s 15ms/step - loss: 0.3375 - val_loss: 0.3363\n",
      "Epoch 7/100\n",
      "48/48 [==============================] - 1s 15ms/step - loss: 0.3441 - val_loss: 0.3347\n",
      "Epoch 8/100\n",
      "48/48 [==============================] - 1s 14ms/step - loss: 0.3460 - val_loss: 0.3364\n",
      "Epoch 9/100\n",
      "48/48 [==============================] - 1s 15ms/step - loss: 0.3364 - val_loss: 0.3372\n",
      "Epoch 10/100\n",
      "48/48 [==============================] - 1s 14ms/step - loss: 0.3337 - val_loss: 0.3384\n",
      "Epoch 11/100\n",
      "48/48 [==============================] - 1s 14ms/step - loss: 0.3266 - val_loss: 0.3357\n",
      "Epoch 12/100\n",
      "48/48 [==============================] - 1s 14ms/step - loss: 0.3331 - val_loss: 0.3374\n",
      "Epoch 13/100\n",
      "48/48 [==============================] - 1s 14ms/step - loss: 0.3246 - val_loss: 0.3393\n",
      "Epoch 14/100\n",
      "48/48 [==============================] - 1s 14ms/step - loss: 0.3250 - val_loss: 0.3392\n",
      "Epoch 15/100\n",
      "48/48 [==============================] - 1s 14ms/step - loss: 0.3145 - val_loss: 0.3389\n",
      "Epoch 16/100\n",
      "48/48 [==============================] - 1s 14ms/step - loss: 0.3238 - val_loss: 0.3430\n",
      "Epoch 17/100\n",
      "48/48 [==============================] - 1s 15ms/step - loss: 0.3171 - val_loss: 0.3429\n"
     ]
    },
    {
     "name": "stderr",
     "output_type": "stream",
     "text": [
      "WARNING:absl:Function `_wrapped_model` contains input name(s) HIV_AIDS with unsupported characters which will be renamed to hiv_aids in the SavedModel.\n"
     ]
    },
    {
     "name": "stdout",
     "output_type": "stream",
     "text": [
      "INFO:tensorflow:Assets written to: /home/as/my_repositories/yar_digital_breakthrough_2022/checkpoints/keras/baseline/baseline_fold_0_rs_0/assets\n"
     ]
    },
    {
     "name": "stderr",
     "output_type": "stream",
     "text": [
      "INFO:tensorflow:Assets written to: /home/as/my_repositories/yar_digital_breakthrough_2022/checkpoints/keras/baseline/baseline_fold_0_rs_0/assets\n"
     ]
    },
    {
     "name": "stdout",
     "output_type": "stream",
     "text": [
      "12/12 [==============================] - 1s 11ms/step\n",
      "40/40 [==============================] - 1s 10ms/step\n"
     ]
    },
    {
     "data": {
      "application/vnd.jupyter.widget-view+json": {
       "model_id": "f87d9140c22f4c5ca8675b9ae4b7b2cc",
       "version_major": 2,
       "version_minor": 0
      },
      "text/plain": [
       "  0%|          | 0/1 [00:00<?, ?it/s]"
      ]
     },
     "metadata": {},
     "output_type": "display_data"
    },
    {
     "name": "stdout",
     "output_type": "stream",
     "text": [
      "Epoch 1/100\n",
      "48/48 [==============================] - 4s 38ms/step - loss: 0.4839 - val_loss: 0.3648\n",
      "Epoch 2/100\n",
      "48/48 [==============================] - 1s 14ms/step - loss: 0.4009 - val_loss: 0.3533\n",
      "Epoch 3/100\n",
      "48/48 [==============================] - 1s 15ms/step - loss: 0.3836 - val_loss: 0.3414\n",
      "Epoch 4/100\n",
      "48/48 [==============================] - 1s 15ms/step - loss: 0.3697 - val_loss: 0.3361\n",
      "Epoch 5/100\n",
      "48/48 [==============================] - 1s 14ms/step - loss: 0.3527 - val_loss: 0.3303\n",
      "Epoch 6/100\n",
      "48/48 [==============================] - 1s 14ms/step - loss: 0.3590 - val_loss: 0.3315\n",
      "Epoch 7/100\n",
      "48/48 [==============================] - 1s 14ms/step - loss: 0.3529 - val_loss: 0.3269\n",
      "Epoch 8/100\n",
      "48/48 [==============================] - 1s 15ms/step - loss: 0.3438 - val_loss: 0.3256\n",
      "Epoch 9/100\n",
      "48/48 [==============================] - 1s 14ms/step - loss: 0.3354 - val_loss: 0.3252\n",
      "Epoch 10/100\n",
      "48/48 [==============================] - 1s 14ms/step - loss: 0.3367 - val_loss: 0.3266\n",
      "Epoch 11/100\n",
      "48/48 [==============================] - 1s 16ms/step - loss: 0.3380 - val_loss: 0.3238\n",
      "Epoch 12/100\n",
      "48/48 [==============================] - 1s 14ms/step - loss: 0.3389 - val_loss: 0.3235\n",
      "Epoch 13/100\n",
      "48/48 [==============================] - 1s 14ms/step - loss: 0.3299 - val_loss: 0.3254\n",
      "Epoch 14/100\n",
      "48/48 [==============================] - 1s 14ms/step - loss: 0.3253 - val_loss: 0.3256\n",
      "Epoch 15/100\n",
      "48/48 [==============================] - 1s 14ms/step - loss: 0.3248 - val_loss: 0.3292\n",
      "Epoch 16/100\n",
      "48/48 [==============================] - 1s 14ms/step - loss: 0.3235 - val_loss: 0.3279\n",
      "Epoch 17/100\n",
      "48/48 [==============================] - 1s 14ms/step - loss: 0.3194 - val_loss: 0.3281\n",
      "Epoch 18/100\n",
      "48/48 [==============================] - 1s 14ms/step - loss: 0.3180 - val_loss: 0.3289\n",
      "Epoch 19/100\n",
      "48/48 [==============================] - 1s 14ms/step - loss: 0.3149 - val_loss: 0.3317\n",
      "Epoch 20/100\n",
      "48/48 [==============================] - 1s 14ms/step - loss: 0.3120 - val_loss: 0.3293\n",
      "Epoch 21/100\n",
      "48/48 [==============================] - 1s 14ms/step - loss: 0.3172 - val_loss: 0.3318\n",
      "Epoch 22/100\n",
      "48/48 [==============================] - 1s 15ms/step - loss: 0.3104 - val_loss: 0.3311\n"
     ]
    },
    {
     "name": "stderr",
     "output_type": "stream",
     "text": [
      "WARNING:absl:Function `_wrapped_model` contains input name(s) HIV_AIDS with unsupported characters which will be renamed to hiv_aids in the SavedModel.\n"
     ]
    },
    {
     "name": "stdout",
     "output_type": "stream",
     "text": [
      "INFO:tensorflow:Assets written to: /home/as/my_repositories/yar_digital_breakthrough_2022/checkpoints/keras/baseline/baseline_fold_1_rs_0/assets\n"
     ]
    },
    {
     "name": "stderr",
     "output_type": "stream",
     "text": [
      "INFO:tensorflow:Assets written to: /home/as/my_repositories/yar_digital_breakthrough_2022/checkpoints/keras/baseline/baseline_fold_1_rs_0/assets\n"
     ]
    },
    {
     "name": "stdout",
     "output_type": "stream",
     "text": [
      "12/12 [==============================] - 1s 11ms/step\n",
      "40/40 [==============================] - 1s 11ms/step\n"
     ]
    },
    {
     "data": {
      "application/vnd.jupyter.widget-view+json": {
       "model_id": "8eae4629c0e94db09237e0e23324fa23",
       "version_major": 2,
       "version_minor": 0
      },
      "text/plain": [
       "  0%|          | 0/1 [00:00<?, ?it/s]"
      ]
     },
     "metadata": {},
     "output_type": "display_data"
    },
    {
     "name": "stdout",
     "output_type": "stream",
     "text": [
      "Epoch 1/100\n",
      "48/48 [==============================] - 4s 39ms/step - loss: 0.4801 - val_loss: 0.3628\n",
      "Epoch 2/100\n",
      "48/48 [==============================] - 1s 15ms/step - loss: 0.4032 - val_loss: 0.3484\n",
      "Epoch 3/100\n",
      "48/48 [==============================] - 1s 14ms/step - loss: 0.3725 - val_loss: 0.3389\n",
      "Epoch 4/100\n",
      "48/48 [==============================] - 1s 14ms/step - loss: 0.3691 - val_loss: 0.3390\n",
      "Epoch 5/100\n",
      "48/48 [==============================] - 1s 14ms/step - loss: 0.3537 - val_loss: 0.3339\n",
      "Epoch 6/100\n",
      "48/48 [==============================] - 1s 15ms/step - loss: 0.3533 - val_loss: 0.3303\n",
      "Epoch 7/100\n",
      "48/48 [==============================] - 1s 14ms/step - loss: 0.3429 - val_loss: 0.3295\n",
      "Epoch 8/100\n",
      "48/48 [==============================] - 1s 15ms/step - loss: 0.3514 - val_loss: 0.3304\n",
      "Epoch 9/100\n",
      "48/48 [==============================] - 1s 15ms/step - loss: 0.3351 - val_loss: 0.3292\n",
      "Epoch 10/100\n",
      "48/48 [==============================] - 1s 14ms/step - loss: 0.3363 - val_loss: 0.3313\n",
      "Epoch 11/100\n",
      "48/48 [==============================] - 1s 15ms/step - loss: 0.3326 - val_loss: 0.3286\n",
      "Epoch 12/100\n",
      "48/48 [==============================] - 1s 14ms/step - loss: 0.3392 - val_loss: 0.3295\n",
      "Epoch 13/100\n",
      "48/48 [==============================] - 1s 15ms/step - loss: 0.3344 - val_loss: 0.3282\n",
      "Epoch 14/100\n",
      "48/48 [==============================] - 1s 14ms/step - loss: 0.3248 - val_loss: 0.3293\n",
      "Epoch 15/100\n",
      "48/48 [==============================] - 1s 14ms/step - loss: 0.3172 - val_loss: 0.3300\n",
      "Epoch 16/100\n",
      "48/48 [==============================] - 1s 14ms/step - loss: 0.3168 - val_loss: 0.3318\n",
      "Epoch 17/100\n",
      "48/48 [==============================] - 1s 14ms/step - loss: 0.3177 - val_loss: 0.3329\n",
      "Epoch 18/100\n",
      "48/48 [==============================] - 1s 14ms/step - loss: 0.3174 - val_loss: 0.3340\n",
      "Epoch 19/100\n",
      "48/48 [==============================] - 1s 14ms/step - loss: 0.3126 - val_loss: 0.3380\n",
      "Epoch 20/100\n",
      "48/48 [==============================] - 1s 16ms/step - loss: 0.3164 - val_loss: 0.3383\n",
      "Epoch 21/100\n",
      "48/48 [==============================] - 1s 14ms/step - loss: 0.3094 - val_loss: 0.3418\n",
      "Epoch 22/100\n",
      "48/48 [==============================] - 1s 14ms/step - loss: 0.3051 - val_loss: 0.3398\n",
      "Epoch 23/100\n",
      "48/48 [==============================] - 1s 15ms/step - loss: 0.3021 - val_loss: 0.3429\n"
     ]
    },
    {
     "name": "stderr",
     "output_type": "stream",
     "text": [
      "WARNING:absl:Function `_wrapped_model` contains input name(s) HIV_AIDS with unsupported characters which will be renamed to hiv_aids in the SavedModel.\n"
     ]
    },
    {
     "name": "stdout",
     "output_type": "stream",
     "text": [
      "INFO:tensorflow:Assets written to: /home/as/my_repositories/yar_digital_breakthrough_2022/checkpoints/keras/baseline/baseline_fold_2_rs_0/assets\n"
     ]
    },
    {
     "name": "stderr",
     "output_type": "stream",
     "text": [
      "INFO:tensorflow:Assets written to: /home/as/my_repositories/yar_digital_breakthrough_2022/checkpoints/keras/baseline/baseline_fold_2_rs_0/assets\n"
     ]
    },
    {
     "name": "stdout",
     "output_type": "stream",
     "text": [
      "12/12 [==============================] - 1s 11ms/step\n",
      "40/40 [==============================] - 1s 10ms/step\n"
     ]
    },
    {
     "data": {
      "application/vnd.jupyter.widget-view+json": {
       "model_id": "973c20df9ac646a090378ee498501832",
       "version_major": 2,
       "version_minor": 0
      },
      "text/plain": [
       "  0%|          | 0/1 [00:00<?, ?it/s]"
      ]
     },
     "metadata": {},
     "output_type": "display_data"
    },
    {
     "name": "stdout",
     "output_type": "stream",
     "text": [
      "Epoch 1/100\n",
      "48/48 [==============================] - 4s 39ms/step - loss: 0.4715 - val_loss: 0.3694\n",
      "Epoch 2/100\n",
      "48/48 [==============================] - 1s 15ms/step - loss: 0.3944 - val_loss: 0.3573\n",
      "Epoch 3/100\n",
      "48/48 [==============================] - 1s 15ms/step - loss: 0.3728 - val_loss: 0.3505\n",
      "Epoch 4/100\n",
      "48/48 [==============================] - 1s 15ms/step - loss: 0.3690 - val_loss: 0.3486\n",
      "Epoch 5/100\n",
      "48/48 [==============================] - 1s 15ms/step - loss: 0.3651 - val_loss: 0.3467\n",
      "Epoch 6/100\n",
      "48/48 [==============================] - 1s 15ms/step - loss: 0.3465 - val_loss: 0.3475\n",
      "Epoch 7/100\n",
      "48/48 [==============================] - 1s 14ms/step - loss: 0.3450 - val_loss: 0.3497\n",
      "Epoch 8/100\n",
      "48/48 [==============================] - 1s 14ms/step - loss: 0.3396 - val_loss: 0.3488\n",
      "Epoch 9/100\n",
      "48/48 [==============================] - 1s 14ms/step - loss: 0.3356 - val_loss: 0.3482\n",
      "Epoch 10/100\n",
      "48/48 [==============================] - 1s 14ms/step - loss: 0.3318 - val_loss: 0.3488\n",
      "Epoch 11/100\n",
      "48/48 [==============================] - 1s 14ms/step - loss: 0.3320 - val_loss: 0.3499\n",
      "Epoch 12/100\n",
      "48/48 [==============================] - 1s 14ms/step - loss: 0.3295 - val_loss: 0.3486\n",
      "Epoch 13/100\n",
      "48/48 [==============================] - 1s 14ms/step - loss: 0.3266 - val_loss: 0.3483\n",
      "Epoch 14/100\n",
      "48/48 [==============================] - 1s 14ms/step - loss: 0.3263 - val_loss: 0.3486\n",
      "Epoch 15/100\n",
      "48/48 [==============================] - 1s 15ms/step - loss: 0.3204 - val_loss: 0.3519\n"
     ]
    },
    {
     "name": "stderr",
     "output_type": "stream",
     "text": [
      "WARNING:absl:Function `_wrapped_model` contains input name(s) HIV_AIDS with unsupported characters which will be renamed to hiv_aids in the SavedModel.\n"
     ]
    },
    {
     "name": "stdout",
     "output_type": "stream",
     "text": [
      "INFO:tensorflow:Assets written to: /home/as/my_repositories/yar_digital_breakthrough_2022/checkpoints/keras/baseline/baseline_fold_3_rs_0/assets\n"
     ]
    },
    {
     "name": "stderr",
     "output_type": "stream",
     "text": [
      "INFO:tensorflow:Assets written to: /home/as/my_repositories/yar_digital_breakthrough_2022/checkpoints/keras/baseline/baseline_fold_3_rs_0/assets\n"
     ]
    },
    {
     "name": "stdout",
     "output_type": "stream",
     "text": [
      "12/12 [==============================] - 1s 11ms/step\n",
      "40/40 [==============================] - 2s 11ms/step\n"
     ]
    },
    {
     "data": {
      "application/vnd.jupyter.widget-view+json": {
       "model_id": "ec2a02dc2ac04b7691496fd967694608",
       "version_major": 2,
       "version_minor": 0
      },
      "text/plain": [
       "  0%|          | 0/1 [00:00<?, ?it/s]"
      ]
     },
     "metadata": {},
     "output_type": "display_data"
    },
    {
     "name": "stdout",
     "output_type": "stream",
     "text": [
      "Epoch 1/100\n",
      "48/48 [==============================] - 4s 39ms/step - loss: 0.4951 - val_loss: 0.3619\n",
      "Epoch 2/100\n",
      "48/48 [==============================] - 1s 14ms/step - loss: 0.3992 - val_loss: 0.3490\n",
      "Epoch 3/100\n",
      "48/48 [==============================] - 1s 14ms/step - loss: 0.3797 - val_loss: 0.3411\n",
      "Epoch 4/100\n",
      "48/48 [==============================] - 1s 15ms/step - loss: 0.3745 - val_loss: 0.3388\n",
      "Epoch 5/100\n",
      "48/48 [==============================] - 1s 14ms/step - loss: 0.3690 - val_loss: 0.3321\n",
      "Epoch 6/100\n",
      "48/48 [==============================] - 1s 15ms/step - loss: 0.3548 - val_loss: 0.3314\n",
      "Epoch 7/100\n",
      "48/48 [==============================] - 1s 15ms/step - loss: 0.3485 - val_loss: 0.3299\n",
      "Epoch 8/100\n",
      "48/48 [==============================] - 1s 14ms/step - loss: 0.3487 - val_loss: 0.3321\n",
      "Epoch 9/100\n",
      "48/48 [==============================] - 1s 15ms/step - loss: 0.3391 - val_loss: 0.3312\n",
      "Epoch 10/100\n",
      "48/48 [==============================] - 1s 14ms/step - loss: 0.3370 - val_loss: 0.3319\n",
      "Epoch 11/100\n",
      "48/48 [==============================] - 1s 14ms/step - loss: 0.3346 - val_loss: 0.3373\n",
      "Epoch 12/100\n",
      "48/48 [==============================] - 1s 16ms/step - loss: 0.3305 - val_loss: 0.3367\n",
      "Epoch 13/100\n",
      "48/48 [==============================] - 1s 14ms/step - loss: 0.3276 - val_loss: 0.3345\n",
      "Epoch 14/100\n",
      "48/48 [==============================] - 1s 14ms/step - loss: 0.3234 - val_loss: 0.3355\n",
      "Epoch 15/100\n",
      "48/48 [==============================] - 1s 14ms/step - loss: 0.3263 - val_loss: 0.3410\n",
      "Epoch 16/100\n",
      "48/48 [==============================] - 1s 15ms/step - loss: 0.3215 - val_loss: 0.3380\n",
      "Epoch 17/100\n",
      "48/48 [==============================] - 1s 15ms/step - loss: 0.3209 - val_loss: 0.3383\n"
     ]
    },
    {
     "name": "stderr",
     "output_type": "stream",
     "text": [
      "WARNING:absl:Function `_wrapped_model` contains input name(s) HIV_AIDS with unsupported characters which will be renamed to hiv_aids in the SavedModel.\n"
     ]
    },
    {
     "name": "stdout",
     "output_type": "stream",
     "text": [
      "INFO:tensorflow:Assets written to: /home/as/my_repositories/yar_digital_breakthrough_2022/checkpoints/keras/baseline/baseline_fold_4_rs_0/assets\n"
     ]
    },
    {
     "name": "stderr",
     "output_type": "stream",
     "text": [
      "INFO:tensorflow:Assets written to: /home/as/my_repositories/yar_digital_breakthrough_2022/checkpoints/keras/baseline/baseline_fold_4_rs_0/assets\n"
     ]
    },
    {
     "name": "stdout",
     "output_type": "stream",
     "text": [
      "12/12 [==============================] - 1s 10ms/step\n",
      "40/40 [==============================] - 1s 10ms/step\n"
     ]
    }
   ],
   "source": [
    "from gc import callbacks\n",
    "from telnetlib import X3PAD\n",
    "\n",
    "\n",
    "cv = MultilabelStratifiedKFold(n_splits=N_SPLITS, random_state=RANDOM_STATE, shuffle=True)\n",
    "test_ds = df_to_dataset(test, shuffle=False, batch_size=BATCH_SIZE)\n",
    "\n",
    "\n",
    "fold = 0\n",
    "for train_idx, val_idx in tqdm(cv.split(X_train, Y_train), total=N_SPLITS):\n",
    "\n",
    "    train_ds = df_to_dataset(\n",
    "        data=X_train.iloc[train_idx], \n",
    "        labels=Y_train.iloc[train_idx],\n",
    "        batch_size=BATCH_SIZE)\n",
    "\n",
    "    val_ds = df_to_dataset(\n",
    "        data=X_train.iloc[val_idx],\n",
    "        labels=Y_train.iloc[val_idx],\n",
    "        shuffle=False, \n",
    "        batch_size=BATCH_SIZE)\n",
    "\n",
    "    \n",
    "    all_inputs = []\n",
    "    encoded_features = []\n",
    "\n",
    "    # Numerical features.\n",
    "    for header in cfg.REAL_COLS:\n",
    "        numeric_col = tf.keras.Input(shape=(1,), name=header)\n",
    "        normalization_layer = get_normalization_layer(header, train_ds)\n",
    "        encoded_numeric_col = normalization_layer(numeric_col)\n",
    "        all_inputs.append(numeric_col)\n",
    "        encoded_features.append(encoded_numeric_col)\n",
    "\n",
    "    for header in cfg.CAT_ORDERED_COLS + cfg.BINARY_COLS:\n",
    "        ordered_cat_col = tf.keras.Input(shape=(1,), name=header, dtype='int32')\n",
    "\n",
    "        encoding_layer = get_category_encoding_layer(name=header,\n",
    "                                                    dataset=train_ds,\n",
    "                                                    dtype='int64',\n",
    "                                                    max_tokens=None)\n",
    "        encoded_ordered_cat_col = encoding_layer(ordered_cat_col)\n",
    "        all_inputs.append(ordered_cat_col)\n",
    "        encoded_features.append(encoded_ordered_cat_col)\n",
    "\n",
    "    for header in cfg.CAT_UNORDERED_COLS:\n",
    "        categorical_col = tf.keras.Input(shape=(1,), name=header, dtype='string')\n",
    "        encoding_layer = get_category_encoding_layer(name=header,\n",
    "                                                    dataset=train_ds,\n",
    "                                                    dtype='string',\n",
    "                                                    max_tokens=5)\n",
    "        encoded_categorical_col = encoding_layer(categorical_col)\n",
    "        all_inputs.append(categorical_col)\n",
    "        encoded_features.append(encoded_categorical_col)\n",
    "\n",
    "\n",
    "    all_features = tf.keras.layers.concatenate(encoded_features)\n",
    "    x = tf.keras.layers.Dense(256)(all_features)\n",
    "    x = tf.keras.layers.LeakyReLU(alpha=0.15)(x)\n",
    "    x = tf.keras.layers.Dropout(0.6)(x)\n",
    "    x = tf.keras.layers.Dense(128)(x)\n",
    "    x = tf.keras.layers.LeakyReLU(alpha=0.15)(x)\n",
    "    x = tf.keras.layers.Dropout(0.6)(x)\n",
    "    \n",
    "    output = tf.keras.layers.Dense(len(cfg.TARGETS))(x)\n",
    "\n",
    "    early_stopping = tf.keras.callbacks.EarlyStopping(monitor='val_loss', patience=10, restore_best_weights=True)\n",
    "    # reduce_lr = tf.keras.callbacks.ReduceLROnPlateau(monitor='val_loss', factor=0.2, patience=2, min_lr=0.0001)\n",
    "\n",
    "\n",
    "    model = tf.keras.Model(all_inputs, output)\n",
    "    model.compile(\n",
    "        optimizer=tf.keras.optimizers.Adam(\n",
    "            learning_rate=0.0007,\n",
    "            beta_1=0.9,\n",
    "            beta_2=0.999,\n",
    "            epsilon=1e-07,\n",
    "            amsgrad=False,\n",
    "            name='Adam'\n",
    "            )\n",
    ",\n",
    "        loss=tf.keras.losses.BinaryCrossentropy(from_logits=True),\n",
    "        # metrics=['AUC']\n",
    "        )\n",
    "\n",
    "        \n",
    "    for random_seed in tqdm(range(N_RANDOM_SEEDS), total=N_RANDOM_SEEDS):\n",
    "        tf.random.set_seed(random_seed)\n",
    "\n",
    "        model.fit(train_ds, epochs=100, validation_data=val_ds, verbose=1, callbacks=[early_stopping]) # reduce_lr\n",
    "\n",
    "        \n",
    "        model_name = f'{EXPERIMENT_NAME}_fold_{fold}_rs_{random_seed}'\n",
    "        model_path = os.path.join(cfg.MODELS_PATH, EXPERIMENT_FAMILY_NAME, EXPERIMENT_NAME)\n",
    "        check_path(model_path)\n",
    "        model.save(os.path.join(model_path, model_name))\n",
    "        \n",
    "        pred_proba_oof.iloc[val_idx, :] += tf.nn.sigmoid(model.predict(val_ds)).numpy().squeeze()\n",
    "        pred_proba_test.iloc[:, :] += tf.nn.sigmoid(model.predict(test_ds)).numpy().squeeze()\n",
    "        gc.collect()\n",
    "        \n",
    "    fold += 1\n",
    "pred_proba_oof /= N_RANDOM_SEEDS\n",
    "pred_proba_test /= (N_SPLITS * N_RANDOM_SEEDS)"
   ]
  },
  {
   "cell_type": "code",
   "execution_count": 17,
   "metadata": {},
   "outputs": [],
   "source": [
    "# tf.keras.utils.plot_model(model, \"multi_input_and_output_model.png\", show_shapes=True)\n"
   ]
  },
  {
   "cell_type": "markdown",
   "metadata": {},
   "source": [
    "# PREDICT AND SAVE PREDICTIONS"
   ]
  },
  {
   "cell_type": "code",
   "execution_count": 18,
   "metadata": {},
   "outputs": [
    {
     "name": "stdout",
     "output_type": "stream",
     "text": [
      "[0.7066901920838184, 0.7017318401566611, 0.6047849706960687, 0.6905721300101404, 0.7248165311390486]\n",
      "0.6857191328171475 0.04194922849980627\n"
     ]
    }
   ],
   "source": [
    "tresholds = get_tresholds(train[cfg.TARGETS], pred_proba_oof)\n",
    "sample_submission = pd.read_csv(cfg.SAMPLE_SUBMISSION_PATH).set_index('ID')\n",
    "submission = make_prediction(pred_proba_test, tresholds, sample_submission)"
   ]
  },
  {
   "cell_type": "code",
   "execution_count": 19,
   "metadata": {},
   "outputs": [],
   "source": [
    "## BEST PARAMS\n",
    "# [0.7066901920838184, 0.7017318401566611, 0.6047849706960687, 0.6905721300101404, 0.7248165311390486]\n",
    "# 0.6857191328171475 0.04194922849980627"
   ]
  },
  {
   "cell_type": "code",
   "execution_count": 20,
   "metadata": {},
   "outputs": [],
   "source": [
    "submission_path = os.path.join(cfg.SUBMISSION_PATH, EXPERIMENT_FAMILY_NAME)\n",
    "check_path(submission_path)\n",
    "submission.to_csv(os.path.join(submission_path, f'{EXPERIMENT_NAME}.csv'))\n",
    "\n",
    "pred_proba_oof_path = os.path.join(cfg.OOF_PRED_PATH, EXPERIMENT_FAMILY_NAME)\n",
    "check_path(pred_proba_oof_path)\n",
    "pred_proba_oof.to_pickle(os.path.join(pred_proba_oof_path, f'{EXPERIMENT_NAME}.pkl'))\n",
    "\n",
    "pred_proba_test_path = os.path.join(cfg.TEST_PRED_PATH, EXPERIMENT_FAMILY_NAME)\n",
    "check_path(pred_proba_test_path)\n",
    "pred_proba_test.to_pickle(os.path.join(pred_proba_test_path, f'{EXPERIMENT_NAME}.pkl'))"
   ]
  }
 ],
 "metadata": {
  "kernelspec": {
   "display_name": "Python 3.9.12 ('tf')",
   "language": "python",
   "name": "python3"
  },
  "language_info": {
   "codemirror_mode": {
    "name": "ipython",
    "version": 3
   },
   "file_extension": ".py",
   "mimetype": "text/x-python",
   "name": "python",
   "nbconvert_exporter": "python",
   "pygments_lexer": "ipython3",
   "version": "3.9.12"
  },
  "orig_nbformat": 4,
  "vscode": {
   "interpreter": {
    "hash": "d5356ef1c2ac2ef25d35a0579f082f1d273c4bada2fe955fa1b70f42402fff98"
   }
  }
 },
 "nbformat": 4,
 "nbformat_minor": 2
}
