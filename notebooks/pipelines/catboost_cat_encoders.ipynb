{
 "cells": [
  {
   "cell_type": "markdown",
   "metadata": {},
   "source": [
    "# IMPORTS"
   ]
  },
  {
   "cell_type": "code",
   "execution_count": 1,
   "metadata": {},
   "outputs": [],
   "source": [
    "import sys\n",
    "sys.path.insert(0, \"../..\")\n",
    "import config as cfg\n",
    "import gc"
   ]
  },
  {
   "cell_type": "code",
   "execution_count": 2,
   "metadata": {},
   "outputs": [],
   "source": [
    "import pandas as pd\n",
    "import numpy as np\n",
    "import re\n",
    "from tqdm.notebook import tqdm\n",
    "from metrics import compute_single_col_score, get_tresholds\n",
    "from helper import make_prediction, check_path\n",
    "from sklearn.model_selection import StratifiedKFold, train_test_split\n",
    "from iterstrat.ml_stratifiers import MultilabelStratifiedKFold\n",
    "import category_encoders as ce"
   ]
  },
  {
   "cell_type": "code",
   "execution_count": 3,
   "metadata": {},
   "outputs": [],
   "source": [
    "import catboost as cb\n",
    "import catboost.datasets as cbd\n",
    "import catboost.utils as cbu\n",
    "import hyperopt"
   ]
  },
  {
   "cell_type": "markdown",
   "metadata": {},
   "source": [
    "# MODEL TRAINING"
   ]
  },
  {
   "cell_type": "code",
   "execution_count": 4,
   "metadata": {},
   "outputs": [],
   "source": [
    "train = pd.read_pickle(cfg.PREPARED_TRAIN_DATA_PATH)\n",
    "test = pd.read_pickle(cfg.PREPARED_TEST_DATA_PATH)"
   ]
  },
  {
   "cell_type": "code",
   "execution_count": 5,
   "metadata": {},
   "outputs": [],
   "source": [
    "X_train, Y_train = train.drop(cfg.TARGETS, axis=1), train[cfg.TARGETS]"
   ]
  },
  {
   "cell_type": "code",
   "execution_count": 6,
   "metadata": {},
   "outputs": [],
   "source": [
    "pred_proba_oof = pd.DataFrame(data=np.zeros(shape=(len(train), len(cfg.TARGETS))), index=train.index, columns=cfg.TARGETS)\n",
    "pred_proba_test = pd.DataFrame(data=np.zeros(shape=(len(test), len(cfg.TARGETS))), index=test.index, columns=cfg.TARGETS)\n",
    "metrics = {}"
   ]
  },
  {
   "cell_type": "code",
   "execution_count": 7,
   "metadata": {},
   "outputs": [],
   "source": [
    "EXPERIMENT_FAMILY_NAME = 'catboost'\n",
    "EXPERIMENT_NAME = 'cat_encoders'\n",
    "RANDOM_STATE = 77\n",
    "N_SPLITS = 5\n",
    "N_RANDOM_SEEDS = 10\n",
    "N_DEPTH = 7\n",
    "CAT_COLS = cfg.CAT_UNORDERED_COLS"
   ]
  },
  {
   "cell_type": "code",
   "execution_count": 8,
   "metadata": {},
   "outputs": [],
   "source": [
    "def apply_cat_encoding(encoder, X_train, Y_train, X_val, encoder_name) -> tuple[pd.DataFrame, pd.DataFrame]:\n",
    "    def _rename_cols(df: pd.DataFrame, target_col: str, encoder_name: str) -> pd.DataFrame:\n",
    "        df.columns = [f'{cat_col}_{target_col}_{encoder_name}' for cat_col in df.columns]\n",
    "        return df\n",
    "\n",
    "    X_cat_train, X_cat_val = [], []\n",
    "    for target_col in Y_train.columns:\n",
    "        X_cat_train_enc = encoder.fit_transform(X_train, Y_train[target_col])\n",
    "        X_cat_train_enc = _rename_cols(X_cat_train_enc, target_col, encoder_name)\n",
    "        X_cat_train.append(X_cat_train_enc)\n",
    "\n",
    "        X_cat_val_enc = encoder.transform(X_val)\n",
    "        X_cat_val_enc = _rename_cols(X_cat_val_enc, target_col, encoder_name)\n",
    "        X_cat_val.append(X_cat_val_enc)\n",
    "    return pd.concat(X_cat_train, axis=1), pd.concat(X_cat_val, axis=1)"
   ]
  },
  {
   "cell_type": "code",
   "execution_count": 9,
   "metadata": {},
   "outputs": [],
   "source": [
    "cat_encoders = {\n",
    "    'WOE': ce.WOEEncoder(cols=CAT_COLS, random_state=RANDOM_STATE),\n",
    "    # 'TE': ce.TargetEncoder(cols=CAT_COLS)\n",
    "}"
   ]
  },
  {
   "cell_type": "code",
   "execution_count": 10,
   "metadata": {},
   "outputs": [
    {
     "data": {
      "application/vnd.jupyter.widget-view+json": {
       "model_id": "be0b8196788a4460980ef5cb84505445",
       "version_major": 2,
       "version_minor": 0
      },
      "text/plain": [
       "  0%|          | 0/5 [00:00<?, ?it/s]"
      ]
     },
     "metadata": {},
     "output_type": "display_data"
    },
    {
     "data": {
      "application/vnd.jupyter.widget-view+json": {
       "model_id": "a0b6863029cd4d67b35829b6a2668977",
       "version_major": 2,
       "version_minor": 0
      },
      "text/plain": [
       "  0%|          | 0/1 [00:00<?, ?it/s]"
      ]
     },
     "metadata": {},
     "output_type": "display_data"
    },
    {
     "data": {
      "application/vnd.jupyter.widget-view+json": {
       "model_id": "adc932dd8eb14697b4f430b6b77ec137",
       "version_major": 2,
       "version_minor": 0
      },
      "text/plain": [
       "  0%|          | 0/4 [00:00<?, ?it/s]"
      ]
     },
     "metadata": {},
     "output_type": "display_data"
    },
    {
     "data": {
      "application/vnd.jupyter.widget-view+json": {
       "model_id": "816b470823634025a1a7601f616914c3",
       "version_major": 2,
       "version_minor": 0
      },
      "text/plain": [
       "  0%|          | 0/1 [00:00<?, ?it/s]"
      ]
     },
     "metadata": {},
     "output_type": "display_data"
    },
    {
     "data": {
      "application/vnd.jupyter.widget-view+json": {
       "model_id": "a3bfebe60a54416c9d2d15500edd0249",
       "version_major": 2,
       "version_minor": 0
      },
      "text/plain": [
       "  0%|          | 0/4 [00:00<?, ?it/s]"
      ]
     },
     "metadata": {},
     "output_type": "display_data"
    },
    {
     "data": {
      "application/vnd.jupyter.widget-view+json": {
       "model_id": "a218a81574f34e719b62d164b4d3daf5",
       "version_major": 2,
       "version_minor": 0
      },
      "text/plain": [
       "  0%|          | 0/1 [00:00<?, ?it/s]"
      ]
     },
     "metadata": {},
     "output_type": "display_data"
    },
    {
     "data": {
      "application/vnd.jupyter.widget-view+json": {
       "model_id": "32ca014bd363474b9160d2b11a0e49b3",
       "version_major": 2,
       "version_minor": 0
      },
      "text/plain": [
       "  0%|          | 0/4 [00:00<?, ?it/s]"
      ]
     },
     "metadata": {},
     "output_type": "display_data"
    },
    {
     "data": {
      "application/vnd.jupyter.widget-view+json": {
       "model_id": "5d4ff0c9a63b456a87db2b236b9fda86",
       "version_major": 2,
       "version_minor": 0
      },
      "text/plain": [
       "  0%|          | 0/1 [00:00<?, ?it/s]"
      ]
     },
     "metadata": {},
     "output_type": "display_data"
    },
    {
     "data": {
      "application/vnd.jupyter.widget-view+json": {
       "model_id": "cb5bd5df44d84fd380342de374a1df65",
       "version_major": 2,
       "version_minor": 0
      },
      "text/plain": [
       "  0%|          | 0/4 [00:00<?, ?it/s]"
      ]
     },
     "metadata": {},
     "output_type": "display_data"
    },
    {
     "data": {
      "application/vnd.jupyter.widget-view+json": {
       "model_id": "343e0295d5a9437095d5febcdcdb4e13",
       "version_major": 2,
       "version_minor": 0
      },
      "text/plain": [
       "  0%|          | 0/1 [00:00<?, ?it/s]"
      ]
     },
     "metadata": {},
     "output_type": "display_data"
    },
    {
     "data": {
      "application/vnd.jupyter.widget-view+json": {
       "model_id": "9d28938fee6e4d348c520ddd2707d543",
       "version_major": 2,
       "version_minor": 0
      },
      "text/plain": [
       "  0%|          | 0/4 [00:00<?, ?it/s]"
      ]
     },
     "metadata": {},
     "output_type": "display_data"
    }
   ],
   "source": [
    "cv = MultilabelStratifiedKFold(n_splits=N_SPLITS, random_state=RANDOM_STATE, shuffle=True)\n",
    "\n",
    "X_test_cats = []\n",
    "for cat_encoder_name, cat_encoder in cat_encoders.items():\n",
    "    _, X_test_cat = apply_cat_encoding(\n",
    "        encoder=cat_encoder,\n",
    "        X_train=X_train[CAT_COLS],\n",
    "        Y_train=Y_train,\n",
    "        X_val=test[CAT_COLS],\n",
    "        encoder_name=cat_encoder_name\n",
    "    )\n",
    "    X_test_cats.append(X_test_cat)\n",
    "\n",
    "test_pool = cb.Pool(\n",
    "        data=pd.concat([test, pd.concat(X_test_cats, axis=1)], axis=1),\n",
    "        cat_features=CAT_COLS\n",
    "        )\n",
    "\n",
    "fold = 0\n",
    "for train_idx, val_idx in tqdm(cv.split(X_train, Y_train), total=N_SPLITS):\n",
    "    \n",
    "    X_train_cats, X_val_cats = [], []\n",
    "    for cat_encoder_name, cat_encoder in cat_encoders.items():\n",
    "        X_train_cat, X_val_cat = apply_cat_encoding(\n",
    "            encoder=cat_encoder,\n",
    "            X_train=X_train[CAT_COLS].iloc[train_idx],\n",
    "            Y_train=Y_train.iloc[train_idx],\n",
    "            X_val=X_train[CAT_COLS].iloc[val_idx],\n",
    "            encoder_name=cat_encoder_name\n",
    "            )\n",
    "        X_train_cats.append(X_train_cat)\n",
    "        X_val_cats.append(X_val_cat)\n",
    "\n",
    "    train_pool = cb.Pool(\n",
    "        data=pd.concat([X_train.iloc[train_idx], pd.concat(X_train_cats, axis=1)], axis=1), \n",
    "        label=Y_train.iloc[train_idx],\n",
    "        cat_features=CAT_COLS\n",
    "        )\n",
    "\n",
    "    val_pool = cb.Pool(\n",
    "        data=pd.concat([X_train.iloc[val_idx], pd.concat(X_val_cats, axis=1)], axis=1), \n",
    "        label=Y_train.iloc[val_idx],\n",
    "        cat_features=CAT_COLS\n",
    "        )\n",
    "        \n",
    "    for random_seed in tqdm(range(N_RANDOM_SEEDS), total=N_RANDOM_SEEDS):\n",
    "        for depth in tqdm(range(3, 3 + N_DEPTH), total=N_DEPTH):\n",
    "            clf = cb.CatBoostClassifier(\n",
    "                loss_function='MultiLogloss',\n",
    "                # custom_metric=['Recall', 'F1'],\n",
    "                iterations=2000,\n",
    "                silent=True,\n",
    "                depth=depth,\n",
    "                l2_leaf_reg=2.0,\n",
    "                learning_rate=0.003,\n",
    "                early_stopping_rounds=300,\n",
    "                bagging_temperature=1,\n",
    "                per_float_feature_quantization='0:border_count=1024'\n",
    "                random_seed=random_seed\n",
    "            )\n",
    "\n",
    "            clf.fit(train_pool, eval_set=val_pool, plot=False)\n",
    "            \n",
    "            model_name = f'{EXPERIMENT_NAME}_fold_{fold}_rs_{random_seed}_depth_{depth}.cbm'\n",
    "            model_path = os.path.join(cfg.MODELS_PATH, EXPERIMENT_FAMILY_NAME, EXPERIMENT_NAME)\n",
    "            check_path(model_path)\n",
    "            clf.save_model(os.path.join(model_path, model_name))\n",
    "            \n",
    "            pred_proba_oof.iloc[val_idx, :] += clf.predict_proba(val_pool)\n",
    "            pred_proba_test.iloc[:, :] += clf.predict_proba(test_pool)\n",
    "            gc.collect()\n",
    "\n",
    "    fold += 1\n",
    "pred_proba_oof /= (N_RANDOM_SEEDS * N_DEPTH)\n",
    "pred_proba_test /= (N_SPLITS * N_RANDOM_SEEDS * N_DEPTH)"
   ]
  },
  {
   "cell_type": "markdown",
   "metadata": {},
   "source": [
    "# PREDICT AND SAVE PREDICTIONS"
   ]
  },
  {
   "cell_type": "code",
   "execution_count": 11,
   "metadata": {},
   "outputs": [
    {
     "data": {
      "text/html": [
       "<div>\n",
       "<style scoped>\n",
       "    .dataframe tbody tr th:only-of-type {\n",
       "        vertical-align: middle;\n",
       "    }\n",
       "\n",
       "    .dataframe tbody tr th {\n",
       "        vertical-align: top;\n",
       "    }\n",
       "\n",
       "    .dataframe thead th {\n",
       "        text-align: right;\n",
       "    }\n",
       "</style>\n",
       "<table border=\"1\" class=\"dataframe\">\n",
       "  <thead>\n",
       "    <tr style=\"text-align: right;\">\n",
       "      <th></th>\n",
       "      <th>importance</th>\n",
       "    </tr>\n",
       "  </thead>\n",
       "  <tbody>\n",
       "    <tr>\n",
       "      <th>regular_medication_intake</th>\n",
       "      <td>17.787552</td>\n",
       "    </tr>\n",
       "    <tr>\n",
       "      <th>profession</th>\n",
       "      <td>5.829897</td>\n",
       "    </tr>\n",
       "    <tr>\n",
       "      <th>education</th>\n",
       "      <td>5.510420</td>\n",
       "    </tr>\n",
       "    <tr>\n",
       "      <th>alcohol</th>\n",
       "      <td>5.313405</td>\n",
       "    </tr>\n",
       "    <tr>\n",
       "      <th>sleep_time</th>\n",
       "      <td>5.217868</td>\n",
       "    </tr>\n",
       "    <tr>\n",
       "      <th>family</th>\n",
       "      <td>5.147500</td>\n",
       "    </tr>\n",
       "    <tr>\n",
       "      <th>sex</th>\n",
       "      <td>4.986361</td>\n",
       "    </tr>\n",
       "    <tr>\n",
       "      <th>smoking_status</th>\n",
       "      <td>4.392507</td>\n",
       "    </tr>\n",
       "    <tr>\n",
       "      <th>wake_up_time</th>\n",
       "      <td>3.981545</td>\n",
       "    </tr>\n",
       "    <tr>\n",
       "      <th>retired</th>\n",
       "      <td>3.839531</td>\n",
       "    </tr>\n",
       "    <tr>\n",
       "      <th>passive_smoking_frequency</th>\n",
       "      <td>3.260826</td>\n",
       "    </tr>\n",
       "    <tr>\n",
       "      <th>religion</th>\n",
       "      <td>2.976176</td>\n",
       "    </tr>\n",
       "    <tr>\n",
       "      <th>ethnos</th>\n",
       "      <td>2.094313</td>\n",
       "    </tr>\n",
       "    <tr>\n",
       "      <th>diabetes</th>\n",
       "      <td>1.403921</td>\n",
       "    </tr>\n",
       "    <tr>\n",
       "      <th>employed</th>\n",
       "      <td>1.283326</td>\n",
       "    </tr>\n",
       "    <tr>\n",
       "      <th>nationality</th>\n",
       "      <td>1.262412</td>\n",
       "    </tr>\n",
       "    <tr>\n",
       "      <th>wake_up_time_angina_pectoris_ischemic_heart_disease_myocardial_infarction_WOE</th>\n",
       "      <td>0.796718</td>\n",
       "    </tr>\n",
       "    <tr>\n",
       "      <th>wake_up_time_arterial_hypertension_WOE</th>\n",
       "      <td>0.782147</td>\n",
       "    </tr>\n",
       "    <tr>\n",
       "      <th>education_arterial_hypertension_WOE</th>\n",
       "      <td>0.726866</td>\n",
       "    </tr>\n",
       "    <tr>\n",
       "      <th>alcohol_age</th>\n",
       "      <td>0.716370</td>\n",
       "    </tr>\n",
       "    <tr>\n",
       "      <th>profession_stroke_WOE</th>\n",
       "      <td>0.679673</td>\n",
       "    </tr>\n",
       "    <tr>\n",
       "      <th>education_ordinal</th>\n",
       "      <td>0.676200</td>\n",
       "    </tr>\n",
       "    <tr>\n",
       "      <th>sex_stroke_WOE</th>\n",
       "      <td>0.664551</td>\n",
       "    </tr>\n",
       "    <tr>\n",
       "      <th>sex_arterial_hypertension_WOE</th>\n",
       "      <td>0.650507</td>\n",
       "    </tr>\n",
       "    <tr>\n",
       "      <th>profession_arterial_hypertension_WOE</th>\n",
       "      <td>0.638026</td>\n",
       "    </tr>\n",
       "  </tbody>\n",
       "</table>\n",
       "</div>"
      ],
      "text/plain": [
       "                                                    importance\n",
       "regular_medication_intake                            17.787552\n",
       "profession                                            5.829897\n",
       "education                                             5.510420\n",
       "alcohol                                               5.313405\n",
       "sleep_time                                            5.217868\n",
       "family                                                5.147500\n",
       "sex                                                   4.986361\n",
       "smoking_status                                        4.392507\n",
       "wake_up_time                                          3.981545\n",
       "retired                                               3.839531\n",
       "passive_smoking_frequency                             3.260826\n",
       "religion                                              2.976176\n",
       "ethnos                                                2.094313\n",
       "diabetes                                              1.403921\n",
       "employed                                              1.283326\n",
       "nationality                                           1.262412\n",
       "wake_up_time_angina_pectoris_ischemic_heart_dis...    0.796718\n",
       "wake_up_time_arterial_hypertension_WOE                0.782147\n",
       "education_arterial_hypertension_WOE                   0.726866\n",
       "alcohol_age                                           0.716370\n",
       "profession_stroke_WOE                                 0.679673\n",
       "education_ordinal                                     0.676200\n",
       "sex_stroke_WOE                                        0.664551\n",
       "sex_arterial_hypertension_WOE                         0.650507\n",
       "profession_arterial_hypertension_WOE                  0.638026"
      ]
     },
     "execution_count": 11,
     "metadata": {},
     "output_type": "execute_result"
    }
   ],
   "source": [
    "feat_importance = (pd.DataFrame(\n",
    "    data=clf.feature_importances_, \n",
    "    index=clf.feature_names_, \n",
    "    columns=['importance'])\n",
    "    .sort_values('importance', ascending=False)\n",
    ")\n",
    "feat_importance.head(25)"
   ]
  },
  {
   "cell_type": "code",
   "execution_count": 12,
   "metadata": {},
   "outputs": [
    {
     "name": "stdout",
     "output_type": "stream",
     "text": [
      "[0.6908832945285215, 0.6863972013136691, 0.5927957823748227, 0.6805651918663607, 0.7322918410318306]\n",
      "0.676586662223041 0.045695618088625115\n"
     ]
    }
   ],
   "source": [
    "tresholds = get_tresholds(train[cfg.TARGETS], pred_proba_oof)\n",
    "sample_submission = pd.read_csv(cfg.SAMPLE_SUBMISSION_PATH).set_index('ID')\n",
    "submission = make_prediction(pred_proba_test, tresholds, sample_submission)"
   ]
  },
  {
   "cell_type": "code",
   "execution_count": 13,
   "metadata": {},
   "outputs": [],
   "source": [
    "## BEST PARAMS\n",
    "# WOE\n",
    "# [0.6948668509895227, 0.6880086897986659, 0.6023630476088527, 0.6930805358381811, 0.7352167707718467]\n",
    "# 0.6827071790014139 0.04357982755536629\n",
    "\n",
    "# RANDOM_STATE = 77\n",
    "# N_SPLITS = 5\n",
    "# N_RANDOM_SEEDS = 7\n",
    "\n",
    "# loss_function='MultiLogloss',\n",
    "#             custom_metric=['Recall', 'F1'],\n",
    "#             iterations=1000,\n",
    "#             silent=True,\n",
    "#             depth=6,\n",
    "#             l2_leaf_reg=2.0,\n",
    "#             learning_rate=0.01,\n",
    "#             early_stopping_rounds=100,\n",
    "#             random_seed=random_seed"
   ]
  },
  {
   "cell_type": "code",
   "execution_count": 14,
   "metadata": {},
   "outputs": [],
   "source": [
    "submission.to_csv(os.path.join(cfg.SUBMISSION_PATH, EXPERIMENT_FAMILY_NAME, f'{EXPERIMENT_NAME}.csv'))\n",
    "pred_proba_oof.to_pickle(os.path.join(cfg.OOF_PRED_PATH, EXPERIMENT_FAMILY_NAME, f'{EXPERIMENT_NAME}.pkl'))\n",
    "pred_proba_test.to_pickle(os.path.join(cfg.TEST_PRED_PATH, EXPERIMENT_FAMILY_NAME, f'{EXPERIMENT_NAME}.pkl'))"
   ]
  }
 ],
 "metadata": {
  "kernelspec": {
   "display_name": "Python 3 (ipykernel)",
   "language": "python",
   "name": "python3"
  },
  "language_info": {
   "codemirror_mode": {
    "name": "ipython",
    "version": 3
   },
   "file_extension": ".py",
   "mimetype": "text/x-python",
   "name": "python",
   "nbconvert_exporter": "python",
   "pygments_lexer": "ipython3",
   "version": "3.9.12"
  },
  "orig_nbformat": 4
 },
 "nbformat": 4,
 "nbformat_minor": 2
}
