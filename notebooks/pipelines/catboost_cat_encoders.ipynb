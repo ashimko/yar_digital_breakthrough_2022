{
 "cells": [
  {
   "cell_type": "markdown",
   "metadata": {},
   "source": [
    "# IMPORTS"
   ]
  },
  {
   "cell_type": "code",
   "execution_count": 1,
   "metadata": {},
   "outputs": [],
   "source": [
    "import sys\n",
    "sys.path.insert(0, \"../..\")\n",
    "import config as cfg\n",
    "import gc"
   ]
  },
  {
   "cell_type": "code",
   "execution_count": 2,
   "metadata": {},
   "outputs": [],
   "source": [
    "import pandas as pd\n",
    "import numpy as np\n",
    "import re\n",
    "from tqdm.notebook import tqdm\n",
    "from metrics import compute_single_col_score, get_tresholds\n",
    "from helper import make_prediction, check_path\n",
    "from sklearn.model_selection import StratifiedKFold, train_test_split\n",
    "from iterstrat.ml_stratifiers import MultilabelStratifiedKFold\n",
    "import category_encoders as ce"
   ]
  },
  {
   "cell_type": "code",
   "execution_count": 3,
   "metadata": {},
   "outputs": [],
   "source": [
    "import catboost as cb\n",
    "import catboost.datasets as cbd\n",
    "import catboost.utils as cbu"
   ]
  },
  {
   "cell_type": "markdown",
   "metadata": {},
   "source": [
    "# MODEL TRAINING"
   ]
  },
  {
   "cell_type": "code",
   "execution_count": 4,
   "metadata": {},
   "outputs": [],
   "source": [
    "train = pd.read_pickle(cfg.PREPARED_TRAIN_DATA_PATH)\n",
    "test = pd.read_pickle(cfg.PREPARED_TEST_DATA_PATH)"
   ]
  },
  {
   "cell_type": "code",
   "execution_count": 5,
   "metadata": {},
   "outputs": [],
   "source": [
    "X_train, Y_train = train.drop(cfg.TARGETS, axis=1), train[cfg.TARGETS]"
   ]
  },
  {
   "cell_type": "code",
   "execution_count": 6,
   "metadata": {},
   "outputs": [],
   "source": [
    "pred_proba_oof = pd.DataFrame(data=np.zeros(shape=(len(train), len(cfg.TARGETS))), index=train.index, columns=cfg.TARGETS)\n",
    "pred_proba_test = pd.DataFrame(data=np.zeros(shape=(len(test), len(cfg.TARGETS))), index=test.index, columns=cfg.TARGETS)\n",
    "metrics = {}"
   ]
  },
  {
   "cell_type": "code",
   "execution_count": 7,
   "metadata": {},
   "outputs": [],
   "source": [
    "EXPERIMENT_FAMILY_NAME = 'catboost'\n",
    "EXPERIMENT_NAME = 'cat_encoders'\n",
    "RANDOM_STATE = 77\n",
    "N_SPLITS = 6\n",
    "N_RANDOM_SEEDS = 1\n",
    "N_DEPTH = 1\n",
    "CAT_COLS = cfg.CAT_UNORDERED_COLS"
   ]
  },
  {
   "cell_type": "code",
   "execution_count": 8,
   "metadata": {},
   "outputs": [],
   "source": [
    "def apply_cat_encoding(encoder, X_train, Y_train, X_val, encoder_name) -> tuple[pd.DataFrame, pd.DataFrame]:\n",
    "    def _rename_cols(df: pd.DataFrame, target_col: str, encoder_name: str) -> pd.DataFrame:\n",
    "        df.columns = [f'{cat_col}_{target_col}_{encoder_name}' for cat_col in df.columns]\n",
    "        return df\n",
    "\n",
    "    X_cat_train, X_cat_val = [], []\n",
    "    for target_col in Y_train.columns:\n",
    "        X_cat_train_enc = encoder.fit_transform(X_train, Y_train[target_col])\n",
    "        X_cat_train_enc = _rename_cols(X_cat_train_enc, target_col, encoder_name)\n",
    "        X_cat_train.append(X_cat_train_enc)\n",
    "\n",
    "        X_cat_val_enc = encoder.transform(X_val)\n",
    "        X_cat_val_enc = _rename_cols(X_cat_val_enc, target_col, encoder_name)\n",
    "        X_cat_val.append(X_cat_val_enc)\n",
    "    return pd.concat(X_cat_train, axis=1), pd.concat(X_cat_val, axis=1)"
   ]
  },
  {
   "cell_type": "code",
   "execution_count": 9,
   "metadata": {},
   "outputs": [],
   "source": [
    "cat_encoders = {\n",
    "    'WOE': ce.WOEEncoder(cols=CAT_COLS, random_state=RANDOM_STATE),\n",
    "    # 'TE': ce.TargetEncoder(cols=CAT_COLS)\n",
    "}"
   ]
  },
  {
   "cell_type": "code",
   "execution_count": 10,
   "metadata": {},
   "outputs": [
    {
     "data": {
      "application/vnd.jupyter.widget-view+json": {
       "model_id": "4591e11a1de74aec843287877d234180",
       "version_major": 2,
       "version_minor": 0
      },
      "text/plain": [
       "  0%|          | 0/6 [00:00<?, ?it/s]"
      ]
     },
     "metadata": {},
     "output_type": "display_data"
    },
    {
     "data": {
      "application/vnd.jupyter.widget-view+json": {
       "model_id": "7048df53bcb645ceb01cc7fe3ec7d059",
       "version_major": 2,
       "version_minor": 0
      },
      "text/plain": [
       "  0%|          | 0/7 [00:00<?, ?it/s]"
      ]
     },
     "metadata": {},
     "output_type": "display_data"
    },
    {
     "data": {
      "application/vnd.jupyter.widget-view+json": {
       "model_id": "cb9430a3b26b49b0901ce0637224a3b3",
       "version_major": 2,
       "version_minor": 0
      },
      "text/plain": [
       "  0%|          | 0/4 [00:00<?, ?it/s]"
      ]
     },
     "metadata": {},
     "output_type": "display_data"
    },
    {
     "data": {
      "application/vnd.jupyter.widget-view+json": {
       "model_id": "2c8a53eb21244f69871979b5475637c2",
       "version_major": 2,
       "version_minor": 0
      },
      "text/plain": [
       "  0%|          | 0/4 [00:00<?, ?it/s]"
      ]
     },
     "metadata": {},
     "output_type": "display_data"
    },
    {
     "data": {
      "application/vnd.jupyter.widget-view+json": {
       "model_id": "8d5b0259e0354406b89b9688f2ac8bc1",
       "version_major": 2,
       "version_minor": 0
      },
      "text/plain": [
       "  0%|          | 0/4 [00:00<?, ?it/s]"
      ]
     },
     "metadata": {},
     "output_type": "display_data"
    },
    {
     "data": {
      "application/vnd.jupyter.widget-view+json": {
       "model_id": "f54a74bf55404705bb77b2b64fb7d6d4",
       "version_major": 2,
       "version_minor": 0
      },
      "text/plain": [
       "  0%|          | 0/4 [00:00<?, ?it/s]"
      ]
     },
     "metadata": {},
     "output_type": "display_data"
    },
    {
     "data": {
      "application/vnd.jupyter.widget-view+json": {
       "model_id": "6205c4c2def646fc84388c23d0699ea0",
       "version_major": 2,
       "version_minor": 0
      },
      "text/plain": [
       "  0%|          | 0/4 [00:00<?, ?it/s]"
      ]
     },
     "metadata": {},
     "output_type": "display_data"
    },
    {
     "data": {
      "application/vnd.jupyter.widget-view+json": {
       "model_id": "77838795a52d4ef590ea6be328ab2e49",
       "version_major": 2,
       "version_minor": 0
      },
      "text/plain": [
       "  0%|          | 0/4 [00:00<?, ?it/s]"
      ]
     },
     "metadata": {},
     "output_type": "display_data"
    },
    {
     "data": {
      "application/vnd.jupyter.widget-view+json": {
       "model_id": "6a5fb886719542f9b0c60bc34430b7fa",
       "version_major": 2,
       "version_minor": 0
      },
      "text/plain": [
       "  0%|          | 0/4 [00:00<?, ?it/s]"
      ]
     },
     "metadata": {},
     "output_type": "display_data"
    },
    {
     "data": {
      "application/vnd.jupyter.widget-view+json": {
       "model_id": "2511e5f9fae042d3b4f04f054adcb445",
       "version_major": 2,
       "version_minor": 0
      },
      "text/plain": [
       "  0%|          | 0/7 [00:00<?, ?it/s]"
      ]
     },
     "metadata": {},
     "output_type": "display_data"
    },
    {
     "data": {
      "application/vnd.jupyter.widget-view+json": {
       "model_id": "6b532f2ea1bf4fe295fcdfc076b994f7",
       "version_major": 2,
       "version_minor": 0
      },
      "text/plain": [
       "  0%|          | 0/4 [00:00<?, ?it/s]"
      ]
     },
     "metadata": {},
     "output_type": "display_data"
    },
    {
     "data": {
      "application/vnd.jupyter.widget-view+json": {
       "model_id": "dd6a53ef2d63462392c9470c2c698951",
       "version_major": 2,
       "version_minor": 0
      },
      "text/plain": [
       "  0%|          | 0/4 [00:00<?, ?it/s]"
      ]
     },
     "metadata": {},
     "output_type": "display_data"
    },
    {
     "data": {
      "application/vnd.jupyter.widget-view+json": {
       "model_id": "12cde34d4ab3449d8f5812a10669f953",
       "version_major": 2,
       "version_minor": 0
      },
      "text/plain": [
       "  0%|          | 0/4 [00:00<?, ?it/s]"
      ]
     },
     "metadata": {},
     "output_type": "display_data"
    },
    {
     "data": {
      "application/vnd.jupyter.widget-view+json": {
       "model_id": "fd9e40128a9a49078338113dcf8cd69d",
       "version_major": 2,
       "version_minor": 0
      },
      "text/plain": [
       "  0%|          | 0/4 [00:00<?, ?it/s]"
      ]
     },
     "metadata": {},
     "output_type": "display_data"
    },
    {
     "data": {
      "application/vnd.jupyter.widget-view+json": {
       "model_id": "edae154f05d5450ca2aa799dbfedc921",
       "version_major": 2,
       "version_minor": 0
      },
      "text/plain": [
       "  0%|          | 0/4 [00:00<?, ?it/s]"
      ]
     },
     "metadata": {},
     "output_type": "display_data"
    },
    {
     "data": {
      "application/vnd.jupyter.widget-view+json": {
       "model_id": "13a4cf9851a242ecabd6646e15083e91",
       "version_major": 2,
       "version_minor": 0
      },
      "text/plain": [
       "  0%|          | 0/4 [00:00<?, ?it/s]"
      ]
     },
     "metadata": {},
     "output_type": "display_data"
    },
    {
     "data": {
      "application/vnd.jupyter.widget-view+json": {
       "model_id": "294a893d4a6e4738ac188c14b7c39f18",
       "version_major": 2,
       "version_minor": 0
      },
      "text/plain": [
       "  0%|          | 0/4 [00:00<?, ?it/s]"
      ]
     },
     "metadata": {},
     "output_type": "display_data"
    },
    {
     "data": {
      "application/vnd.jupyter.widget-view+json": {
       "model_id": "66c87aabcd2f4c7aa18a230879129089",
       "version_major": 2,
       "version_minor": 0
      },
      "text/plain": [
       "  0%|          | 0/7 [00:00<?, ?it/s]"
      ]
     },
     "metadata": {},
     "output_type": "display_data"
    },
    {
     "data": {
      "application/vnd.jupyter.widget-view+json": {
       "model_id": "00a37de9fcc94adfab72083d3cf66305",
       "version_major": 2,
       "version_minor": 0
      },
      "text/plain": [
       "  0%|          | 0/4 [00:00<?, ?it/s]"
      ]
     },
     "metadata": {},
     "output_type": "display_data"
    },
    {
     "data": {
      "application/vnd.jupyter.widget-view+json": {
       "model_id": "14d939f82a5849c487b9f537febc9114",
       "version_major": 2,
       "version_minor": 0
      },
      "text/plain": [
       "  0%|          | 0/4 [00:00<?, ?it/s]"
      ]
     },
     "metadata": {},
     "output_type": "display_data"
    },
    {
     "data": {
      "application/vnd.jupyter.widget-view+json": {
       "model_id": "c81adb4ba39f4a1a92fe5019bf4bac97",
       "version_major": 2,
       "version_minor": 0
      },
      "text/plain": [
       "  0%|          | 0/4 [00:00<?, ?it/s]"
      ]
     },
     "metadata": {},
     "output_type": "display_data"
    },
    {
     "data": {
      "application/vnd.jupyter.widget-view+json": {
       "model_id": "8237240e66d44cc2b903ce341d2ecd13",
       "version_major": 2,
       "version_minor": 0
      },
      "text/plain": [
       "  0%|          | 0/4 [00:00<?, ?it/s]"
      ]
     },
     "metadata": {},
     "output_type": "display_data"
    },
    {
     "data": {
      "application/vnd.jupyter.widget-view+json": {
       "model_id": "98a17bcac7b7492290b3c8ae62db1e2e",
       "version_major": 2,
       "version_minor": 0
      },
      "text/plain": [
       "  0%|          | 0/4 [00:00<?, ?it/s]"
      ]
     },
     "metadata": {},
     "output_type": "display_data"
    },
    {
     "data": {
      "application/vnd.jupyter.widget-view+json": {
       "model_id": "70b7516295c14318bb9805a86b5596a8",
       "version_major": 2,
       "version_minor": 0
      },
      "text/plain": [
       "  0%|          | 0/4 [00:00<?, ?it/s]"
      ]
     },
     "metadata": {},
     "output_type": "display_data"
    },
    {
     "data": {
      "application/vnd.jupyter.widget-view+json": {
       "model_id": "e00b51de6b9945489f86d78acf4c4898",
       "version_major": 2,
       "version_minor": 0
      },
      "text/plain": [
       "  0%|          | 0/4 [00:00<?, ?it/s]"
      ]
     },
     "metadata": {},
     "output_type": "display_data"
    },
    {
     "data": {
      "application/vnd.jupyter.widget-view+json": {
       "model_id": "48dc0b1d6930460d85c872db50f53bb2",
       "version_major": 2,
       "version_minor": 0
      },
      "text/plain": [
       "  0%|          | 0/7 [00:00<?, ?it/s]"
      ]
     },
     "metadata": {},
     "output_type": "display_data"
    },
    {
     "data": {
      "application/vnd.jupyter.widget-view+json": {
       "model_id": "8283ecdf501e4461ac54e6292cfe8ce6",
       "version_major": 2,
       "version_minor": 0
      },
      "text/plain": [
       "  0%|          | 0/4 [00:00<?, ?it/s]"
      ]
     },
     "metadata": {},
     "output_type": "display_data"
    },
    {
     "data": {
      "application/vnd.jupyter.widget-view+json": {
       "model_id": "19e347383e984e8f87f0b4aa40ca9a36",
       "version_major": 2,
       "version_minor": 0
      },
      "text/plain": [
       "  0%|          | 0/4 [00:00<?, ?it/s]"
      ]
     },
     "metadata": {},
     "output_type": "display_data"
    },
    {
     "data": {
      "application/vnd.jupyter.widget-view+json": {
       "model_id": "ae419f75d29a411c9a41da9dde447321",
       "version_major": 2,
       "version_minor": 0
      },
      "text/plain": [
       "  0%|          | 0/4 [00:00<?, ?it/s]"
      ]
     },
     "metadata": {},
     "output_type": "display_data"
    },
    {
     "data": {
      "application/vnd.jupyter.widget-view+json": {
       "model_id": "a4c44ac387ea4483b5e3226c7018a3f5",
       "version_major": 2,
       "version_minor": 0
      },
      "text/plain": [
       "  0%|          | 0/4 [00:00<?, ?it/s]"
      ]
     },
     "metadata": {},
     "output_type": "display_data"
    },
    {
     "data": {
      "application/vnd.jupyter.widget-view+json": {
       "model_id": "1b30cdd4a7974cf19ebe7a3d42348896",
       "version_major": 2,
       "version_minor": 0
      },
      "text/plain": [
       "  0%|          | 0/4 [00:00<?, ?it/s]"
      ]
     },
     "metadata": {},
     "output_type": "display_data"
    },
    {
     "data": {
      "application/vnd.jupyter.widget-view+json": {
       "model_id": "1ae17956c29d43b0aa8269cb1433b983",
       "version_major": 2,
       "version_minor": 0
      },
      "text/plain": [
       "  0%|          | 0/4 [00:00<?, ?it/s]"
      ]
     },
     "metadata": {},
     "output_type": "display_data"
    },
    {
     "data": {
      "application/vnd.jupyter.widget-view+json": {
       "model_id": "6b6fff84b7374dcb9c5521df80184e97",
       "version_major": 2,
       "version_minor": 0
      },
      "text/plain": [
       "  0%|          | 0/4 [00:00<?, ?it/s]"
      ]
     },
     "metadata": {},
     "output_type": "display_data"
    },
    {
     "data": {
      "application/vnd.jupyter.widget-view+json": {
       "model_id": "deb542621de34d7d91c61d2a732d4870",
       "version_major": 2,
       "version_minor": 0
      },
      "text/plain": [
       "  0%|          | 0/7 [00:00<?, ?it/s]"
      ]
     },
     "metadata": {},
     "output_type": "display_data"
    },
    {
     "data": {
      "application/vnd.jupyter.widget-view+json": {
       "model_id": "bebebbd2544b41d387228876ff4ea570",
       "version_major": 2,
       "version_minor": 0
      },
      "text/plain": [
       "  0%|          | 0/4 [00:00<?, ?it/s]"
      ]
     },
     "metadata": {},
     "output_type": "display_data"
    },
    {
     "data": {
      "application/vnd.jupyter.widget-view+json": {
       "model_id": "e88a42e154d449c3809e72b7496aebfb",
       "version_major": 2,
       "version_minor": 0
      },
      "text/plain": [
       "  0%|          | 0/4 [00:00<?, ?it/s]"
      ]
     },
     "metadata": {},
     "output_type": "display_data"
    },
    {
     "data": {
      "application/vnd.jupyter.widget-view+json": {
       "model_id": "3e0cb604bb64465bb88802ef70e3df5d",
       "version_major": 2,
       "version_minor": 0
      },
      "text/plain": [
       "  0%|          | 0/4 [00:00<?, ?it/s]"
      ]
     },
     "metadata": {},
     "output_type": "display_data"
    },
    {
     "data": {
      "application/vnd.jupyter.widget-view+json": {
       "model_id": "b73599db2a7b4642880a0e93abb6ea13",
       "version_major": 2,
       "version_minor": 0
      },
      "text/plain": [
       "  0%|          | 0/4 [00:00<?, ?it/s]"
      ]
     },
     "metadata": {},
     "output_type": "display_data"
    },
    {
     "data": {
      "application/vnd.jupyter.widget-view+json": {
       "model_id": "0701cbdc17d44188893be4ea597c9eba",
       "version_major": 2,
       "version_minor": 0
      },
      "text/plain": [
       "  0%|          | 0/4 [00:00<?, ?it/s]"
      ]
     },
     "metadata": {},
     "output_type": "display_data"
    },
    {
     "data": {
      "application/vnd.jupyter.widget-view+json": {
       "model_id": "492e2249917c43f5a2a61bf3cc3390c8",
       "version_major": 2,
       "version_minor": 0
      },
      "text/plain": [
       "  0%|          | 0/4 [00:00<?, ?it/s]"
      ]
     },
     "metadata": {},
     "output_type": "display_data"
    },
    {
     "data": {
      "application/vnd.jupyter.widget-view+json": {
       "model_id": "a82384d9c5f84bbb985cba4c169c7fea",
       "version_major": 2,
       "version_minor": 0
      },
      "text/plain": [
       "  0%|          | 0/4 [00:00<?, ?it/s]"
      ]
     },
     "metadata": {},
     "output_type": "display_data"
    },
    {
     "data": {
      "application/vnd.jupyter.widget-view+json": {
       "model_id": "c634aa1008da4ffaa3ce252213d1b2e1",
       "version_major": 2,
       "version_minor": 0
      },
      "text/plain": [
       "  0%|          | 0/7 [00:00<?, ?it/s]"
      ]
     },
     "metadata": {},
     "output_type": "display_data"
    },
    {
     "data": {
      "application/vnd.jupyter.widget-view+json": {
       "model_id": "251c5e67b37b431d98172fc457ccd862",
       "version_major": 2,
       "version_minor": 0
      },
      "text/plain": [
       "  0%|          | 0/4 [00:00<?, ?it/s]"
      ]
     },
     "metadata": {},
     "output_type": "display_data"
    },
    {
     "data": {
      "application/vnd.jupyter.widget-view+json": {
       "model_id": "88c60d89a007462b9ddcaf14a1841ca8",
       "version_major": 2,
       "version_minor": 0
      },
      "text/plain": [
       "  0%|          | 0/4 [00:00<?, ?it/s]"
      ]
     },
     "metadata": {},
     "output_type": "display_data"
    },
    {
     "data": {
      "application/vnd.jupyter.widget-view+json": {
       "model_id": "f2e141e48f3e43e6aea3fb5d1d881da2",
       "version_major": 2,
       "version_minor": 0
      },
      "text/plain": [
       "  0%|          | 0/4 [00:00<?, ?it/s]"
      ]
     },
     "metadata": {},
     "output_type": "display_data"
    },
    {
     "data": {
      "application/vnd.jupyter.widget-view+json": {
       "model_id": "5b09df06906846269ac70c2eb832f84f",
       "version_major": 2,
       "version_minor": 0
      },
      "text/plain": [
       "  0%|          | 0/4 [00:00<?, ?it/s]"
      ]
     },
     "metadata": {},
     "output_type": "display_data"
    },
    {
     "data": {
      "application/vnd.jupyter.widget-view+json": {
       "model_id": "100ff9c83bb343c19e02c4903bb68f45",
       "version_major": 2,
       "version_minor": 0
      },
      "text/plain": [
       "  0%|          | 0/4 [00:00<?, ?it/s]"
      ]
     },
     "metadata": {},
     "output_type": "display_data"
    },
    {
     "data": {
      "application/vnd.jupyter.widget-view+json": {
       "model_id": "4b724c4e3fd24c30ae9e614feb1e491e",
       "version_major": 2,
       "version_minor": 0
      },
      "text/plain": [
       "  0%|          | 0/4 [00:00<?, ?it/s]"
      ]
     },
     "metadata": {},
     "output_type": "display_data"
    },
    {
     "data": {
      "application/vnd.jupyter.widget-view+json": {
       "model_id": "e783324d31f84164a6d91adcdb0831c3",
       "version_major": 2,
       "version_minor": 0
      },
      "text/plain": [
       "  0%|          | 0/4 [00:00<?, ?it/s]"
      ]
     },
     "metadata": {},
     "output_type": "display_data"
    }
   ],
   "source": [
    "cv = MultilabelStratifiedKFold(n_splits=N_SPLITS, random_state=RANDOM_STATE, shuffle=True)\n",
    "\n",
    "X_test_cats = []\n",
    "for cat_encoder_name, cat_encoder in cat_encoders.items():\n",
    "    _, X_test_cat = apply_cat_encoding(\n",
    "        encoder=cat_encoder,\n",
    "        X_train=X_train[CAT_COLS],\n",
    "        Y_train=Y_train,\n",
    "        X_val=test[CAT_COLS],\n",
    "        encoder_name=cat_encoder_name\n",
    "    )\n",
    "    X_test_cats.append(X_test_cat)\n",
    "\n",
    "test_pool = cb.Pool(\n",
    "        data=pd.concat([test, pd.concat(X_test_cats, axis=1)], axis=1),\n",
    "        cat_features=CAT_COLS\n",
    "        )\n",
    "\n",
    "fold = 0\n",
    "for train_idx, val_idx in tqdm(cv.split(X_train, Y_train), total=N_SPLITS):\n",
    "    \n",
    "    X_train_cats, X_val_cats = [], []\n",
    "    for cat_encoder_name, cat_encoder in cat_encoders.items():\n",
    "        X_train_cat, X_val_cat = apply_cat_encoding(\n",
    "            encoder=cat_encoder,\n",
    "            X_train=X_train[CAT_COLS].iloc[train_idx],\n",
    "            Y_train=Y_train.iloc[train_idx],\n",
    "            X_val=X_train[CAT_COLS].iloc[val_idx],\n",
    "            encoder_name=cat_encoder_name\n",
    "            )\n",
    "        X_train_cats.append(X_train_cat)\n",
    "        X_val_cats.append(X_val_cat)\n",
    "\n",
    "    train_pool = cb.Pool(\n",
    "        data=pd.concat([X_train.iloc[train_idx], pd.concat(X_train_cats, axis=1)], axis=1), \n",
    "        label=Y_train.iloc[train_idx],\n",
    "        cat_features=CAT_COLS\n",
    "        )\n",
    "\n",
    "    val_pool = cb.Pool(\n",
    "        data=pd.concat([X_train.iloc[val_idx], pd.concat(X_val_cats, axis=1)], axis=1), \n",
    "        label=Y_train.iloc[val_idx],\n",
    "        cat_features=CAT_COLS\n",
    "        )\n",
    "    \n",
    "    golden_feature_index = str(train_pool.get_feature_names().index('regular_medication_intake'))\n",
    "    for random_seed in tqdm(range(N_RANDOM_SEEDS), total=N_RANDOM_SEEDS):\n",
    "        for depth in tqdm(range(3, 3 + N_DEPTH), total=N_DEPTH):\n",
    "            clf = cb.CatBoostClassifier(\n",
    "                loss_function='MultiLogloss',\n",
    "                # custom_metric=['Recall', 'F1'],\n",
    "                iterations=2000,\n",
    "                silent=True,\n",
    "                depth=depth,\n",
    "                l2_leaf_reg=2.0,\n",
    "                learning_rate=0.003,\n",
    "                early_stopping_rounds=300,\n",
    "                bagging_temperature=1,\n",
    "                per_float_feature_quantization=f'{golden_feature_index}:border_count=2048',\n",
    "                random_seed=random_seed\n",
    "            )\n",
    "\n",
    "            clf.fit(train_pool, eval_set=val_pool, plot=False)\n",
    "            \n",
    "            model_name = f'{EXPERIMENT_NAME}_fold_{fold}_rs_{random_seed}_depth_{depth}.cbm'\n",
    "            model_path = os.path.join(cfg.MODELS_PATH, EXPERIMENT_FAMILY_NAME, EXPERIMENT_NAME)\n",
    "            check_path(model_path)\n",
    "            clf.save_model(os.path.join(model_path, model_name))\n",
    "            \n",
    "            pred_proba_oof.iloc[val_idx, :] += clf.predict_proba(val_pool)\n",
    "            pred_proba_test.iloc[:, :] += clf.predict_proba(test_pool)\n",
    "            gc.collect()\n",
    "\n",
    "    fold += 1\n",
    "pred_proba_oof /= (N_RANDOM_SEEDS * N_DEPTH)\n",
    "pred_proba_test /= (N_SPLITS * N_RANDOM_SEEDS * N_DEPTH)"
   ]
  },
  {
   "cell_type": "markdown",
   "metadata": {},
   "source": [
    "# PREDICT AND SAVE PREDICTIONS"
   ]
  },
  {
   "cell_type": "code",
   "execution_count": 11,
   "metadata": {},
   "outputs": [
    {
     "data": {
      "text/html": [
       "<div>\n",
       "<style scoped>\n",
       "    .dataframe tbody tr th:only-of-type {\n",
       "        vertical-align: middle;\n",
       "    }\n",
       "\n",
       "    .dataframe tbody tr th {\n",
       "        vertical-align: top;\n",
       "    }\n",
       "\n",
       "    .dataframe thead th {\n",
       "        text-align: right;\n",
       "    }\n",
       "</style>\n",
       "<table border=\"1\" class=\"dataframe\">\n",
       "  <thead>\n",
       "    <tr style=\"text-align: right;\">\n",
       "      <th></th>\n",
       "      <th>importance</th>\n",
       "    </tr>\n",
       "  </thead>\n",
       "  <tbody>\n",
       "    <tr>\n",
       "      <th>regular_medication_intake</th>\n",
       "      <td>24.786012</td>\n",
       "    </tr>\n",
       "    <tr>\n",
       "      <th>sex</th>\n",
       "      <td>5.702885</td>\n",
       "    </tr>\n",
       "    <tr>\n",
       "      <th>education</th>\n",
       "      <td>5.260189</td>\n",
       "    </tr>\n",
       "    <tr>\n",
       "      <th>alcohol</th>\n",
       "      <td>4.645285</td>\n",
       "    </tr>\n",
       "    <tr>\n",
       "      <th>profession</th>\n",
       "      <td>4.319670</td>\n",
       "    </tr>\n",
       "    <tr>\n",
       "      <th>family</th>\n",
       "      <td>4.279059</td>\n",
       "    </tr>\n",
       "    <tr>\n",
       "      <th>sleep_time</th>\n",
       "      <td>4.196172</td>\n",
       "    </tr>\n",
       "    <tr>\n",
       "      <th>smoking_status</th>\n",
       "      <td>3.652763</td>\n",
       "    </tr>\n",
       "    <tr>\n",
       "      <th>wake_up_time</th>\n",
       "      <td>3.599756</td>\n",
       "    </tr>\n",
       "    <tr>\n",
       "      <th>passive_smoking_frequency</th>\n",
       "      <td>3.307591</td>\n",
       "    </tr>\n",
       "    <tr>\n",
       "      <th>retired</th>\n",
       "      <td>3.117075</td>\n",
       "    </tr>\n",
       "    <tr>\n",
       "      <th>religion</th>\n",
       "      <td>2.482211</td>\n",
       "    </tr>\n",
       "    <tr>\n",
       "      <th>ethnos</th>\n",
       "      <td>2.355028</td>\n",
       "    </tr>\n",
       "    <tr>\n",
       "      <th>employed</th>\n",
       "      <td>1.621445</td>\n",
       "    </tr>\n",
       "    <tr>\n",
       "      <th>diabetes</th>\n",
       "      <td>1.320968</td>\n",
       "    </tr>\n",
       "    <tr>\n",
       "      <th>nationality</th>\n",
       "      <td>1.191452</td>\n",
       "    </tr>\n",
       "    <tr>\n",
       "      <th>sex_arterial_hypertension_WOE</th>\n",
       "      <td>0.788210</td>\n",
       "    </tr>\n",
       "    <tr>\n",
       "      <th>wake_up_time_angina_pectoris_ischemic_heart_disease_myocardial_infarction_WOE</th>\n",
       "      <td>0.759929</td>\n",
       "    </tr>\n",
       "    <tr>\n",
       "      <th>wake_up_time_heart_failure_WOE</th>\n",
       "      <td>0.719928</td>\n",
       "    </tr>\n",
       "    <tr>\n",
       "      <th>profession_arterial_hypertension_WOE</th>\n",
       "      <td>0.683717</td>\n",
       "    </tr>\n",
       "    <tr>\n",
       "      <th>sleep_time_arterial_hypertension_WOE</th>\n",
       "      <td>0.663139</td>\n",
       "    </tr>\n",
       "    <tr>\n",
       "      <th>education_arterial_hypertension_WOE</th>\n",
       "      <td>0.662080</td>\n",
       "    </tr>\n",
       "    <tr>\n",
       "      <th>education_heart_failure_WOE</th>\n",
       "      <td>0.634922</td>\n",
       "    </tr>\n",
       "    <tr>\n",
       "      <th>profession_angina_pectoris_ischemic_heart_disease_myocardial_infarction_WOE</th>\n",
       "      <td>0.614443</td>\n",
       "    </tr>\n",
       "    <tr>\n",
       "      <th>education_stroke_WOE</th>\n",
       "      <td>0.599666</td>\n",
       "    </tr>\n",
       "  </tbody>\n",
       "</table>\n",
       "</div>"
      ],
      "text/plain": [
       "                                                    importance\n",
       "regular_medication_intake                            24.786012\n",
       "sex                                                   5.702885\n",
       "education                                             5.260189\n",
       "alcohol                                               4.645285\n",
       "profession                                            4.319670\n",
       "family                                                4.279059\n",
       "sleep_time                                            4.196172\n",
       "smoking_status                                        3.652763\n",
       "wake_up_time                                          3.599756\n",
       "passive_smoking_frequency                             3.307591\n",
       "retired                                               3.117075\n",
       "religion                                              2.482211\n",
       "ethnos                                                2.355028\n",
       "employed                                              1.621445\n",
       "diabetes                                              1.320968\n",
       "nationality                                           1.191452\n",
       "sex_arterial_hypertension_WOE                         0.788210\n",
       "wake_up_time_angina_pectoris_ischemic_heart_dis...    0.759929\n",
       "wake_up_time_heart_failure_WOE                        0.719928\n",
       "profession_arterial_hypertension_WOE                  0.683717\n",
       "sleep_time_arterial_hypertension_WOE                  0.663139\n",
       "education_arterial_hypertension_WOE                   0.662080\n",
       "education_heart_failure_WOE                           0.634922\n",
       "profession_angina_pectoris_ischemic_heart_disea...    0.614443\n",
       "education_stroke_WOE                                  0.599666"
      ]
     },
     "execution_count": 11,
     "metadata": {},
     "output_type": "execute_result"
    }
   ],
   "source": [
    "feat_importance = (pd.DataFrame(\n",
    "    data=clf.feature_importances_, \n",
    "    index=clf.feature_names_, \n",
    "    columns=['importance'])\n",
    "    .sort_values('importance', ascending=False)\n",
    ")\n",
    "feat_importance.head(25)"
   ]
  },
  {
   "cell_type": "code",
   "execution_count": 12,
   "metadata": {},
   "outputs": [
    {
     "name": "stdout",
     "output_type": "stream",
     "text": [
      "[0.67534924330617, 0.681348550680293, 0.6110538710627024, 0.6929871377488392, 0.7245280026782489]\n",
      "0.6770533610952507 0.03710798347376895\n"
     ]
    }
   ],
   "source": [
    "tresholds = get_tresholds(train[cfg.TARGETS], pred_proba_oof)\n",
    "sample_submission = pd.read_csv(cfg.SAMPLE_SUBMISSION_PATH).set_index('ID')\n",
    "submission = make_prediction(pred_proba_test, tresholds, sample_submission)"
   ]
  },
  {
   "cell_type": "code",
   "execution_count": 13,
   "metadata": {},
   "outputs": [],
   "source": [
    "## BEST PARAMS\n",
    "# WOE\n",
    "# [0.6948668509895227, 0.6880086897986659, 0.6023630476088527, 0.6930805358381811, 0.7352167707718467]\n",
    "# 0.6827071790014139 0.04357982755536629\n",
    "\n",
    "# RANDOM_STATE = 77\n",
    "# N_SPLITS = 5\n",
    "# N_RANDOM_SEEDS = 7\n",
    "\n",
    "# loss_function='MultiLogloss',\n",
    "#             custom_metric=['Recall', 'F1'],\n",
    "#             iterations=1000,\n",
    "#             silent=True,\n",
    "#             depth=6,\n",
    "#             l2_leaf_reg=2.0,\n",
    "#             learning_rate=0.01,\n",
    "#             early_stopping_rounds=100,\n",
    "#             random_seed=random_seed"
   ]
  },
  {
   "cell_type": "code",
   "execution_count": 14,
   "metadata": {},
   "outputs": [],
   "source": [
    "submission.to_csv(os.path.join(cfg.SUBMISSION_PATH, EXPERIMENT_FAMILY_NAME, f'{EXPERIMENT_NAME}.csv'))\n",
    "pred_proba_oof.to_pickle(os.path.join(cfg.OOF_PRED_PATH, EXPERIMENT_FAMILY_NAME, f'{EXPERIMENT_NAME}.pkl'))\n",
    "pred_proba_test.to_pickle(os.path.join(cfg.TEST_PRED_PATH, EXPERIMENT_FAMILY_NAME, f'{EXPERIMENT_NAME}.pkl'))"
   ]
  }
 ],
 "metadata": {
  "kernelspec": {
   "display_name": "Python 3.9.12 ('base')",
   "language": "python",
   "name": "python3"
  },
  "language_info": {
   "codemirror_mode": {
    "name": "ipython",
    "version": 3
   },
   "file_extension": ".py",
   "mimetype": "text/x-python",
   "name": "python",
   "nbconvert_exporter": "python",
   "pygments_lexer": "ipython3",
   "version": "3.9.12"
  },
  "orig_nbformat": 4,
  "vscode": {
   "interpreter": {
    "hash": "04d48c12bfbca8a14a4066630f6d13e81276286aa1e28ae9f6bc2bde884e5eee"
   }
  }
 },
 "nbformat": 4,
 "nbformat_minor": 2
}
